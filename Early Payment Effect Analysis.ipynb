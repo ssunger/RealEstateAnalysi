{
 "cells": [
  {
   "cell_type": "markdown",
   "metadata": {},
   "source": [
    "# Motivation\n",
    "   \n",
    "Once a mortgage is attained there are options to both make a lump sum payment (up to 15% of the original loan amount) or increasing monthly payments. \n",
    "\n",
    "This results in increasing the principle component of a loan, and thus less interest being paid. However, it also leads to "
   ]
  },
  {
   "cell_type": "code",
   "execution_count": 1,
   "metadata": {},
   "outputs": [],
   "source": [
    "import pandas as pd\n",
    "import numpy as np\n",
    "from plotly import express as px\n",
    "from Calc import *"
   ]
  },
  {
   "cell_type": "markdown",
   "metadata": {},
   "source": [
    "# General Analysis"
   ]
  },
  {
   "cell_type": "markdown",
   "metadata": {},
   "source": [
    "# Specific Mortgage Analysis"
   ]
  },
  {
   "cell_type": "markdown",
   "metadata": {},
   "source": [
    "# Current Costs"
   ]
  },
  {
   "cell_type": "markdown",
   "metadata": {},
   "source": [
    "- Mortgage\n",
    "    - 75K DP on house\n",
    "    - Home Cost 713K\n",
    "    - Int rate 1.55\n",
    "    - Years 25\n",
    "- Property Tax\n",
    "    - 340/month\n",
    "- Maintanence\n",
    "    - 660/month\n",
    "- Othe Costs:\n",
    "    - 1K "
   ]
  },
  {
   "cell_type": "code",
   "execution_count": 46,
   "metadata": {},
   "outputs": [],
   "source": [
    "t = Mortage_Calc(value= 713000, down_payemnt=75000, rate= .0155, years= 25, maintanence_perc= 0.1)"
   ]
  },
  {
   "cell_type": "code",
   "execution_count": 49,
   "metadata": {},
   "outputs": [
    {
     "name": "stdout",
     "output_type": "stream",
     "text": [
      "Cost of Mortgage 2646.17 Monthly and 31754.09 Annualy \n",
      "Cost of Mortgage at 5Y with 3% int is about 3060 Monthly \n"
     ]
    }
   ],
   "source": [
    "m_cost_mort = t.monthly_payment\n",
    "print(f\"Cost of Mortgage {np.round(m_cost_mort, 2)} Monthly and {np.round(m_cost_mort*12, 2)} Annualy \")\n",
    "print(f\"Cost of Mortgage at 5Y with 3% int is about 3060 Monthly \")"
   ]
  },
  {
   "cell_type": "code",
   "execution_count": 13,
   "metadata": {},
   "outputs": [
    {
     "name": "stdout",
     "output_type": "stream",
     "text": [
      "Cost of Living 4646.17 Monthly and 55754.09 Annualy \n"
     ]
    }
   ],
   "source": [
    "m_cost = m_cost_mort + 340 + 660 + 1000\n",
    "print(f\"Cost of Living {np.round(m_cost, 2)} Monthly and {np.round(m_cost*12, 2)} Annualy \")"
   ]
  },
  {
   "cell_type": "code",
   "execution_count": 61,
   "metadata": {},
   "outputs": [],
   "source": [
    "Mort = MortgageData(incrament_val = 10000, num_inc=5, start_val_dp= 25000, start_val=703000,\n",
    "                    incrament_val_dp = 5000, num_inc_dp = 30,\n",
    "                   maintanence_perc= 0.0, years_use = 25, roomate = 0, int_rate = 0.015,\n",
    "                   current_rent= 0, \n",
    "                    annual_housing_market_growth_rate=[i*0.0025 for i in range(8, 19)])\n",
    "\n",
    "sub_values = [15000*i for i in range(3, 16)]\n",
    "Mort.gen_sub_data(sub_values)"
   ]
  },
  {
   "cell_type": "code",
   "execution_count": 62,
   "metadata": {},
   "outputs": [
    {
     "data": {
      "application/vnd.plotly.v1+json": {
       "config": {
        "plotlyServerURL": "https://plot.ly"
       },
       "data": [
        {
         "hovertemplate": "down_pay=60000<br>value_loan=%{x}<br>monthly_pay_with_maintanence=%{y}<extra></extra>",
         "legendgroup": "60000",
         "line": {
          "color": "#636efa",
          "dash": "solid"
         },
         "mode": "lines",
         "name": "60000",
         "orientation": "v",
         "showlegend": true,
         "type": "scatter",
         "x": [
          703000,
          713000,
          723000,
          733000,
          743000
         ],
         "xaxis": "x",
         "y": [
          2674.4542008077606,
          2716.0475787363416,
          2757.6409566649227,
          2799.2343345935037,
          2840.8277125220848
         ],
         "yaxis": "y"
        },
        {
         "hovertemplate": "down_pay=75000<br>value_loan=%{x}<br>monthly_pay_with_maintanence=%{y}<extra></extra>",
         "legendgroup": "75000",
         "line": {
          "color": "#EF553B",
          "dash": "solid"
         },
         "mode": "lines",
         "name": "75000",
         "orientation": "v",
         "showlegend": true,
         "type": "scatter",
         "x": [
          703000,
          713000,
          723000,
          733000,
          743000
         ],
         "xaxis": "x",
         "y": [
          2589.45973275601,
          2630.6931679909785,
          2671.926603225947,
          2713.160038460915,
          2754.3934736958836
         ],
         "yaxis": "y"
        },
        {
         "hovertemplate": "down_pay=90000<br>value_loan=%{x}<br>monthly_pay_with_maintanence=%{y}<extra></extra>",
         "legendgroup": "90000",
         "line": {
          "color": "#00cc96",
          "dash": "solid"
         },
         "mode": "lines",
         "name": "90000",
         "orientation": "v",
         "showlegend": true,
         "type": "scatter",
         "x": [
          703000,
          713000,
          723000,
          733000,
          743000
         ],
         "xaxis": "x",
         "y": [
          2527.609579903558,
          2568.843015138526,
          2610.0764503734945,
          2651.3098856084625,
          2692.543320843431
         ],
         "yaxis": "y"
        },
        {
         "hovertemplate": "down_pay=105000<br>value_loan=%{x}<br>monthly_pay_with_maintanence=%{y}<extra></extra>",
         "legendgroup": "105000",
         "line": {
          "color": "#ab63fa",
          "dash": "solid"
         },
         "mode": "lines",
         "name": "105000",
         "orientation": "v",
         "showlegend": true,
         "type": "scatter",
         "x": [
          703000,
          713000,
          723000,
          733000,
          743000
         ],
         "xaxis": "x",
         "y": [
          2465.7594270511054,
          2506.9928622860734,
          2548.226297521042,
          2589.45973275601,
          2630.6931679909785
         ],
         "yaxis": "y"
        },
        {
         "hovertemplate": "down_pay=120000<br>value_loan=%{x}<br>monthly_pay_with_maintanence=%{y}<extra></extra>",
         "legendgroup": "120000",
         "line": {
          "color": "#FFA15A",
          "dash": "solid"
         },
         "mode": "lines",
         "name": "120000",
         "orientation": "v",
         "showlegend": true,
         "type": "scatter",
         "x": [
          703000,
          713000,
          723000,
          733000,
          743000
         ],
         "xaxis": "x",
         "y": [
          2396.914387852779,
          2438.0278421898765,
          2479.1412965269737,
          2520.254750864071,
          2561.3682052011686
         ],
         "yaxis": "y"
        },
        {
         "hovertemplate": "down_pay=135000<br>value_loan=%{x}<br>monthly_pay_with_maintanence=%{y}<extra></extra>",
         "legendgroup": "135000",
         "line": {
          "color": "#19d3f3",
          "dash": "solid"
         },
         "mode": "lines",
         "name": "135000",
         "orientation": "v",
         "showlegend": true,
         "type": "scatter",
         "x": [
          703000,
          713000,
          723000,
          733000,
          743000
         ],
         "xaxis": "x",
         "y": [
          2335.2442063471326,
          2376.3576606842303,
          2417.4711150213275,
          2458.584569358425,
          2499.6980236955224
         ],
         "yaxis": "y"
        },
        {
         "hovertemplate": "down_pay=150000<br>value_loan=%{x}<br>monthly_pay_with_maintanence=%{y}<extra></extra>",
         "legendgroup": "150000",
         "line": {
          "color": "#FF6692",
          "dash": "solid"
         },
         "mode": "lines",
         "name": "150000",
         "orientation": "v",
         "showlegend": true,
         "type": "scatter",
         "x": [
          703000,
          713000,
          723000,
          733000,
          743000
         ],
         "xaxis": "x",
         "y": [
          2211.6478840870495,
          2251.6415167106848,
          2291.6351493343204,
          2331.628781957956,
          2371.622414581592
         ],
         "yaxis": "y"
        },
        {
         "hovertemplate": "down_pay=165000<br>value_loan=%{x}<br>monthly_pay_with_maintanence=%{y}<extra></extra>",
         "legendgroup": "165000",
         "line": {
          "color": "#B6E880",
          "dash": "solid"
         },
         "mode": "lines",
         "name": "165000",
         "orientation": "v",
         "showlegend": true,
         "type": "scatter",
         "x": [
          703000,
          713000,
          723000,
          733000,
          743000
         ],
         "xaxis": "x",
         "y": [
          2151.657435151596,
          2191.6510677752317,
          2231.644700398867,
          2271.6383330225026,
          2311.6319656461383
         ],
         "yaxis": "y"
        }
       ],
       "layout": {
        "legend": {
         "title": {
          "text": "down_pay"
         },
         "tracegroupgap": 0
        },
        "margin": {
         "t": 60
        },
        "template": {
         "data": {
          "bar": [
           {
            "error_x": {
             "color": "#2a3f5f"
            },
            "error_y": {
             "color": "#2a3f5f"
            },
            "marker": {
             "line": {
              "color": "#E5ECF6",
              "width": 0.5
             }
            },
            "type": "bar"
           }
          ],
          "barpolar": [
           {
            "marker": {
             "line": {
              "color": "#E5ECF6",
              "width": 0.5
             }
            },
            "type": "barpolar"
           }
          ],
          "carpet": [
           {
            "aaxis": {
             "endlinecolor": "#2a3f5f",
             "gridcolor": "white",
             "linecolor": "white",
             "minorgridcolor": "white",
             "startlinecolor": "#2a3f5f"
            },
            "baxis": {
             "endlinecolor": "#2a3f5f",
             "gridcolor": "white",
             "linecolor": "white",
             "minorgridcolor": "white",
             "startlinecolor": "#2a3f5f"
            },
            "type": "carpet"
           }
          ],
          "choropleth": [
           {
            "colorbar": {
             "outlinewidth": 0,
             "ticks": ""
            },
            "type": "choropleth"
           }
          ],
          "contour": [
           {
            "colorbar": {
             "outlinewidth": 0,
             "ticks": ""
            },
            "colorscale": [
             [
              0,
              "#0d0887"
             ],
             [
              0.1111111111111111,
              "#46039f"
             ],
             [
              0.2222222222222222,
              "#7201a8"
             ],
             [
              0.3333333333333333,
              "#9c179e"
             ],
             [
              0.4444444444444444,
              "#bd3786"
             ],
             [
              0.5555555555555556,
              "#d8576b"
             ],
             [
              0.6666666666666666,
              "#ed7953"
             ],
             [
              0.7777777777777778,
              "#fb9f3a"
             ],
             [
              0.8888888888888888,
              "#fdca26"
             ],
             [
              1,
              "#f0f921"
             ]
            ],
            "type": "contour"
           }
          ],
          "contourcarpet": [
           {
            "colorbar": {
             "outlinewidth": 0,
             "ticks": ""
            },
            "type": "contourcarpet"
           }
          ],
          "heatmap": [
           {
            "colorbar": {
             "outlinewidth": 0,
             "ticks": ""
            },
            "colorscale": [
             [
              0,
              "#0d0887"
             ],
             [
              0.1111111111111111,
              "#46039f"
             ],
             [
              0.2222222222222222,
              "#7201a8"
             ],
             [
              0.3333333333333333,
              "#9c179e"
             ],
             [
              0.4444444444444444,
              "#bd3786"
             ],
             [
              0.5555555555555556,
              "#d8576b"
             ],
             [
              0.6666666666666666,
              "#ed7953"
             ],
             [
              0.7777777777777778,
              "#fb9f3a"
             ],
             [
              0.8888888888888888,
              "#fdca26"
             ],
             [
              1,
              "#f0f921"
             ]
            ],
            "type": "heatmap"
           }
          ],
          "heatmapgl": [
           {
            "colorbar": {
             "outlinewidth": 0,
             "ticks": ""
            },
            "colorscale": [
             [
              0,
              "#0d0887"
             ],
             [
              0.1111111111111111,
              "#46039f"
             ],
             [
              0.2222222222222222,
              "#7201a8"
             ],
             [
              0.3333333333333333,
              "#9c179e"
             ],
             [
              0.4444444444444444,
              "#bd3786"
             ],
             [
              0.5555555555555556,
              "#d8576b"
             ],
             [
              0.6666666666666666,
              "#ed7953"
             ],
             [
              0.7777777777777778,
              "#fb9f3a"
             ],
             [
              0.8888888888888888,
              "#fdca26"
             ],
             [
              1,
              "#f0f921"
             ]
            ],
            "type": "heatmapgl"
           }
          ],
          "histogram": [
           {
            "marker": {
             "colorbar": {
              "outlinewidth": 0,
              "ticks": ""
             }
            },
            "type": "histogram"
           }
          ],
          "histogram2d": [
           {
            "colorbar": {
             "outlinewidth": 0,
             "ticks": ""
            },
            "colorscale": [
             [
              0,
              "#0d0887"
             ],
             [
              0.1111111111111111,
              "#46039f"
             ],
             [
              0.2222222222222222,
              "#7201a8"
             ],
             [
              0.3333333333333333,
              "#9c179e"
             ],
             [
              0.4444444444444444,
              "#bd3786"
             ],
             [
              0.5555555555555556,
              "#d8576b"
             ],
             [
              0.6666666666666666,
              "#ed7953"
             ],
             [
              0.7777777777777778,
              "#fb9f3a"
             ],
             [
              0.8888888888888888,
              "#fdca26"
             ],
             [
              1,
              "#f0f921"
             ]
            ],
            "type": "histogram2d"
           }
          ],
          "histogram2dcontour": [
           {
            "colorbar": {
             "outlinewidth": 0,
             "ticks": ""
            },
            "colorscale": [
             [
              0,
              "#0d0887"
             ],
             [
              0.1111111111111111,
              "#46039f"
             ],
             [
              0.2222222222222222,
              "#7201a8"
             ],
             [
              0.3333333333333333,
              "#9c179e"
             ],
             [
              0.4444444444444444,
              "#bd3786"
             ],
             [
              0.5555555555555556,
              "#d8576b"
             ],
             [
              0.6666666666666666,
              "#ed7953"
             ],
             [
              0.7777777777777778,
              "#fb9f3a"
             ],
             [
              0.8888888888888888,
              "#fdca26"
             ],
             [
              1,
              "#f0f921"
             ]
            ],
            "type": "histogram2dcontour"
           }
          ],
          "mesh3d": [
           {
            "colorbar": {
             "outlinewidth": 0,
             "ticks": ""
            },
            "type": "mesh3d"
           }
          ],
          "parcoords": [
           {
            "line": {
             "colorbar": {
              "outlinewidth": 0,
              "ticks": ""
             }
            },
            "type": "parcoords"
           }
          ],
          "pie": [
           {
            "automargin": true,
            "type": "pie"
           }
          ],
          "scatter": [
           {
            "marker": {
             "colorbar": {
              "outlinewidth": 0,
              "ticks": ""
             }
            },
            "type": "scatter"
           }
          ],
          "scatter3d": [
           {
            "line": {
             "colorbar": {
              "outlinewidth": 0,
              "ticks": ""
             }
            },
            "marker": {
             "colorbar": {
              "outlinewidth": 0,
              "ticks": ""
             }
            },
            "type": "scatter3d"
           }
          ],
          "scattercarpet": [
           {
            "marker": {
             "colorbar": {
              "outlinewidth": 0,
              "ticks": ""
             }
            },
            "type": "scattercarpet"
           }
          ],
          "scattergeo": [
           {
            "marker": {
             "colorbar": {
              "outlinewidth": 0,
              "ticks": ""
             }
            },
            "type": "scattergeo"
           }
          ],
          "scattergl": [
           {
            "marker": {
             "colorbar": {
              "outlinewidth": 0,
              "ticks": ""
             }
            },
            "type": "scattergl"
           }
          ],
          "scattermapbox": [
           {
            "marker": {
             "colorbar": {
              "outlinewidth": 0,
              "ticks": ""
             }
            },
            "type": "scattermapbox"
           }
          ],
          "scatterpolar": [
           {
            "marker": {
             "colorbar": {
              "outlinewidth": 0,
              "ticks": ""
             }
            },
            "type": "scatterpolar"
           }
          ],
          "scatterpolargl": [
           {
            "marker": {
             "colorbar": {
              "outlinewidth": 0,
              "ticks": ""
             }
            },
            "type": "scatterpolargl"
           }
          ],
          "scatterternary": [
           {
            "marker": {
             "colorbar": {
              "outlinewidth": 0,
              "ticks": ""
             }
            },
            "type": "scatterternary"
           }
          ],
          "surface": [
           {
            "colorbar": {
             "outlinewidth": 0,
             "ticks": ""
            },
            "colorscale": [
             [
              0,
              "#0d0887"
             ],
             [
              0.1111111111111111,
              "#46039f"
             ],
             [
              0.2222222222222222,
              "#7201a8"
             ],
             [
              0.3333333333333333,
              "#9c179e"
             ],
             [
              0.4444444444444444,
              "#bd3786"
             ],
             [
              0.5555555555555556,
              "#d8576b"
             ],
             [
              0.6666666666666666,
              "#ed7953"
             ],
             [
              0.7777777777777778,
              "#fb9f3a"
             ],
             [
              0.8888888888888888,
              "#fdca26"
             ],
             [
              1,
              "#f0f921"
             ]
            ],
            "type": "surface"
           }
          ],
          "table": [
           {
            "cells": {
             "fill": {
              "color": "#EBF0F8"
             },
             "line": {
              "color": "white"
             }
            },
            "header": {
             "fill": {
              "color": "#C8D4E3"
             },
             "line": {
              "color": "white"
             }
            },
            "type": "table"
           }
          ]
         },
         "layout": {
          "annotationdefaults": {
           "arrowcolor": "#2a3f5f",
           "arrowhead": 0,
           "arrowwidth": 1
          },
          "autotypenumbers": "strict",
          "coloraxis": {
           "colorbar": {
            "outlinewidth": 0,
            "ticks": ""
           }
          },
          "colorscale": {
           "diverging": [
            [
             0,
             "#8e0152"
            ],
            [
             0.1,
             "#c51b7d"
            ],
            [
             0.2,
             "#de77ae"
            ],
            [
             0.3,
             "#f1b6da"
            ],
            [
             0.4,
             "#fde0ef"
            ],
            [
             0.5,
             "#f7f7f7"
            ],
            [
             0.6,
             "#e6f5d0"
            ],
            [
             0.7,
             "#b8e186"
            ],
            [
             0.8,
             "#7fbc41"
            ],
            [
             0.9,
             "#4d9221"
            ],
            [
             1,
             "#276419"
            ]
           ],
           "sequential": [
            [
             0,
             "#0d0887"
            ],
            [
             0.1111111111111111,
             "#46039f"
            ],
            [
             0.2222222222222222,
             "#7201a8"
            ],
            [
             0.3333333333333333,
             "#9c179e"
            ],
            [
             0.4444444444444444,
             "#bd3786"
            ],
            [
             0.5555555555555556,
             "#d8576b"
            ],
            [
             0.6666666666666666,
             "#ed7953"
            ],
            [
             0.7777777777777778,
             "#fb9f3a"
            ],
            [
             0.8888888888888888,
             "#fdca26"
            ],
            [
             1,
             "#f0f921"
            ]
           ],
           "sequentialminus": [
            [
             0,
             "#0d0887"
            ],
            [
             0.1111111111111111,
             "#46039f"
            ],
            [
             0.2222222222222222,
             "#7201a8"
            ],
            [
             0.3333333333333333,
             "#9c179e"
            ],
            [
             0.4444444444444444,
             "#bd3786"
            ],
            [
             0.5555555555555556,
             "#d8576b"
            ],
            [
             0.6666666666666666,
             "#ed7953"
            ],
            [
             0.7777777777777778,
             "#fb9f3a"
            ],
            [
             0.8888888888888888,
             "#fdca26"
            ],
            [
             1,
             "#f0f921"
            ]
           ]
          },
          "colorway": [
           "#636efa",
           "#EF553B",
           "#00cc96",
           "#ab63fa",
           "#FFA15A",
           "#19d3f3",
           "#FF6692",
           "#B6E880",
           "#FF97FF",
           "#FECB52"
          ],
          "font": {
           "color": "#2a3f5f"
          },
          "geo": {
           "bgcolor": "white",
           "lakecolor": "white",
           "landcolor": "#E5ECF6",
           "showlakes": true,
           "showland": true,
           "subunitcolor": "white"
          },
          "hoverlabel": {
           "align": "left"
          },
          "hovermode": "closest",
          "mapbox": {
           "style": "light"
          },
          "paper_bgcolor": "white",
          "plot_bgcolor": "#E5ECF6",
          "polar": {
           "angularaxis": {
            "gridcolor": "white",
            "linecolor": "white",
            "ticks": ""
           },
           "bgcolor": "#E5ECF6",
           "radialaxis": {
            "gridcolor": "white",
            "linecolor": "white",
            "ticks": ""
           }
          },
          "scene": {
           "xaxis": {
            "backgroundcolor": "#E5ECF6",
            "gridcolor": "white",
            "gridwidth": 2,
            "linecolor": "white",
            "showbackground": true,
            "ticks": "",
            "zerolinecolor": "white"
           },
           "yaxis": {
            "backgroundcolor": "#E5ECF6",
            "gridcolor": "white",
            "gridwidth": 2,
            "linecolor": "white",
            "showbackground": true,
            "ticks": "",
            "zerolinecolor": "white"
           },
           "zaxis": {
            "backgroundcolor": "#E5ECF6",
            "gridcolor": "white",
            "gridwidth": 2,
            "linecolor": "white",
            "showbackground": true,
            "ticks": "",
            "zerolinecolor": "white"
           }
          },
          "shapedefaults": {
           "line": {
            "color": "#2a3f5f"
           }
          },
          "ternary": {
           "aaxis": {
            "gridcolor": "white",
            "linecolor": "white",
            "ticks": ""
           },
           "baxis": {
            "gridcolor": "white",
            "linecolor": "white",
            "ticks": ""
           },
           "bgcolor": "#E5ECF6",
           "caxis": {
            "gridcolor": "white",
            "linecolor": "white",
            "ticks": ""
           }
          },
          "title": {
           "x": 0.05
          },
          "xaxis": {
           "automargin": true,
           "gridcolor": "white",
           "linecolor": "white",
           "ticks": "",
           "title": {
            "standoff": 15
           },
           "zerolinecolor": "white",
           "zerolinewidth": 2
          },
          "yaxis": {
           "automargin": true,
           "gridcolor": "white",
           "linecolor": "white",
           "ticks": "",
           "title": {
            "standoff": 15
           },
           "zerolinecolor": "white",
           "zerolinewidth": 2
          }
         }
        },
        "xaxis": {
         "anchor": "y",
         "domain": [
          0,
          1
         ],
         "title": {
          "text": "value_loan"
         }
        },
        "yaxis": {
         "anchor": "x",
         "domain": [
          0,
          1
         ],
         "title": {
          "text": "monthly_pay_with_maintanence"
         }
        }
       }
      },
      "text/html": [
       "<div>                            <div id=\"0271a642-9b57-4a59-8617-e3e9b614418f\" class=\"plotly-graph-div\" style=\"height:525px; width:100%;\"></div>            <script type=\"text/javascript\">                require([\"plotly\"], function(Plotly) {                    window.PLOTLYENV=window.PLOTLYENV || {};                                    if (document.getElementById(\"0271a642-9b57-4a59-8617-e3e9b614418f\")) {                    Plotly.newPlot(                        \"0271a642-9b57-4a59-8617-e3e9b614418f\",                        [{\"hovertemplate\": \"down_pay=60000<br>value_loan=%{x}<br>monthly_pay_with_maintanence=%{y}<extra></extra>\", \"legendgroup\": \"60000\", \"line\": {\"color\": \"#636efa\", \"dash\": \"solid\"}, \"mode\": \"lines\", \"name\": \"60000\", \"orientation\": \"v\", \"showlegend\": true, \"type\": \"scatter\", \"x\": [703000, 713000, 723000, 733000, 743000], \"xaxis\": \"x\", \"y\": [2674.4542008077606, 2716.0475787363416, 2757.6409566649227, 2799.2343345935037, 2840.8277125220848], \"yaxis\": \"y\"}, {\"hovertemplate\": \"down_pay=75000<br>value_loan=%{x}<br>monthly_pay_with_maintanence=%{y}<extra></extra>\", \"legendgroup\": \"75000\", \"line\": {\"color\": \"#EF553B\", \"dash\": \"solid\"}, \"mode\": \"lines\", \"name\": \"75000\", \"orientation\": \"v\", \"showlegend\": true, \"type\": \"scatter\", \"x\": [703000, 713000, 723000, 733000, 743000], \"xaxis\": \"x\", \"y\": [2589.45973275601, 2630.6931679909785, 2671.926603225947, 2713.160038460915, 2754.3934736958836], \"yaxis\": \"y\"}, {\"hovertemplate\": \"down_pay=90000<br>value_loan=%{x}<br>monthly_pay_with_maintanence=%{y}<extra></extra>\", \"legendgroup\": \"90000\", \"line\": {\"color\": \"#00cc96\", \"dash\": \"solid\"}, \"mode\": \"lines\", \"name\": \"90000\", \"orientation\": \"v\", \"showlegend\": true, \"type\": \"scatter\", \"x\": [703000, 713000, 723000, 733000, 743000], \"xaxis\": \"x\", \"y\": [2527.609579903558, 2568.843015138526, 2610.0764503734945, 2651.3098856084625, 2692.543320843431], \"yaxis\": \"y\"}, {\"hovertemplate\": \"down_pay=105000<br>value_loan=%{x}<br>monthly_pay_with_maintanence=%{y}<extra></extra>\", \"legendgroup\": \"105000\", \"line\": {\"color\": \"#ab63fa\", \"dash\": \"solid\"}, \"mode\": \"lines\", \"name\": \"105000\", \"orientation\": \"v\", \"showlegend\": true, \"type\": \"scatter\", \"x\": [703000, 713000, 723000, 733000, 743000], \"xaxis\": \"x\", \"y\": [2465.7594270511054, 2506.9928622860734, 2548.226297521042, 2589.45973275601, 2630.6931679909785], \"yaxis\": \"y\"}, {\"hovertemplate\": \"down_pay=120000<br>value_loan=%{x}<br>monthly_pay_with_maintanence=%{y}<extra></extra>\", \"legendgroup\": \"120000\", \"line\": {\"color\": \"#FFA15A\", \"dash\": \"solid\"}, \"mode\": \"lines\", \"name\": \"120000\", \"orientation\": \"v\", \"showlegend\": true, \"type\": \"scatter\", \"x\": [703000, 713000, 723000, 733000, 743000], \"xaxis\": \"x\", \"y\": [2396.914387852779, 2438.0278421898765, 2479.1412965269737, 2520.254750864071, 2561.3682052011686], \"yaxis\": \"y\"}, {\"hovertemplate\": \"down_pay=135000<br>value_loan=%{x}<br>monthly_pay_with_maintanence=%{y}<extra></extra>\", \"legendgroup\": \"135000\", \"line\": {\"color\": \"#19d3f3\", \"dash\": \"solid\"}, \"mode\": \"lines\", \"name\": \"135000\", \"orientation\": \"v\", \"showlegend\": true, \"type\": \"scatter\", \"x\": [703000, 713000, 723000, 733000, 743000], \"xaxis\": \"x\", \"y\": [2335.2442063471326, 2376.3576606842303, 2417.4711150213275, 2458.584569358425, 2499.6980236955224], \"yaxis\": \"y\"}, {\"hovertemplate\": \"down_pay=150000<br>value_loan=%{x}<br>monthly_pay_with_maintanence=%{y}<extra></extra>\", \"legendgroup\": \"150000\", \"line\": {\"color\": \"#FF6692\", \"dash\": \"solid\"}, \"mode\": \"lines\", \"name\": \"150000\", \"orientation\": \"v\", \"showlegend\": true, \"type\": \"scatter\", \"x\": [703000, 713000, 723000, 733000, 743000], \"xaxis\": \"x\", \"y\": [2211.6478840870495, 2251.6415167106848, 2291.6351493343204, 2331.628781957956, 2371.622414581592], \"yaxis\": \"y\"}, {\"hovertemplate\": \"down_pay=165000<br>value_loan=%{x}<br>monthly_pay_with_maintanence=%{y}<extra></extra>\", \"legendgroup\": \"165000\", \"line\": {\"color\": \"#B6E880\", \"dash\": \"solid\"}, \"mode\": \"lines\", \"name\": \"165000\", \"orientation\": \"v\", \"showlegend\": true, \"type\": \"scatter\", \"x\": [703000, 713000, 723000, 733000, 743000], \"xaxis\": \"x\", \"y\": [2151.657435151596, 2191.6510677752317, 2231.644700398867, 2271.6383330225026, 2311.6319656461383], \"yaxis\": \"y\"}],                        {\"legend\": {\"title\": {\"text\": \"down_pay\"}, \"tracegroupgap\": 0}, \"margin\": {\"t\": 60}, \"template\": {\"data\": {\"bar\": [{\"error_x\": {\"color\": \"#2a3f5f\"}, \"error_y\": {\"color\": \"#2a3f5f\"}, \"marker\": {\"line\": {\"color\": \"#E5ECF6\", \"width\": 0.5}}, \"type\": \"bar\"}], \"barpolar\": [{\"marker\": {\"line\": {\"color\": \"#E5ECF6\", \"width\": 0.5}}, \"type\": \"barpolar\"}], \"carpet\": [{\"aaxis\": {\"endlinecolor\": \"#2a3f5f\", \"gridcolor\": \"white\", \"linecolor\": \"white\", \"minorgridcolor\": \"white\", \"startlinecolor\": \"#2a3f5f\"}, \"baxis\": {\"endlinecolor\": \"#2a3f5f\", \"gridcolor\": \"white\", \"linecolor\": \"white\", \"minorgridcolor\": \"white\", \"startlinecolor\": \"#2a3f5f\"}, \"type\": \"carpet\"}], \"choropleth\": [{\"colorbar\": {\"outlinewidth\": 0, \"ticks\": \"\"}, \"type\": \"choropleth\"}], \"contour\": [{\"colorbar\": {\"outlinewidth\": 0, \"ticks\": \"\"}, \"colorscale\": [[0.0, \"#0d0887\"], [0.1111111111111111, \"#46039f\"], [0.2222222222222222, \"#7201a8\"], [0.3333333333333333, \"#9c179e\"], [0.4444444444444444, \"#bd3786\"], [0.5555555555555556, \"#d8576b\"], [0.6666666666666666, \"#ed7953\"], [0.7777777777777778, \"#fb9f3a\"], [0.8888888888888888, \"#fdca26\"], [1.0, \"#f0f921\"]], \"type\": \"contour\"}], \"contourcarpet\": [{\"colorbar\": {\"outlinewidth\": 0, \"ticks\": \"\"}, \"type\": \"contourcarpet\"}], \"heatmap\": [{\"colorbar\": {\"outlinewidth\": 0, \"ticks\": \"\"}, \"colorscale\": [[0.0, \"#0d0887\"], [0.1111111111111111, \"#46039f\"], [0.2222222222222222, \"#7201a8\"], [0.3333333333333333, \"#9c179e\"], [0.4444444444444444, \"#bd3786\"], [0.5555555555555556, \"#d8576b\"], [0.6666666666666666, \"#ed7953\"], [0.7777777777777778, \"#fb9f3a\"], [0.8888888888888888, \"#fdca26\"], [1.0, \"#f0f921\"]], \"type\": \"heatmap\"}], \"heatmapgl\": [{\"colorbar\": {\"outlinewidth\": 0, \"ticks\": \"\"}, \"colorscale\": [[0.0, \"#0d0887\"], [0.1111111111111111, \"#46039f\"], [0.2222222222222222, \"#7201a8\"], [0.3333333333333333, \"#9c179e\"], [0.4444444444444444, \"#bd3786\"], [0.5555555555555556, \"#d8576b\"], [0.6666666666666666, \"#ed7953\"], [0.7777777777777778, \"#fb9f3a\"], [0.8888888888888888, \"#fdca26\"], [1.0, \"#f0f921\"]], \"type\": \"heatmapgl\"}], \"histogram\": [{\"marker\": {\"colorbar\": {\"outlinewidth\": 0, \"ticks\": \"\"}}, \"type\": \"histogram\"}], \"histogram2d\": [{\"colorbar\": {\"outlinewidth\": 0, \"ticks\": \"\"}, \"colorscale\": [[0.0, \"#0d0887\"], [0.1111111111111111, \"#46039f\"], [0.2222222222222222, \"#7201a8\"], [0.3333333333333333, \"#9c179e\"], [0.4444444444444444, \"#bd3786\"], [0.5555555555555556, \"#d8576b\"], [0.6666666666666666, \"#ed7953\"], [0.7777777777777778, \"#fb9f3a\"], [0.8888888888888888, \"#fdca26\"], [1.0, \"#f0f921\"]], \"type\": \"histogram2d\"}], \"histogram2dcontour\": [{\"colorbar\": {\"outlinewidth\": 0, \"ticks\": \"\"}, \"colorscale\": [[0.0, \"#0d0887\"], [0.1111111111111111, \"#46039f\"], [0.2222222222222222, \"#7201a8\"], [0.3333333333333333, \"#9c179e\"], [0.4444444444444444, \"#bd3786\"], [0.5555555555555556, \"#d8576b\"], [0.6666666666666666, \"#ed7953\"], [0.7777777777777778, \"#fb9f3a\"], [0.8888888888888888, \"#fdca26\"], [1.0, \"#f0f921\"]], \"type\": \"histogram2dcontour\"}], \"mesh3d\": [{\"colorbar\": {\"outlinewidth\": 0, \"ticks\": \"\"}, \"type\": \"mesh3d\"}], \"parcoords\": [{\"line\": {\"colorbar\": {\"outlinewidth\": 0, \"ticks\": \"\"}}, \"type\": \"parcoords\"}], \"pie\": [{\"automargin\": true, \"type\": \"pie\"}], \"scatter\": [{\"marker\": {\"colorbar\": {\"outlinewidth\": 0, \"ticks\": \"\"}}, \"type\": \"scatter\"}], \"scatter3d\": [{\"line\": {\"colorbar\": {\"outlinewidth\": 0, \"ticks\": \"\"}}, \"marker\": {\"colorbar\": {\"outlinewidth\": 0, \"ticks\": \"\"}}, \"type\": \"scatter3d\"}], \"scattercarpet\": [{\"marker\": {\"colorbar\": {\"outlinewidth\": 0, \"ticks\": \"\"}}, \"type\": \"scattercarpet\"}], \"scattergeo\": [{\"marker\": {\"colorbar\": {\"outlinewidth\": 0, \"ticks\": \"\"}}, \"type\": \"scattergeo\"}], \"scattergl\": [{\"marker\": {\"colorbar\": {\"outlinewidth\": 0, \"ticks\": \"\"}}, \"type\": \"scattergl\"}], \"scattermapbox\": [{\"marker\": {\"colorbar\": {\"outlinewidth\": 0, \"ticks\": \"\"}}, \"type\": \"scattermapbox\"}], \"scatterpolar\": [{\"marker\": {\"colorbar\": {\"outlinewidth\": 0, \"ticks\": \"\"}}, \"type\": \"scatterpolar\"}], \"scatterpolargl\": [{\"marker\": {\"colorbar\": {\"outlinewidth\": 0, \"ticks\": \"\"}}, \"type\": \"scatterpolargl\"}], \"scatterternary\": [{\"marker\": {\"colorbar\": {\"outlinewidth\": 0, \"ticks\": \"\"}}, \"type\": \"scatterternary\"}], \"surface\": [{\"colorbar\": {\"outlinewidth\": 0, \"ticks\": \"\"}, \"colorscale\": [[0.0, \"#0d0887\"], [0.1111111111111111, \"#46039f\"], [0.2222222222222222, \"#7201a8\"], [0.3333333333333333, \"#9c179e\"], [0.4444444444444444, \"#bd3786\"], [0.5555555555555556, \"#d8576b\"], [0.6666666666666666, \"#ed7953\"], [0.7777777777777778, \"#fb9f3a\"], [0.8888888888888888, \"#fdca26\"], [1.0, \"#f0f921\"]], \"type\": \"surface\"}], \"table\": [{\"cells\": {\"fill\": {\"color\": \"#EBF0F8\"}, \"line\": {\"color\": \"white\"}}, \"header\": {\"fill\": {\"color\": \"#C8D4E3\"}, \"line\": {\"color\": \"white\"}}, \"type\": \"table\"}]}, \"layout\": {\"annotationdefaults\": {\"arrowcolor\": \"#2a3f5f\", \"arrowhead\": 0, \"arrowwidth\": 1}, \"autotypenumbers\": \"strict\", \"coloraxis\": {\"colorbar\": {\"outlinewidth\": 0, \"ticks\": \"\"}}, \"colorscale\": {\"diverging\": [[0, \"#8e0152\"], [0.1, \"#c51b7d\"], [0.2, \"#de77ae\"], [0.3, \"#f1b6da\"], [0.4, \"#fde0ef\"], [0.5, \"#f7f7f7\"], [0.6, \"#e6f5d0\"], [0.7, \"#b8e186\"], [0.8, \"#7fbc41\"], [0.9, \"#4d9221\"], [1, \"#276419\"]], \"sequential\": [[0.0, \"#0d0887\"], [0.1111111111111111, \"#46039f\"], [0.2222222222222222, \"#7201a8\"], [0.3333333333333333, \"#9c179e\"], [0.4444444444444444, \"#bd3786\"], [0.5555555555555556, \"#d8576b\"], [0.6666666666666666, \"#ed7953\"], [0.7777777777777778, \"#fb9f3a\"], [0.8888888888888888, \"#fdca26\"], [1.0, \"#f0f921\"]], \"sequentialminus\": [[0.0, \"#0d0887\"], [0.1111111111111111, \"#46039f\"], [0.2222222222222222, \"#7201a8\"], [0.3333333333333333, \"#9c179e\"], [0.4444444444444444, \"#bd3786\"], [0.5555555555555556, \"#d8576b\"], [0.6666666666666666, \"#ed7953\"], [0.7777777777777778, \"#fb9f3a\"], [0.8888888888888888, \"#fdca26\"], [1.0, \"#f0f921\"]]}, \"colorway\": [\"#636efa\", \"#EF553B\", \"#00cc96\", \"#ab63fa\", \"#FFA15A\", \"#19d3f3\", \"#FF6692\", \"#B6E880\", \"#FF97FF\", \"#FECB52\"], \"font\": {\"color\": \"#2a3f5f\"}, \"geo\": {\"bgcolor\": \"white\", \"lakecolor\": \"white\", \"landcolor\": \"#E5ECF6\", \"showlakes\": true, \"showland\": true, \"subunitcolor\": \"white\"}, \"hoverlabel\": {\"align\": \"left\"}, \"hovermode\": \"closest\", \"mapbox\": {\"style\": \"light\"}, \"paper_bgcolor\": \"white\", \"plot_bgcolor\": \"#E5ECF6\", \"polar\": {\"angularaxis\": {\"gridcolor\": \"white\", \"linecolor\": \"white\", \"ticks\": \"\"}, \"bgcolor\": \"#E5ECF6\", \"radialaxis\": {\"gridcolor\": \"white\", \"linecolor\": \"white\", \"ticks\": \"\"}}, \"scene\": {\"xaxis\": {\"backgroundcolor\": \"#E5ECF6\", \"gridcolor\": \"white\", \"gridwidth\": 2, \"linecolor\": \"white\", \"showbackground\": true, \"ticks\": \"\", \"zerolinecolor\": \"white\"}, \"yaxis\": {\"backgroundcolor\": \"#E5ECF6\", \"gridcolor\": \"white\", \"gridwidth\": 2, \"linecolor\": \"white\", \"showbackground\": true, \"ticks\": \"\", \"zerolinecolor\": \"white\"}, \"zaxis\": {\"backgroundcolor\": \"#E5ECF6\", \"gridcolor\": \"white\", \"gridwidth\": 2, \"linecolor\": \"white\", \"showbackground\": true, \"ticks\": \"\", \"zerolinecolor\": \"white\"}}, \"shapedefaults\": {\"line\": {\"color\": \"#2a3f5f\"}}, \"ternary\": {\"aaxis\": {\"gridcolor\": \"white\", \"linecolor\": \"white\", \"ticks\": \"\"}, \"baxis\": {\"gridcolor\": \"white\", \"linecolor\": \"white\", \"ticks\": \"\"}, \"bgcolor\": \"#E5ECF6\", \"caxis\": {\"gridcolor\": \"white\", \"linecolor\": \"white\", \"ticks\": \"\"}}, \"title\": {\"x\": 0.05}, \"xaxis\": {\"automargin\": true, \"gridcolor\": \"white\", \"linecolor\": \"white\", \"ticks\": \"\", \"title\": {\"standoff\": 15}, \"zerolinecolor\": \"white\", \"zerolinewidth\": 2}, \"yaxis\": {\"automargin\": true, \"gridcolor\": \"white\", \"linecolor\": \"white\", \"ticks\": \"\", \"title\": {\"standoff\": 15}, \"zerolinecolor\": \"white\", \"zerolinewidth\": 2}}}, \"xaxis\": {\"anchor\": \"y\", \"domain\": [0.0, 1.0], \"title\": {\"text\": \"value_loan\"}}, \"yaxis\": {\"anchor\": \"x\", \"domain\": [0.0, 1.0], \"title\": {\"text\": \"monthly_pay_with_maintanence\"}}},                        {\"responsive\": true}                    ).then(function(){\n",
       "                            \n",
       "var gd = document.getElementById('0271a642-9b57-4a59-8617-e3e9b614418f');\n",
       "var x = new MutationObserver(function (mutations, observer) {{\n",
       "        var display = window.getComputedStyle(gd).display;\n",
       "        if (!display || display === 'none') {{\n",
       "            console.log([gd, 'removed!']);\n",
       "            Plotly.purge(gd);\n",
       "            observer.disconnect();\n",
       "        }}\n",
       "}});\n",
       "\n",
       "// Listen for the removal of the full notebook cells\n",
       "var notebookContainer = gd.closest('#notebook-container');\n",
       "if (notebookContainer) {{\n",
       "    x.observe(notebookContainer, {childList: true});\n",
       "}}\n",
       "\n",
       "// Listen for the clearing of the current output cell\n",
       "var outputEl = gd.closest('.output');\n",
       "if (outputEl) {{\n",
       "    x.observe(outputEl, {childList: true});\n",
       "}}\n",
       "\n",
       "                        })                };                });            </script>        </div>"
      ]
     },
     "metadata": {},
     "output_type": "display_data"
    }
   ],
   "source": [
    "Mort.plot_x_value_loan(\"monthly_pay_with_maintanence\", \"down_pay\")"
   ]
  },
  {
   "cell_type": "code",
   "execution_count": 65,
   "metadata": {},
   "outputs": [
    {
     "data": {
      "application/vnd.plotly.v1+json": {
       "config": {
        "plotlyServerURL": "https://plot.ly"
       },
       "data": [
        {
         "hovertemplate": "down_pay=60000<br>value_loan=%{x}<br>two_year_cum_eq=%{y}<extra></extra>",
         "legendgroup": "60000",
         "line": {
          "color": "#636efa",
          "dash": "solid"
         },
         "mode": "lines",
         "name": "60000",
         "orientation": "v",
         "showlegend": true,
         "type": "scatter",
         "x": [
          703000,
          713000,
          723000,
          733000,
          743000
         ],
         "xaxis": "x",
         "y": [
          44765.45,
          45461.65,
          46157.85,
          46854.04,
          47550.25
         ],
         "yaxis": "y"
        },
        {
         "hovertemplate": "down_pay=75000<br>value_loan=%{x}<br>two_year_cum_eq=%{y}<extra></extra>",
         "legendgroup": "75000",
         "line": {
          "color": "#EF553B",
          "dash": "solid"
         },
         "mode": "lines",
         "name": "75000",
         "orientation": "v",
         "showlegend": true,
         "type": "scatter",
         "x": [
          703000,
          713000,
          723000,
          733000,
          743000
         ],
         "xaxis": "x",
         "y": [
          43342.8,
          44032.98,
          44723.15,
          45413.32,
          46103.49
         ],
         "yaxis": "y"
        },
        {
         "hovertemplate": "down_pay=90000<br>value_loan=%{x}<br>two_year_cum_eq=%{y}<extra></extra>",
         "legendgroup": "90000",
         "line": {
          "color": "#00cc96",
          "dash": "solid"
         },
         "mode": "lines",
         "name": "90000",
         "orientation": "v",
         "showlegend": true,
         "type": "scatter",
         "x": [
          703000,
          713000,
          723000,
          733000,
          743000
         ],
         "xaxis": "x",
         "y": [
          42307.55,
          42997.72,
          43687.88,
          44378.06,
          45068.23
         ],
         "yaxis": "y"
        },
        {
         "hovertemplate": "down_pay=105000<br>value_loan=%{x}<br>two_year_cum_eq=%{y}<extra></extra>",
         "legendgroup": "105000",
         "line": {
          "color": "#ab63fa",
          "dash": "solid"
         },
         "mode": "lines",
         "name": "105000",
         "orientation": "v",
         "showlegend": true,
         "type": "scatter",
         "x": [
          703000,
          713000,
          723000,
          733000,
          743000
         ],
         "xaxis": "x",
         "y": [
          41272.29,
          41962.46,
          42652.63,
          43342.8,
          44032.98
         ],
         "yaxis": "y"
        },
        {
         "hovertemplate": "down_pay=120000<br>value_loan=%{x}<br>two_year_cum_eq=%{y}<extra></extra>",
         "legendgroup": "120000",
         "line": {
          "color": "#FFA15A",
          "dash": "solid"
         },
         "mode": "lines",
         "name": "120000",
         "orientation": "v",
         "showlegend": true,
         "type": "scatter",
         "x": [
          703000,
          713000,
          723000,
          733000,
          743000
         ],
         "xaxis": "x",
         "y": [
          40119.95,
          40808.11,
          41496.27,
          42184.43,
          42872.61
         ],
         "yaxis": "y"
        },
        {
         "hovertemplate": "down_pay=135000<br>value_loan=%{x}<br>two_year_cum_eq=%{y}<extra></extra>",
         "legendgroup": "135000",
         "line": {
          "color": "#19d3f3",
          "dash": "solid"
         },
         "mode": "lines",
         "name": "135000",
         "orientation": "v",
         "showlegend": true,
         "type": "scatter",
         "x": [
          703000,
          713000,
          723000,
          733000,
          743000
         ],
         "xaxis": "x",
         "y": [
          39087.7,
          39775.86,
          40464.03,
          41152.19,
          41840.35
         ],
         "yaxis": "y"
        },
        {
         "hovertemplate": "down_pay=150000<br>value_loan=%{x}<br>two_year_cum_eq=%{y}<extra></extra>",
         "legendgroup": "150000",
         "line": {
          "color": "#FF6692",
          "dash": "solid"
         },
         "mode": "lines",
         "name": "150000",
         "orientation": "v",
         "showlegend": true,
         "type": "scatter",
         "x": [
          703000,
          713000,
          723000,
          733000,
          743000
         ],
         "xaxis": "x",
         "y": [
          37018.93,
          37688.35,
          38357.76,
          39027.19,
          39696.61
         ],
         "yaxis": "y"
        },
        {
         "hovertemplate": "down_pay=165000<br>value_loan=%{x}<br>two_year_cum_eq=%{y}<extra></extra>",
         "legendgroup": "165000",
         "line": {
          "color": "#B6E880",
          "dash": "solid"
         },
         "mode": "lines",
         "name": "165000",
         "orientation": "v",
         "showlegend": true,
         "type": "scatter",
         "x": [
          703000,
          713000,
          723000,
          733000,
          743000
         ],
         "xaxis": "x",
         "y": [
          36014.8,
          36684.22,
          37353.63,
          38023.06,
          38692.48
         ],
         "yaxis": "y"
        }
       ],
       "layout": {
        "legend": {
         "title": {
          "text": "down_pay"
         },
         "tracegroupgap": 0
        },
        "margin": {
         "t": 60
        },
        "template": {
         "data": {
          "bar": [
           {
            "error_x": {
             "color": "#2a3f5f"
            },
            "error_y": {
             "color": "#2a3f5f"
            },
            "marker": {
             "line": {
              "color": "#E5ECF6",
              "width": 0.5
             }
            },
            "type": "bar"
           }
          ],
          "barpolar": [
           {
            "marker": {
             "line": {
              "color": "#E5ECF6",
              "width": 0.5
             }
            },
            "type": "barpolar"
           }
          ],
          "carpet": [
           {
            "aaxis": {
             "endlinecolor": "#2a3f5f",
             "gridcolor": "white",
             "linecolor": "white",
             "minorgridcolor": "white",
             "startlinecolor": "#2a3f5f"
            },
            "baxis": {
             "endlinecolor": "#2a3f5f",
             "gridcolor": "white",
             "linecolor": "white",
             "minorgridcolor": "white",
             "startlinecolor": "#2a3f5f"
            },
            "type": "carpet"
           }
          ],
          "choropleth": [
           {
            "colorbar": {
             "outlinewidth": 0,
             "ticks": ""
            },
            "type": "choropleth"
           }
          ],
          "contour": [
           {
            "colorbar": {
             "outlinewidth": 0,
             "ticks": ""
            },
            "colorscale": [
             [
              0,
              "#0d0887"
             ],
             [
              0.1111111111111111,
              "#46039f"
             ],
             [
              0.2222222222222222,
              "#7201a8"
             ],
             [
              0.3333333333333333,
              "#9c179e"
             ],
             [
              0.4444444444444444,
              "#bd3786"
             ],
             [
              0.5555555555555556,
              "#d8576b"
             ],
             [
              0.6666666666666666,
              "#ed7953"
             ],
             [
              0.7777777777777778,
              "#fb9f3a"
             ],
             [
              0.8888888888888888,
              "#fdca26"
             ],
             [
              1,
              "#f0f921"
             ]
            ],
            "type": "contour"
           }
          ],
          "contourcarpet": [
           {
            "colorbar": {
             "outlinewidth": 0,
             "ticks": ""
            },
            "type": "contourcarpet"
           }
          ],
          "heatmap": [
           {
            "colorbar": {
             "outlinewidth": 0,
             "ticks": ""
            },
            "colorscale": [
             [
              0,
              "#0d0887"
             ],
             [
              0.1111111111111111,
              "#46039f"
             ],
             [
              0.2222222222222222,
              "#7201a8"
             ],
             [
              0.3333333333333333,
              "#9c179e"
             ],
             [
              0.4444444444444444,
              "#bd3786"
             ],
             [
              0.5555555555555556,
              "#d8576b"
             ],
             [
              0.6666666666666666,
              "#ed7953"
             ],
             [
              0.7777777777777778,
              "#fb9f3a"
             ],
             [
              0.8888888888888888,
              "#fdca26"
             ],
             [
              1,
              "#f0f921"
             ]
            ],
            "type": "heatmap"
           }
          ],
          "heatmapgl": [
           {
            "colorbar": {
             "outlinewidth": 0,
             "ticks": ""
            },
            "colorscale": [
             [
              0,
              "#0d0887"
             ],
             [
              0.1111111111111111,
              "#46039f"
             ],
             [
              0.2222222222222222,
              "#7201a8"
             ],
             [
              0.3333333333333333,
              "#9c179e"
             ],
             [
              0.4444444444444444,
              "#bd3786"
             ],
             [
              0.5555555555555556,
              "#d8576b"
             ],
             [
              0.6666666666666666,
              "#ed7953"
             ],
             [
              0.7777777777777778,
              "#fb9f3a"
             ],
             [
              0.8888888888888888,
              "#fdca26"
             ],
             [
              1,
              "#f0f921"
             ]
            ],
            "type": "heatmapgl"
           }
          ],
          "histogram": [
           {
            "marker": {
             "colorbar": {
              "outlinewidth": 0,
              "ticks": ""
             }
            },
            "type": "histogram"
           }
          ],
          "histogram2d": [
           {
            "colorbar": {
             "outlinewidth": 0,
             "ticks": ""
            },
            "colorscale": [
             [
              0,
              "#0d0887"
             ],
             [
              0.1111111111111111,
              "#46039f"
             ],
             [
              0.2222222222222222,
              "#7201a8"
             ],
             [
              0.3333333333333333,
              "#9c179e"
             ],
             [
              0.4444444444444444,
              "#bd3786"
             ],
             [
              0.5555555555555556,
              "#d8576b"
             ],
             [
              0.6666666666666666,
              "#ed7953"
             ],
             [
              0.7777777777777778,
              "#fb9f3a"
             ],
             [
              0.8888888888888888,
              "#fdca26"
             ],
             [
              1,
              "#f0f921"
             ]
            ],
            "type": "histogram2d"
           }
          ],
          "histogram2dcontour": [
           {
            "colorbar": {
             "outlinewidth": 0,
             "ticks": ""
            },
            "colorscale": [
             [
              0,
              "#0d0887"
             ],
             [
              0.1111111111111111,
              "#46039f"
             ],
             [
              0.2222222222222222,
              "#7201a8"
             ],
             [
              0.3333333333333333,
              "#9c179e"
             ],
             [
              0.4444444444444444,
              "#bd3786"
             ],
             [
              0.5555555555555556,
              "#d8576b"
             ],
             [
              0.6666666666666666,
              "#ed7953"
             ],
             [
              0.7777777777777778,
              "#fb9f3a"
             ],
             [
              0.8888888888888888,
              "#fdca26"
             ],
             [
              1,
              "#f0f921"
             ]
            ],
            "type": "histogram2dcontour"
           }
          ],
          "mesh3d": [
           {
            "colorbar": {
             "outlinewidth": 0,
             "ticks": ""
            },
            "type": "mesh3d"
           }
          ],
          "parcoords": [
           {
            "line": {
             "colorbar": {
              "outlinewidth": 0,
              "ticks": ""
             }
            },
            "type": "parcoords"
           }
          ],
          "pie": [
           {
            "automargin": true,
            "type": "pie"
           }
          ],
          "scatter": [
           {
            "marker": {
             "colorbar": {
              "outlinewidth": 0,
              "ticks": ""
             }
            },
            "type": "scatter"
           }
          ],
          "scatter3d": [
           {
            "line": {
             "colorbar": {
              "outlinewidth": 0,
              "ticks": ""
             }
            },
            "marker": {
             "colorbar": {
              "outlinewidth": 0,
              "ticks": ""
             }
            },
            "type": "scatter3d"
           }
          ],
          "scattercarpet": [
           {
            "marker": {
             "colorbar": {
              "outlinewidth": 0,
              "ticks": ""
             }
            },
            "type": "scattercarpet"
           }
          ],
          "scattergeo": [
           {
            "marker": {
             "colorbar": {
              "outlinewidth": 0,
              "ticks": ""
             }
            },
            "type": "scattergeo"
           }
          ],
          "scattergl": [
           {
            "marker": {
             "colorbar": {
              "outlinewidth": 0,
              "ticks": ""
             }
            },
            "type": "scattergl"
           }
          ],
          "scattermapbox": [
           {
            "marker": {
             "colorbar": {
              "outlinewidth": 0,
              "ticks": ""
             }
            },
            "type": "scattermapbox"
           }
          ],
          "scatterpolar": [
           {
            "marker": {
             "colorbar": {
              "outlinewidth": 0,
              "ticks": ""
             }
            },
            "type": "scatterpolar"
           }
          ],
          "scatterpolargl": [
           {
            "marker": {
             "colorbar": {
              "outlinewidth": 0,
              "ticks": ""
             }
            },
            "type": "scatterpolargl"
           }
          ],
          "scatterternary": [
           {
            "marker": {
             "colorbar": {
              "outlinewidth": 0,
              "ticks": ""
             }
            },
            "type": "scatterternary"
           }
          ],
          "surface": [
           {
            "colorbar": {
             "outlinewidth": 0,
             "ticks": ""
            },
            "colorscale": [
             [
              0,
              "#0d0887"
             ],
             [
              0.1111111111111111,
              "#46039f"
             ],
             [
              0.2222222222222222,
              "#7201a8"
             ],
             [
              0.3333333333333333,
              "#9c179e"
             ],
             [
              0.4444444444444444,
              "#bd3786"
             ],
             [
              0.5555555555555556,
              "#d8576b"
             ],
             [
              0.6666666666666666,
              "#ed7953"
             ],
             [
              0.7777777777777778,
              "#fb9f3a"
             ],
             [
              0.8888888888888888,
              "#fdca26"
             ],
             [
              1,
              "#f0f921"
             ]
            ],
            "type": "surface"
           }
          ],
          "table": [
           {
            "cells": {
             "fill": {
              "color": "#EBF0F8"
             },
             "line": {
              "color": "white"
             }
            },
            "header": {
             "fill": {
              "color": "#C8D4E3"
             },
             "line": {
              "color": "white"
             }
            },
            "type": "table"
           }
          ]
         },
         "layout": {
          "annotationdefaults": {
           "arrowcolor": "#2a3f5f",
           "arrowhead": 0,
           "arrowwidth": 1
          },
          "autotypenumbers": "strict",
          "coloraxis": {
           "colorbar": {
            "outlinewidth": 0,
            "ticks": ""
           }
          },
          "colorscale": {
           "diverging": [
            [
             0,
             "#8e0152"
            ],
            [
             0.1,
             "#c51b7d"
            ],
            [
             0.2,
             "#de77ae"
            ],
            [
             0.3,
             "#f1b6da"
            ],
            [
             0.4,
             "#fde0ef"
            ],
            [
             0.5,
             "#f7f7f7"
            ],
            [
             0.6,
             "#e6f5d0"
            ],
            [
             0.7,
             "#b8e186"
            ],
            [
             0.8,
             "#7fbc41"
            ],
            [
             0.9,
             "#4d9221"
            ],
            [
             1,
             "#276419"
            ]
           ],
           "sequential": [
            [
             0,
             "#0d0887"
            ],
            [
             0.1111111111111111,
             "#46039f"
            ],
            [
             0.2222222222222222,
             "#7201a8"
            ],
            [
             0.3333333333333333,
             "#9c179e"
            ],
            [
             0.4444444444444444,
             "#bd3786"
            ],
            [
             0.5555555555555556,
             "#d8576b"
            ],
            [
             0.6666666666666666,
             "#ed7953"
            ],
            [
             0.7777777777777778,
             "#fb9f3a"
            ],
            [
             0.8888888888888888,
             "#fdca26"
            ],
            [
             1,
             "#f0f921"
            ]
           ],
           "sequentialminus": [
            [
             0,
             "#0d0887"
            ],
            [
             0.1111111111111111,
             "#46039f"
            ],
            [
             0.2222222222222222,
             "#7201a8"
            ],
            [
             0.3333333333333333,
             "#9c179e"
            ],
            [
             0.4444444444444444,
             "#bd3786"
            ],
            [
             0.5555555555555556,
             "#d8576b"
            ],
            [
             0.6666666666666666,
             "#ed7953"
            ],
            [
             0.7777777777777778,
             "#fb9f3a"
            ],
            [
             0.8888888888888888,
             "#fdca26"
            ],
            [
             1,
             "#f0f921"
            ]
           ]
          },
          "colorway": [
           "#636efa",
           "#EF553B",
           "#00cc96",
           "#ab63fa",
           "#FFA15A",
           "#19d3f3",
           "#FF6692",
           "#B6E880",
           "#FF97FF",
           "#FECB52"
          ],
          "font": {
           "color": "#2a3f5f"
          },
          "geo": {
           "bgcolor": "white",
           "lakecolor": "white",
           "landcolor": "#E5ECF6",
           "showlakes": true,
           "showland": true,
           "subunitcolor": "white"
          },
          "hoverlabel": {
           "align": "left"
          },
          "hovermode": "closest",
          "mapbox": {
           "style": "light"
          },
          "paper_bgcolor": "white",
          "plot_bgcolor": "#E5ECF6",
          "polar": {
           "angularaxis": {
            "gridcolor": "white",
            "linecolor": "white",
            "ticks": ""
           },
           "bgcolor": "#E5ECF6",
           "radialaxis": {
            "gridcolor": "white",
            "linecolor": "white",
            "ticks": ""
           }
          },
          "scene": {
           "xaxis": {
            "backgroundcolor": "#E5ECF6",
            "gridcolor": "white",
            "gridwidth": 2,
            "linecolor": "white",
            "showbackground": true,
            "ticks": "",
            "zerolinecolor": "white"
           },
           "yaxis": {
            "backgroundcolor": "#E5ECF6",
            "gridcolor": "white",
            "gridwidth": 2,
            "linecolor": "white",
            "showbackground": true,
            "ticks": "",
            "zerolinecolor": "white"
           },
           "zaxis": {
            "backgroundcolor": "#E5ECF6",
            "gridcolor": "white",
            "gridwidth": 2,
            "linecolor": "white",
            "showbackground": true,
            "ticks": "",
            "zerolinecolor": "white"
           }
          },
          "shapedefaults": {
           "line": {
            "color": "#2a3f5f"
           }
          },
          "ternary": {
           "aaxis": {
            "gridcolor": "white",
            "linecolor": "white",
            "ticks": ""
           },
           "baxis": {
            "gridcolor": "white",
            "linecolor": "white",
            "ticks": ""
           },
           "bgcolor": "#E5ECF6",
           "caxis": {
            "gridcolor": "white",
            "linecolor": "white",
            "ticks": ""
           }
          },
          "title": {
           "x": 0.05
          },
          "xaxis": {
           "automargin": true,
           "gridcolor": "white",
           "linecolor": "white",
           "ticks": "",
           "title": {
            "standoff": 15
           },
           "zerolinecolor": "white",
           "zerolinewidth": 2
          },
          "yaxis": {
           "automargin": true,
           "gridcolor": "white",
           "linecolor": "white",
           "ticks": "",
           "title": {
            "standoff": 15
           },
           "zerolinecolor": "white",
           "zerolinewidth": 2
          }
         }
        },
        "xaxis": {
         "anchor": "y",
         "domain": [
          0,
          1
         ],
         "title": {
          "text": "value_loan"
         }
        },
        "yaxis": {
         "anchor": "x",
         "domain": [
          0,
          1
         ],
         "title": {
          "text": "two_year_cum_eq"
         }
        }
       }
      },
      "text/html": [
       "<div>                            <div id=\"596798ff-6739-4d8d-85d8-f5589273b636\" class=\"plotly-graph-div\" style=\"height:525px; width:100%;\"></div>            <script type=\"text/javascript\">                require([\"plotly\"], function(Plotly) {                    window.PLOTLYENV=window.PLOTLYENV || {};                                    if (document.getElementById(\"596798ff-6739-4d8d-85d8-f5589273b636\")) {                    Plotly.newPlot(                        \"596798ff-6739-4d8d-85d8-f5589273b636\",                        [{\"hovertemplate\": \"down_pay=60000<br>value_loan=%{x}<br>two_year_cum_eq=%{y}<extra></extra>\", \"legendgroup\": \"60000\", \"line\": {\"color\": \"#636efa\", \"dash\": \"solid\"}, \"mode\": \"lines\", \"name\": \"60000\", \"orientation\": \"v\", \"showlegend\": true, \"type\": \"scatter\", \"x\": [703000, 713000, 723000, 733000, 743000], \"xaxis\": \"x\", \"y\": [44765.45, 45461.65, 46157.85, 46854.04, 47550.25], \"yaxis\": \"y\"}, {\"hovertemplate\": \"down_pay=75000<br>value_loan=%{x}<br>two_year_cum_eq=%{y}<extra></extra>\", \"legendgroup\": \"75000\", \"line\": {\"color\": \"#EF553B\", \"dash\": \"solid\"}, \"mode\": \"lines\", \"name\": \"75000\", \"orientation\": \"v\", \"showlegend\": true, \"type\": \"scatter\", \"x\": [703000, 713000, 723000, 733000, 743000], \"xaxis\": \"x\", \"y\": [43342.8, 44032.98, 44723.15, 45413.32, 46103.49], \"yaxis\": \"y\"}, {\"hovertemplate\": \"down_pay=90000<br>value_loan=%{x}<br>two_year_cum_eq=%{y}<extra></extra>\", \"legendgroup\": \"90000\", \"line\": {\"color\": \"#00cc96\", \"dash\": \"solid\"}, \"mode\": \"lines\", \"name\": \"90000\", \"orientation\": \"v\", \"showlegend\": true, \"type\": \"scatter\", \"x\": [703000, 713000, 723000, 733000, 743000], \"xaxis\": \"x\", \"y\": [42307.55, 42997.72, 43687.88, 44378.06, 45068.23], \"yaxis\": \"y\"}, {\"hovertemplate\": \"down_pay=105000<br>value_loan=%{x}<br>two_year_cum_eq=%{y}<extra></extra>\", \"legendgroup\": \"105000\", \"line\": {\"color\": \"#ab63fa\", \"dash\": \"solid\"}, \"mode\": \"lines\", \"name\": \"105000\", \"orientation\": \"v\", \"showlegend\": true, \"type\": \"scatter\", \"x\": [703000, 713000, 723000, 733000, 743000], \"xaxis\": \"x\", \"y\": [41272.29, 41962.46, 42652.63, 43342.8, 44032.98], \"yaxis\": \"y\"}, {\"hovertemplate\": \"down_pay=120000<br>value_loan=%{x}<br>two_year_cum_eq=%{y}<extra></extra>\", \"legendgroup\": \"120000\", \"line\": {\"color\": \"#FFA15A\", \"dash\": \"solid\"}, \"mode\": \"lines\", \"name\": \"120000\", \"orientation\": \"v\", \"showlegend\": true, \"type\": \"scatter\", \"x\": [703000, 713000, 723000, 733000, 743000], \"xaxis\": \"x\", \"y\": [40119.95, 40808.11, 41496.27, 42184.43, 42872.61], \"yaxis\": \"y\"}, {\"hovertemplate\": \"down_pay=135000<br>value_loan=%{x}<br>two_year_cum_eq=%{y}<extra></extra>\", \"legendgroup\": \"135000\", \"line\": {\"color\": \"#19d3f3\", \"dash\": \"solid\"}, \"mode\": \"lines\", \"name\": \"135000\", \"orientation\": \"v\", \"showlegend\": true, \"type\": \"scatter\", \"x\": [703000, 713000, 723000, 733000, 743000], \"xaxis\": \"x\", \"y\": [39087.7, 39775.86, 40464.03, 41152.19, 41840.35], \"yaxis\": \"y\"}, {\"hovertemplate\": \"down_pay=150000<br>value_loan=%{x}<br>two_year_cum_eq=%{y}<extra></extra>\", \"legendgroup\": \"150000\", \"line\": {\"color\": \"#FF6692\", \"dash\": \"solid\"}, \"mode\": \"lines\", \"name\": \"150000\", \"orientation\": \"v\", \"showlegend\": true, \"type\": \"scatter\", \"x\": [703000, 713000, 723000, 733000, 743000], \"xaxis\": \"x\", \"y\": [37018.93, 37688.35, 38357.76, 39027.19, 39696.61], \"yaxis\": \"y\"}, {\"hovertemplate\": \"down_pay=165000<br>value_loan=%{x}<br>two_year_cum_eq=%{y}<extra></extra>\", \"legendgroup\": \"165000\", \"line\": {\"color\": \"#B6E880\", \"dash\": \"solid\"}, \"mode\": \"lines\", \"name\": \"165000\", \"orientation\": \"v\", \"showlegend\": true, \"type\": \"scatter\", \"x\": [703000, 713000, 723000, 733000, 743000], \"xaxis\": \"x\", \"y\": [36014.8, 36684.22, 37353.63, 38023.06, 38692.48], \"yaxis\": \"y\"}],                        {\"legend\": {\"title\": {\"text\": \"down_pay\"}, \"tracegroupgap\": 0}, \"margin\": {\"t\": 60}, \"template\": {\"data\": {\"bar\": [{\"error_x\": {\"color\": \"#2a3f5f\"}, \"error_y\": {\"color\": \"#2a3f5f\"}, \"marker\": {\"line\": {\"color\": \"#E5ECF6\", \"width\": 0.5}}, \"type\": \"bar\"}], \"barpolar\": [{\"marker\": {\"line\": {\"color\": \"#E5ECF6\", \"width\": 0.5}}, \"type\": \"barpolar\"}], \"carpet\": [{\"aaxis\": {\"endlinecolor\": \"#2a3f5f\", \"gridcolor\": \"white\", \"linecolor\": \"white\", \"minorgridcolor\": \"white\", \"startlinecolor\": \"#2a3f5f\"}, \"baxis\": {\"endlinecolor\": \"#2a3f5f\", \"gridcolor\": \"white\", \"linecolor\": \"white\", \"minorgridcolor\": \"white\", \"startlinecolor\": \"#2a3f5f\"}, \"type\": \"carpet\"}], \"choropleth\": [{\"colorbar\": {\"outlinewidth\": 0, \"ticks\": \"\"}, \"type\": \"choropleth\"}], \"contour\": [{\"colorbar\": {\"outlinewidth\": 0, \"ticks\": \"\"}, \"colorscale\": [[0.0, \"#0d0887\"], [0.1111111111111111, \"#46039f\"], [0.2222222222222222, \"#7201a8\"], [0.3333333333333333, \"#9c179e\"], [0.4444444444444444, \"#bd3786\"], [0.5555555555555556, \"#d8576b\"], [0.6666666666666666, \"#ed7953\"], [0.7777777777777778, \"#fb9f3a\"], [0.8888888888888888, \"#fdca26\"], [1.0, \"#f0f921\"]], \"type\": \"contour\"}], \"contourcarpet\": [{\"colorbar\": {\"outlinewidth\": 0, \"ticks\": \"\"}, \"type\": \"contourcarpet\"}], \"heatmap\": [{\"colorbar\": {\"outlinewidth\": 0, \"ticks\": \"\"}, \"colorscale\": [[0.0, \"#0d0887\"], [0.1111111111111111, \"#46039f\"], [0.2222222222222222, \"#7201a8\"], [0.3333333333333333, \"#9c179e\"], [0.4444444444444444, \"#bd3786\"], [0.5555555555555556, \"#d8576b\"], [0.6666666666666666, \"#ed7953\"], [0.7777777777777778, \"#fb9f3a\"], [0.8888888888888888, \"#fdca26\"], [1.0, \"#f0f921\"]], \"type\": \"heatmap\"}], \"heatmapgl\": [{\"colorbar\": {\"outlinewidth\": 0, \"ticks\": \"\"}, \"colorscale\": [[0.0, \"#0d0887\"], [0.1111111111111111, \"#46039f\"], [0.2222222222222222, \"#7201a8\"], [0.3333333333333333, \"#9c179e\"], [0.4444444444444444, \"#bd3786\"], [0.5555555555555556, \"#d8576b\"], [0.6666666666666666, \"#ed7953\"], [0.7777777777777778, \"#fb9f3a\"], [0.8888888888888888, \"#fdca26\"], [1.0, \"#f0f921\"]], \"type\": \"heatmapgl\"}], \"histogram\": [{\"marker\": {\"colorbar\": {\"outlinewidth\": 0, \"ticks\": \"\"}}, \"type\": \"histogram\"}], \"histogram2d\": [{\"colorbar\": {\"outlinewidth\": 0, \"ticks\": \"\"}, \"colorscale\": [[0.0, \"#0d0887\"], [0.1111111111111111, \"#46039f\"], [0.2222222222222222, \"#7201a8\"], [0.3333333333333333, \"#9c179e\"], [0.4444444444444444, \"#bd3786\"], [0.5555555555555556, \"#d8576b\"], [0.6666666666666666, \"#ed7953\"], [0.7777777777777778, \"#fb9f3a\"], [0.8888888888888888, \"#fdca26\"], [1.0, \"#f0f921\"]], \"type\": \"histogram2d\"}], \"histogram2dcontour\": [{\"colorbar\": {\"outlinewidth\": 0, \"ticks\": \"\"}, \"colorscale\": [[0.0, \"#0d0887\"], [0.1111111111111111, \"#46039f\"], [0.2222222222222222, \"#7201a8\"], [0.3333333333333333, \"#9c179e\"], [0.4444444444444444, \"#bd3786\"], [0.5555555555555556, \"#d8576b\"], [0.6666666666666666, \"#ed7953\"], [0.7777777777777778, \"#fb9f3a\"], [0.8888888888888888, \"#fdca26\"], [1.0, \"#f0f921\"]], \"type\": \"histogram2dcontour\"}], \"mesh3d\": [{\"colorbar\": {\"outlinewidth\": 0, \"ticks\": \"\"}, \"type\": \"mesh3d\"}], \"parcoords\": [{\"line\": {\"colorbar\": {\"outlinewidth\": 0, \"ticks\": \"\"}}, \"type\": \"parcoords\"}], \"pie\": [{\"automargin\": true, \"type\": \"pie\"}], \"scatter\": [{\"marker\": {\"colorbar\": {\"outlinewidth\": 0, \"ticks\": \"\"}}, \"type\": \"scatter\"}], \"scatter3d\": [{\"line\": {\"colorbar\": {\"outlinewidth\": 0, \"ticks\": \"\"}}, \"marker\": {\"colorbar\": {\"outlinewidth\": 0, \"ticks\": \"\"}}, \"type\": \"scatter3d\"}], \"scattercarpet\": [{\"marker\": {\"colorbar\": {\"outlinewidth\": 0, \"ticks\": \"\"}}, \"type\": \"scattercarpet\"}], \"scattergeo\": [{\"marker\": {\"colorbar\": {\"outlinewidth\": 0, \"ticks\": \"\"}}, \"type\": \"scattergeo\"}], \"scattergl\": [{\"marker\": {\"colorbar\": {\"outlinewidth\": 0, \"ticks\": \"\"}}, \"type\": \"scattergl\"}], \"scattermapbox\": [{\"marker\": {\"colorbar\": {\"outlinewidth\": 0, \"ticks\": \"\"}}, \"type\": \"scattermapbox\"}], \"scatterpolar\": [{\"marker\": {\"colorbar\": {\"outlinewidth\": 0, \"ticks\": \"\"}}, \"type\": \"scatterpolar\"}], \"scatterpolargl\": [{\"marker\": {\"colorbar\": {\"outlinewidth\": 0, \"ticks\": \"\"}}, \"type\": \"scatterpolargl\"}], \"scatterternary\": [{\"marker\": {\"colorbar\": {\"outlinewidth\": 0, \"ticks\": \"\"}}, \"type\": \"scatterternary\"}], \"surface\": [{\"colorbar\": {\"outlinewidth\": 0, \"ticks\": \"\"}, \"colorscale\": [[0.0, \"#0d0887\"], [0.1111111111111111, \"#46039f\"], [0.2222222222222222, \"#7201a8\"], [0.3333333333333333, \"#9c179e\"], [0.4444444444444444, \"#bd3786\"], [0.5555555555555556, \"#d8576b\"], [0.6666666666666666, \"#ed7953\"], [0.7777777777777778, \"#fb9f3a\"], [0.8888888888888888, \"#fdca26\"], [1.0, \"#f0f921\"]], \"type\": \"surface\"}], \"table\": [{\"cells\": {\"fill\": {\"color\": \"#EBF0F8\"}, \"line\": {\"color\": \"white\"}}, \"header\": {\"fill\": {\"color\": \"#C8D4E3\"}, \"line\": {\"color\": \"white\"}}, \"type\": \"table\"}]}, \"layout\": {\"annotationdefaults\": {\"arrowcolor\": \"#2a3f5f\", \"arrowhead\": 0, \"arrowwidth\": 1}, \"autotypenumbers\": \"strict\", \"coloraxis\": {\"colorbar\": {\"outlinewidth\": 0, \"ticks\": \"\"}}, \"colorscale\": {\"diverging\": [[0, \"#8e0152\"], [0.1, \"#c51b7d\"], [0.2, \"#de77ae\"], [0.3, \"#f1b6da\"], [0.4, \"#fde0ef\"], [0.5, \"#f7f7f7\"], [0.6, \"#e6f5d0\"], [0.7, \"#b8e186\"], [0.8, \"#7fbc41\"], [0.9, \"#4d9221\"], [1, \"#276419\"]], \"sequential\": [[0.0, \"#0d0887\"], [0.1111111111111111, \"#46039f\"], [0.2222222222222222, \"#7201a8\"], [0.3333333333333333, \"#9c179e\"], [0.4444444444444444, \"#bd3786\"], [0.5555555555555556, \"#d8576b\"], [0.6666666666666666, \"#ed7953\"], [0.7777777777777778, \"#fb9f3a\"], [0.8888888888888888, \"#fdca26\"], [1.0, \"#f0f921\"]], \"sequentialminus\": [[0.0, \"#0d0887\"], [0.1111111111111111, \"#46039f\"], [0.2222222222222222, \"#7201a8\"], [0.3333333333333333, \"#9c179e\"], [0.4444444444444444, \"#bd3786\"], [0.5555555555555556, \"#d8576b\"], [0.6666666666666666, \"#ed7953\"], [0.7777777777777778, \"#fb9f3a\"], [0.8888888888888888, \"#fdca26\"], [1.0, \"#f0f921\"]]}, \"colorway\": [\"#636efa\", \"#EF553B\", \"#00cc96\", \"#ab63fa\", \"#FFA15A\", \"#19d3f3\", \"#FF6692\", \"#B6E880\", \"#FF97FF\", \"#FECB52\"], \"font\": {\"color\": \"#2a3f5f\"}, \"geo\": {\"bgcolor\": \"white\", \"lakecolor\": \"white\", \"landcolor\": \"#E5ECF6\", \"showlakes\": true, \"showland\": true, \"subunitcolor\": \"white\"}, \"hoverlabel\": {\"align\": \"left\"}, \"hovermode\": \"closest\", \"mapbox\": {\"style\": \"light\"}, \"paper_bgcolor\": \"white\", \"plot_bgcolor\": \"#E5ECF6\", \"polar\": {\"angularaxis\": {\"gridcolor\": \"white\", \"linecolor\": \"white\", \"ticks\": \"\"}, \"bgcolor\": \"#E5ECF6\", \"radialaxis\": {\"gridcolor\": \"white\", \"linecolor\": \"white\", \"ticks\": \"\"}}, \"scene\": {\"xaxis\": {\"backgroundcolor\": \"#E5ECF6\", \"gridcolor\": \"white\", \"gridwidth\": 2, \"linecolor\": \"white\", \"showbackground\": true, \"ticks\": \"\", \"zerolinecolor\": \"white\"}, \"yaxis\": {\"backgroundcolor\": \"#E5ECF6\", \"gridcolor\": \"white\", \"gridwidth\": 2, \"linecolor\": \"white\", \"showbackground\": true, \"ticks\": \"\", \"zerolinecolor\": \"white\"}, \"zaxis\": {\"backgroundcolor\": \"#E5ECF6\", \"gridcolor\": \"white\", \"gridwidth\": 2, \"linecolor\": \"white\", \"showbackground\": true, \"ticks\": \"\", \"zerolinecolor\": \"white\"}}, \"shapedefaults\": {\"line\": {\"color\": \"#2a3f5f\"}}, \"ternary\": {\"aaxis\": {\"gridcolor\": \"white\", \"linecolor\": \"white\", \"ticks\": \"\"}, \"baxis\": {\"gridcolor\": \"white\", \"linecolor\": \"white\", \"ticks\": \"\"}, \"bgcolor\": \"#E5ECF6\", \"caxis\": {\"gridcolor\": \"white\", \"linecolor\": \"white\", \"ticks\": \"\"}}, \"title\": {\"x\": 0.05}, \"xaxis\": {\"automargin\": true, \"gridcolor\": \"white\", \"linecolor\": \"white\", \"ticks\": \"\", \"title\": {\"standoff\": 15}, \"zerolinecolor\": \"white\", \"zerolinewidth\": 2}, \"yaxis\": {\"automargin\": true, \"gridcolor\": \"white\", \"linecolor\": \"white\", \"ticks\": \"\", \"title\": {\"standoff\": 15}, \"zerolinecolor\": \"white\", \"zerolinewidth\": 2}}}, \"xaxis\": {\"anchor\": \"y\", \"domain\": [0.0, 1.0], \"title\": {\"text\": \"value_loan\"}}, \"yaxis\": {\"anchor\": \"x\", \"domain\": [0.0, 1.0], \"title\": {\"text\": \"two_year_cum_eq\"}}},                        {\"responsive\": true}                    ).then(function(){\n",
       "                            \n",
       "var gd = document.getElementById('596798ff-6739-4d8d-85d8-f5589273b636');\n",
       "var x = new MutationObserver(function (mutations, observer) {{\n",
       "        var display = window.getComputedStyle(gd).display;\n",
       "        if (!display || display === 'none') {{\n",
       "            console.log([gd, 'removed!']);\n",
       "            Plotly.purge(gd);\n",
       "            observer.disconnect();\n",
       "        }}\n",
       "}});\n",
       "\n",
       "// Listen for the removal of the full notebook cells\n",
       "var notebookContainer = gd.closest('#notebook-container');\n",
       "if (notebookContainer) {{\n",
       "    x.observe(notebookContainer, {childList: true});\n",
       "}}\n",
       "\n",
       "// Listen for the clearing of the current output cell\n",
       "var outputEl = gd.closest('.output');\n",
       "if (outputEl) {{\n",
       "    x.observe(outputEl, {childList: true});\n",
       "}}\n",
       "\n",
       "                        })                };                });            </script>        </div>"
      ]
     },
     "metadata": {},
     "output_type": "display_data"
    }
   ],
   "source": [
    "Mort.plot_x_value_loan(\"two_year_cum_eq\", \"down_pay\")"
   ]
  },
  {
   "cell_type": "markdown",
   "metadata": {},
   "source": [
    "# Added cost of other Loans\n",
    "\n",
    "    - assuming int rate of 2.5%\n",
    "    - property tax cost around 1.5% of value/ year"
   ]
  },
  {
   "cell_type": "code",
   "execution_count": 50,
   "metadata": {},
   "outputs": [],
   "source": [
    "Mort = MortgageData(incrament_val = 10000, num_inc=40, start_val_dp= 20000, \n",
    "                    incrament_val_dp = 5000, num_inc_dp = 30,\n",
    "                   maintanence_perc= 0.015, years_use = 25, roomate = 0, int_rate = 0.025,\n",
    "                   current_rent= 0, \n",
    "                    annual_housing_market_growth_rate=[i*0.0025 for i in range(8, 19)])\n",
    "\n",
    "sub_values = [10000*i for i in range(3, 16)]\n",
    "Mort.gen_sub_data(sub_values)"
   ]
  },
  {
   "cell_type": "code",
   "execution_count": 51,
   "metadata": {},
   "outputs": [
    {
     "data": {
      "application/vnd.plotly.v1+json": {
       "config": {
        "plotlyServerURL": "https://plot.ly"
       },
       "data": [
        {
         "hovertemplate": "down_pay=30000<br>value_loan=%{x}<br>monthly_pay_with_maintanence=%{y}<extra></extra>",
         "legendgroup": "30000",
         "line": {
          "color": "#636efa",
          "dash": "solid"
         },
         "mode": "lines",
         "name": "30000",
         "orientation": "v",
         "showlegend": true,
         "type": "scatter",
         "x": [
          400000,
          410000,
          420000,
          430000,
          440000,
          450000,
          460000,
          470000,
          480000,
          490000,
          500000,
          510000,
          520000,
          530000,
          540000,
          550000
         ],
         "xaxis": "x",
         "y": [
          1786.2771927267725,
          1834.4333330707393,
          1882.589473414706,
          1930.7456137586728,
          1978.9017541026396,
          2027.0578944466065,
          2075.2140347905734,
          2123.37017513454,
          2171.526315478507,
          2219.682455822474,
          2267.8385961664408,
          2315.9947365104076,
          2364.150876854374,
          2412.307017198341,
          2460.4631575423077,
          2508.6192978862746
         ],
         "yaxis": "y"
        },
        {
         "hovertemplate": "down_pay=40000<br>value_loan=%{x}<br>monthly_pay_with_maintanence=%{y}<extra></extra>",
         "legendgroup": "40000",
         "line": {
          "color": "#EF553B",
          "dash": "solid"
         },
         "mode": "lines",
         "name": "40000",
         "orientation": "v",
         "showlegend": true,
         "type": "scatter",
         "x": [
          400000,
          410000,
          420000,
          430000,
          440000,
          450000,
          460000,
          470000,
          480000,
          490000,
          500000,
          510000,
          520000,
          530000,
          540000,
          550000,
          560000,
          570000,
          580000,
          590000,
          600000,
          610000,
          620000,
          630000,
          640000,
          650000
         ],
         "xaxis": "x",
         "y": [
          1725.0858701987236,
          1772.8382554820214,
          1820.5906407653194,
          1884.089473414706,
          1932.2456137586728,
          1980.4017541026396,
          2028.5578944466065,
          2076.7140347905734,
          2124.87017513454,
          2173.026315478507,
          2221.182455822474,
          2269.3385961664408,
          2317.4947365104076,
          2365.650876854374,
          2413.807017198341,
          2461.9631575423077,
          2510.1192978862746,
          2558.2754382302414,
          2606.4315785742083,
          2654.587718918175,
          2702.743859262142,
          2750.899999606109,
          2799.0561399500757,
          2847.2122802940426,
          2895.3684206380094,
          2943.5245609819763
         ],
         "yaxis": "y"
        },
        {
         "hovertemplate": "down_pay=50000<br>value_loan=%{x}<br>monthly_pay_with_maintanence=%{y}<extra></extra>",
         "legendgroup": "50000",
         "line": {
          "color": "#00cc96",
          "dash": "solid"
         },
         "mode": "lines",
         "name": "50000",
         "orientation": "v",
         "showlegend": true,
         "type": "scatter",
         "x": [
          400000,
          410000,
          420000,
          430000,
          440000,
          450000,
          460000,
          470000,
          480000,
          490000,
          500000,
          510000,
          520000,
          530000,
          540000,
          550000,
          560000,
          570000,
          580000,
          590000,
          600000,
          610000,
          620000,
          630000,
          640000,
          650000,
          660000,
          670000,
          680000,
          690000,
          700000,
          710000,
          720000,
          730000,
          740000,
          750000
         ],
         "xaxis": "x",
         "y": [
          1678.8334849154257,
          1726.5858701987236,
          1774.3382554820214,
          1822.0906407653194,
          1869.8430260486173,
          1917.595411331915,
          1965.347796615213,
          2013.1001818985108,
          2060.852567181809,
          2108.6049524651066,
          2156.3573377484045,
          2204.1097230317023,
          2251.862108315,
          2318.9947365104076,
          2367.150876854374,
          2415.307017198341,
          2463.4631575423077,
          2511.6192978862746,
          2559.7754382302414,
          2607.9315785742083,
          2656.087718918175,
          2704.243859262142,
          2752.399999606109,
          2800.5561399500757,
          2848.7122802940426,
          2896.8684206380094,
          2945.0245609819763,
          2993.180701325943,
          3041.3368416699095,
          3089.4929820138764,
          3137.649122357843,
          3185.80526270181,
          3233.961403045777,
          3282.117543389744,
          3330.2736837337106,
          3378.4298240776775
         ],
         "yaxis": "y"
        },
        {
         "hovertemplate": "down_pay=60000<br>value_loan=%{x}<br>monthly_pay_with_maintanence=%{y}<extra></extra>",
         "legendgroup": "60000",
         "line": {
          "color": "#ab63fa",
          "dash": "solid"
         },
         "mode": "lines",
         "name": "60000",
         "orientation": "v",
         "showlegend": true,
         "type": "scatter",
         "x": [
          400000,
          410000,
          420000,
          430000,
          440000,
          450000,
          460000,
          470000,
          480000,
          490000,
          500000,
          510000,
          520000,
          530000,
          540000,
          550000,
          560000,
          570000,
          580000,
          590000,
          600000,
          610000,
          620000,
          630000,
          640000,
          650000,
          660000,
          670000,
          680000,
          690000,
          700000,
          710000,
          720000,
          730000,
          740000,
          750000,
          760000,
          770000,
          780000,
          790000
         ],
         "xaxis": "x",
         "y": [
          1632.581099632128,
          1680.3334849154257,
          1728.0858701987236,
          1775.8382554820214,
          1823.5906407653194,
          1871.3430260486173,
          1919.095411331915,
          1966.847796615213,
          2014.6001818985108,
          2062.352567181809,
          2110.1049524651066,
          2157.8573377484045,
          2205.6097230317023,
          2253.362108315,
          2301.114493598298,
          2348.866878881596,
          2396.619264164894,
          2444.371649448192,
          2492.1240347314897,
          2539.8764200147875,
          2587.6288052980854,
          2635.381190581383,
          2683.133575864681,
          2730.885961147979,
          2802.0561399500757,
          2850.2122802940426,
          2898.3684206380094,
          2946.5245609819763,
          2994.680701325943,
          3042.8368416699095,
          3090.9929820138764,
          3139.149122357843,
          3187.30526270181,
          3235.461403045777,
          3283.617543389744,
          3331.7736837337106,
          3379.9298240776775,
          3428.0859644216443,
          3476.242104765611,
          3524.398245109578
         ],
         "yaxis": "y"
        },
        {
         "hovertemplate": "down_pay=70000<br>value_loan=%{x}<br>monthly_pay_with_maintanence=%{y}<extra></extra>",
         "legendgroup": "70000",
         "line": {
          "color": "#FFA15A",
          "dash": "solid"
         },
         "mode": "lines",
         "name": "70000",
         "orientation": "v",
         "showlegend": true,
         "type": "scatter",
         "x": [
          400000,
          410000,
          420000,
          430000,
          440000,
          450000,
          460000,
          470000,
          480000,
          490000,
          500000,
          510000,
          520000,
          530000,
          540000,
          550000,
          560000,
          570000,
          580000,
          590000,
          600000,
          610000,
          620000,
          630000,
          640000,
          650000,
          660000,
          670000,
          680000,
          690000,
          700000,
          710000,
          720000,
          730000,
          740000,
          750000,
          760000,
          770000,
          780000,
          790000
         ],
         "xaxis": "x",
         "y": [
          1581.8874086814715,
          1629.5052089445464,
          1677.1230092076214,
          1724.7408094706964,
          1772.3586097337711,
          1819.976409996846,
          1872.8430260486173,
          1920.595411331915,
          1968.347796615213,
          2016.1001818985108,
          2063.852567181809,
          2111.6049524651066,
          2159.3573377484045,
          2207.1097230317023,
          2254.862108315,
          2302.614493598298,
          2350.366878881596,
          2398.119264164894,
          2445.871649448192,
          2493.6240347314897,
          2541.3764200147875,
          2589.1288052980854,
          2636.881190581383,
          2684.633575864681,
          2732.385961147979,
          2780.138346431277,
          2827.890731714575,
          2875.6431169978728,
          2923.3955022811706,
          2971.1478875644684,
          3018.9002728477662,
          3066.652658131064,
          3114.405043414362,
          3162.1574286976597,
          3236.961403045777,
          3285.117543389744,
          3333.2736837337106,
          3381.4298240776775,
          3429.5859644216443,
          3477.742104765611
         ],
         "yaxis": "y"
        },
        {
         "hovertemplate": "down_pay=80000<br>value_loan=%{x}<br>monthly_pay_with_maintanence=%{y}<extra></extra>",
         "legendgroup": "80000",
         "line": {
          "color": "#19d3f3",
          "dash": "solid"
         },
         "mode": "lines",
         "name": "80000",
         "orientation": "v",
         "showlegend": true,
         "type": "scatter",
         "x": [
          400000,
          410000,
          420000,
          430000,
          440000,
          450000,
          460000,
          470000,
          480000,
          490000,
          500000,
          510000,
          520000,
          530000,
          540000,
          550000,
          560000,
          570000,
          580000,
          590000,
          600000,
          610000,
          620000,
          630000,
          640000,
          650000,
          660000,
          670000,
          680000,
          690000,
          700000,
          710000,
          720000,
          730000,
          740000,
          750000,
          760000,
          770000,
          780000,
          790000
         ],
         "xaxis": "x",
         "y": [
          1495.573549045133,
          1541.9352224527934,
          1631.0052089445464,
          1678.6230092076214,
          1726.2408094706964,
          1773.8586097337711,
          1821.476409996846,
          1869.094210259921,
          1916.7120105229958,
          1964.3298107860708,
          2011.9476110491457,
          2059.5654113122205,
          2113.1049524651066,
          2160.8573377484045,
          2208.6097230317023,
          2256.362108315,
          2304.114493598298,
          2351.866878881596,
          2399.619264164894,
          2447.371649448192,
          2495.1240347314897,
          2542.8764200147875,
          2590.6288052980854,
          2638.381190581383,
          2686.133575864681,
          2733.885961147979,
          2781.638346431277,
          2829.390731714575,
          2877.1431169978728,
          2924.8955022811706,
          2972.6478875644684,
          3020.4002728477662,
          3068.152658131064,
          3115.905043414362,
          3163.6574286976597,
          3211.409813980958,
          3259.162199264256,
          3306.9145845475537,
          3354.6669698308515,
          3402.4193551141493
         ],
         "yaxis": "y"
        },
        {
         "hovertemplate": "down_pay=90000<br>value_loan=%{x}<br>monthly_pay_with_maintanence=%{y}<extra></extra>",
         "legendgroup": "90000",
         "line": {
          "color": "#FF6692",
          "dash": "solid"
         },
         "mode": "lines",
         "name": "90000",
         "orientation": "v",
         "showlegend": true,
         "type": "scatter",
         "x": [
          400000,
          410000,
          420000,
          430000,
          440000,
          450000,
          460000,
          470000,
          480000,
          490000,
          500000,
          510000,
          520000,
          530000,
          540000,
          550000,
          560000,
          570000,
          580000,
          590000,
          600000,
          610000,
          620000,
          630000,
          640000,
          650000,
          660000,
          670000,
          680000,
          690000,
          700000,
          710000,
          720000,
          730000,
          740000,
          750000,
          760000,
          770000,
          780000,
          790000
         ],
         "xaxis": "x",
         "y": [
          1450.7118756374725,
          1497.073549045133,
          1543.4352224527934,
          1589.7968958604538,
          1636.1585692681142,
          1682.5202426757746,
          1728.881916083435,
          1822.976409996846,
          1870.594210259921,
          1918.2120105229958,
          1965.8298107860708,
          2013.4476110491457,
          2061.0654113122205,
          2108.6832115752954,
          2156.3010118383704,
          2203.9188121014454,
          2251.53661236452,
          2299.154412627595,
          2346.77221289067,
          2401.119264164894,
          2448.871649448192,
          2496.6240347314897,
          2544.3764200147875,
          2592.1288052980854,
          2639.881190581383,
          2687.633575864681,
          2735.385961147979,
          2783.138346431277,
          2830.890731714575,
          2878.6431169978728,
          2926.3955022811706,
          2974.1478875644684,
          3021.9002728477662,
          3069.652658131064,
          3117.405043414362,
          3165.1574286976597,
          3212.909813980958,
          3260.662199264256,
          3308.4145845475537,
          3356.1669698308515
         ],
         "yaxis": "y"
        },
        {
         "hovertemplate": "down_pay=100000<br>value_loan=%{x}<br>monthly_pay_with_maintanence=%{y}<extra></extra>",
         "legendgroup": "100000",
         "line": {
          "color": "#B6E880",
          "dash": "solid"
         },
         "mode": "lines",
         "name": "100000",
         "orientation": "v",
         "showlegend": true,
         "type": "scatter",
         "x": [
          400000,
          410000,
          420000,
          430000,
          440000,
          450000,
          460000,
          470000,
          480000,
          490000,
          500000,
          510000,
          520000,
          530000,
          540000,
          550000,
          560000,
          570000,
          580000,
          590000,
          600000,
          610000,
          620000,
          630000,
          640000,
          650000,
          660000,
          670000,
          680000,
          690000,
          700000,
          710000,
          720000,
          730000,
          740000,
          750000,
          760000,
          770000,
          780000,
          790000
         ],
         "xaxis": "x",
         "y": [
          1405.850202229812,
          1452.2118756374725,
          1498.573549045133,
          1544.9352224527934,
          1591.2968958604538,
          1637.6585692681142,
          1684.0202426757746,
          1730.381916083435,
          1776.7435894910955,
          1823.1052628987559,
          1869.4669363064163,
          1915.8286097140765,
          2014.9476110491457,
          2062.5654113122205,
          2110.1832115752954,
          2157.8010118383704,
          2205.4188121014454,
          2253.03661236452,
          2300.654412627595,
          2348.27221289067,
          2395.890013153745,
          2443.5078134168198,
          2491.1256136798947,
          2538.7434139429697,
          2586.361214206044,
          2641.381190581383,
          2689.133575864681,
          2736.885961147979,
          2784.638346431277,
          2832.390731714575,
          2880.1431169978728,
          2927.8955022811706,
          2975.6478875644684,
          3023.4002728477662,
          3071.152658131064,
          3118.905043414362,
          3166.6574286976597,
          3214.409813980958,
          3262.162199264256,
          3309.9145845475537
         ],
         "yaxis": "y"
        },
        {
         "hovertemplate": "down_pay=110000<br>value_loan=%{x}<br>monthly_pay_with_maintanence=%{y}<extra></extra>",
         "legendgroup": "110000",
         "line": {
          "color": "#FF97FF",
          "dash": "solid"
         },
         "mode": "lines",
         "name": "110000",
         "orientation": "v",
         "showlegend": true,
         "type": "scatter",
         "x": [
          400000,
          410000,
          420000,
          430000,
          440000,
          450000,
          460000,
          470000,
          480000,
          490000,
          500000,
          510000,
          520000,
          530000,
          540000,
          550000,
          560000,
          570000,
          580000,
          590000,
          600000,
          610000,
          620000,
          630000,
          640000,
          650000,
          660000,
          670000,
          680000,
          690000,
          700000,
          710000,
          720000,
          730000,
          740000,
          750000,
          760000,
          770000,
          780000,
          790000
         ],
         "xaxis": "x",
         "y": [
          1360.9885288221517,
          1407.350202229812,
          1453.7118756374725,
          1500.073549045133,
          1546.4352224527934,
          1592.7968958604538,
          1639.1585692681142,
          1685.5202426757746,
          1731.881916083435,
          1778.2435894910955,
          1824.6052628987559,
          1870.9669363064163,
          1917.3286097140765,
          1963.690283121737,
          2010.0519565293973,
          2056.4136299370575,
          2102.775303344718,
          2206.9188121014454,
          2254.53661236452,
          2302.154412627595,
          2349.77221289067,
          2397.390013153745,
          2445.0078134168198,
          2492.6256136798947,
          2540.2434139429697,
          2587.861214206044,
          2635.479014469119,
          2683.096814732194,
          2730.714614995269,
          2778.332415258344,
          2825.950215521419,
          2881.6431169978728,
          2929.3955022811706,
          2977.1478875644684,
          3024.9002728477662,
          3072.652658131064,
          3120.405043414362,
          3168.1574286976597,
          3215.909813980958,
          3263.662199264256
         ],
         "yaxis": "y"
        },
        {
         "hovertemplate": "down_pay=120000<br>value_loan=%{x}<br>monthly_pay_with_maintanence=%{y}<extra></extra>",
         "legendgroup": "120000",
         "line": {
          "color": "#FECB52",
          "dash": "solid"
         },
         "mode": "lines",
         "name": "120000",
         "orientation": "v",
         "showlegend": true,
         "type": "scatter",
         "x": [
          400000,
          410000,
          420000,
          430000,
          440000,
          450000,
          460000,
          470000,
          480000,
          490000,
          500000,
          510000,
          520000,
          530000,
          540000,
          550000,
          560000,
          570000,
          580000,
          590000,
          600000,
          610000,
          620000,
          630000,
          640000,
          650000,
          660000,
          670000,
          680000,
          690000,
          700000,
          710000,
          720000,
          730000,
          740000,
          750000,
          760000,
          770000,
          780000,
          790000
         ],
         "xaxis": "x",
         "y": [
          1316.1268554144913,
          1362.4885288221517,
          1408.850202229812,
          1455.2118756374725,
          1501.573549045133,
          1547.9352224527934,
          1594.2968958604538,
          1640.6585692681142,
          1687.0202426757746,
          1733.381916083435,
          1779.7435894910955,
          1826.1052628987559,
          1872.4669363064163,
          1918.8286097140765,
          1965.190283121737,
          2011.5519565293973,
          2057.9136299370575,
          2104.275303344718,
          2150.636976752379,
          2196.9986501600392,
          2243.3603235676997,
          2289.7219969753596,
          2398.890013153745,
          2446.5078134168198,
          2494.1256136798947,
          2541.7434139429697,
          2589.361214206044,
          2636.979014469119,
          2684.596814732194,
          2732.214614995269,
          2779.832415258344,
          2827.450215521419,
          2875.0680157844936,
          2922.6858160475686,
          2970.3036163106435,
          3017.9214165737185,
          3065.5392168367935,
          3113.1570170998684,
          3169.6574286976597,
          3217.409813980958
         ],
         "yaxis": "y"
        },
        {
         "hovertemplate": "down_pay=130000<br>value_loan=%{x}<br>monthly_pay_with_maintanence=%{y}<extra></extra>",
         "legendgroup": "130000",
         "line": {
          "color": "#636efa",
          "dash": "solid"
         },
         "mode": "lines",
         "name": "130000",
         "orientation": "v",
         "showlegend": true,
         "type": "scatter",
         "x": [
          400000,
          410000,
          420000,
          430000,
          440000,
          450000,
          460000,
          470000,
          480000,
          490000,
          500000,
          510000,
          520000,
          530000,
          540000,
          550000,
          560000,
          570000,
          580000,
          590000,
          600000,
          610000,
          620000,
          630000,
          640000,
          650000,
          660000,
          670000,
          680000,
          690000,
          700000,
          710000,
          720000,
          730000,
          740000,
          750000,
          760000,
          770000,
          780000,
          790000
         ],
         "xaxis": "x",
         "y": [
          1271.2651820068309,
          1317.6268554144913,
          1363.9885288221517,
          1410.350202229812,
          1456.7118756374725,
          1503.073549045133,
          1549.4352224527934,
          1595.7968958604538,
          1642.1585692681142,
          1688.5202426757746,
          1734.881916083435,
          1781.2435894910955,
          1827.6052628987559,
          1873.9669363064163,
          1920.3286097140765,
          1966.690283121737,
          2013.0519565293973,
          2059.4136299370575,
          2105.775303344718,
          2152.136976752379,
          2198.4986501600392,
          2244.8603235676997,
          2291.2219969753596,
          2337.58367038302,
          2383.9453437906805,
          2430.307017198341,
          2476.6686906060013,
          2590.861214206044,
          2638.479014469119,
          2686.096814732194,
          2733.714614995269,
          2781.332415258344,
          2828.950215521419,
          2876.5680157844936,
          2924.1858160475686,
          2971.8036163106435,
          3019.4214165737185,
          3067.0392168367935,
          3114.6570170998684,
          3162.274817362943
         ],
         "yaxis": "y"
        },
        {
         "hovertemplate": "down_pay=140000<br>value_loan=%{x}<br>monthly_pay_with_maintanence=%{y}<extra></extra>",
         "legendgroup": "140000",
         "line": {
          "color": "#EF553B",
          "dash": "solid"
         },
         "mode": "lines",
         "name": "140000",
         "orientation": "v",
         "showlegend": true,
         "type": "scatter",
         "x": [
          400000,
          410000,
          420000,
          430000,
          440000,
          450000,
          460000,
          470000,
          480000,
          490000,
          500000,
          510000,
          520000,
          530000,
          540000,
          550000,
          560000,
          570000,
          580000,
          590000,
          600000,
          610000,
          620000,
          630000,
          640000,
          650000,
          660000,
          670000,
          680000,
          690000,
          700000,
          710000,
          720000,
          730000,
          740000,
          750000,
          760000,
          770000,
          780000,
          790000
         ],
         "xaxis": "x",
         "y": [
          1226.4035085991704,
          1272.7651820068309,
          1319.1268554144913,
          1365.4885288221517,
          1411.850202229812,
          1458.2118756374725,
          1504.573549045133,
          1550.9352224527934,
          1597.2968958604538,
          1643.6585692681142,
          1690.0202426757746,
          1736.381916083435,
          1782.7435894910955,
          1829.1052628987559,
          1875.4669363064163,
          1921.8286097140765,
          1968.190283121737,
          2014.5519565293973,
          2060.9136299370575,
          2107.275303344718,
          2153.636976752379,
          2199.9986501600392,
          2246.3603235676997,
          2292.7219969753596,
          2339.08367038302,
          2385.4453437906805,
          2431.807017198341,
          2478.1686906060013,
          2524.5303640136617,
          2570.892037421322,
          2617.2537108289825,
          2663.615384236643,
          2782.832415258344,
          2830.450215521419,
          2878.0680157844936,
          2925.6858160475686,
          2973.3036163106435,
          3020.9214165737185,
          3068.5392168367935,
          3116.1570170998684
         ],
         "yaxis": "y"
        },
        {
         "hovertemplate": "down_pay=150000<br>value_loan=%{x}<br>monthly_pay_with_maintanence=%{y}<extra></extra>",
         "legendgroup": "150000",
         "line": {
          "color": "#00cc96",
          "dash": "solid"
         },
         "mode": "lines",
         "name": "150000",
         "orientation": "v",
         "showlegend": true,
         "type": "scatter",
         "x": [
          400000,
          410000,
          420000,
          430000,
          440000,
          450000,
          460000,
          470000,
          480000,
          490000,
          500000,
          510000,
          520000,
          530000,
          540000,
          550000,
          560000,
          570000,
          580000,
          590000,
          600000,
          610000,
          620000,
          630000,
          640000,
          650000,
          660000,
          670000,
          680000,
          690000,
          700000,
          710000,
          720000,
          730000,
          740000,
          750000,
          760000,
          770000,
          780000,
          790000
         ],
         "xaxis": "x",
         "y": [
          1181.54183519151,
          1227.9035085991704,
          1274.2651820068309,
          1320.6268554144913,
          1366.9885288221517,
          1413.350202229812,
          1459.7118756374725,
          1506.073549045133,
          1552.4352224527934,
          1598.7968958604538,
          1645.1585692681142,
          1691.5202426757746,
          1737.881916083435,
          1784.2435894910955,
          1830.6052628987559,
          1876.9669363064163,
          1923.3286097140765,
          1969.690283121737,
          2016.0519565293973,
          2062.4136299370575,
          2108.775303344718,
          2155.136976752379,
          2201.4986501600392,
          2247.8603235676997,
          2294.2219969753596,
          2340.58367038302,
          2386.9453437906805,
          2433.307017198341,
          2479.6686906060013,
          2526.0303640136617,
          2572.392037421322,
          2618.7537108289825,
          2665.115384236643,
          2711.4770576443034,
          2757.838731051964,
          2804.200404459624,
          2850.5620778672846,
          2974.8036163106435,
          3022.4214165737185,
          3070.0392168367935
         ],
         "yaxis": "y"
        }
       ],
       "layout": {
        "legend": {
         "title": {
          "text": "down_pay"
         },
         "tracegroupgap": 0
        },
        "margin": {
         "t": 60
        },
        "template": {
         "data": {
          "bar": [
           {
            "error_x": {
             "color": "#2a3f5f"
            },
            "error_y": {
             "color": "#2a3f5f"
            },
            "marker": {
             "line": {
              "color": "#E5ECF6",
              "width": 0.5
             }
            },
            "type": "bar"
           }
          ],
          "barpolar": [
           {
            "marker": {
             "line": {
              "color": "#E5ECF6",
              "width": 0.5
             }
            },
            "type": "barpolar"
           }
          ],
          "carpet": [
           {
            "aaxis": {
             "endlinecolor": "#2a3f5f",
             "gridcolor": "white",
             "linecolor": "white",
             "minorgridcolor": "white",
             "startlinecolor": "#2a3f5f"
            },
            "baxis": {
             "endlinecolor": "#2a3f5f",
             "gridcolor": "white",
             "linecolor": "white",
             "minorgridcolor": "white",
             "startlinecolor": "#2a3f5f"
            },
            "type": "carpet"
           }
          ],
          "choropleth": [
           {
            "colorbar": {
             "outlinewidth": 0,
             "ticks": ""
            },
            "type": "choropleth"
           }
          ],
          "contour": [
           {
            "colorbar": {
             "outlinewidth": 0,
             "ticks": ""
            },
            "colorscale": [
             [
              0,
              "#0d0887"
             ],
             [
              0.1111111111111111,
              "#46039f"
             ],
             [
              0.2222222222222222,
              "#7201a8"
             ],
             [
              0.3333333333333333,
              "#9c179e"
             ],
             [
              0.4444444444444444,
              "#bd3786"
             ],
             [
              0.5555555555555556,
              "#d8576b"
             ],
             [
              0.6666666666666666,
              "#ed7953"
             ],
             [
              0.7777777777777778,
              "#fb9f3a"
             ],
             [
              0.8888888888888888,
              "#fdca26"
             ],
             [
              1,
              "#f0f921"
             ]
            ],
            "type": "contour"
           }
          ],
          "contourcarpet": [
           {
            "colorbar": {
             "outlinewidth": 0,
             "ticks": ""
            },
            "type": "contourcarpet"
           }
          ],
          "heatmap": [
           {
            "colorbar": {
             "outlinewidth": 0,
             "ticks": ""
            },
            "colorscale": [
             [
              0,
              "#0d0887"
             ],
             [
              0.1111111111111111,
              "#46039f"
             ],
             [
              0.2222222222222222,
              "#7201a8"
             ],
             [
              0.3333333333333333,
              "#9c179e"
             ],
             [
              0.4444444444444444,
              "#bd3786"
             ],
             [
              0.5555555555555556,
              "#d8576b"
             ],
             [
              0.6666666666666666,
              "#ed7953"
             ],
             [
              0.7777777777777778,
              "#fb9f3a"
             ],
             [
              0.8888888888888888,
              "#fdca26"
             ],
             [
              1,
              "#f0f921"
             ]
            ],
            "type": "heatmap"
           }
          ],
          "heatmapgl": [
           {
            "colorbar": {
             "outlinewidth": 0,
             "ticks": ""
            },
            "colorscale": [
             [
              0,
              "#0d0887"
             ],
             [
              0.1111111111111111,
              "#46039f"
             ],
             [
              0.2222222222222222,
              "#7201a8"
             ],
             [
              0.3333333333333333,
              "#9c179e"
             ],
             [
              0.4444444444444444,
              "#bd3786"
             ],
             [
              0.5555555555555556,
              "#d8576b"
             ],
             [
              0.6666666666666666,
              "#ed7953"
             ],
             [
              0.7777777777777778,
              "#fb9f3a"
             ],
             [
              0.8888888888888888,
              "#fdca26"
             ],
             [
              1,
              "#f0f921"
             ]
            ],
            "type": "heatmapgl"
           }
          ],
          "histogram": [
           {
            "marker": {
             "colorbar": {
              "outlinewidth": 0,
              "ticks": ""
             }
            },
            "type": "histogram"
           }
          ],
          "histogram2d": [
           {
            "colorbar": {
             "outlinewidth": 0,
             "ticks": ""
            },
            "colorscale": [
             [
              0,
              "#0d0887"
             ],
             [
              0.1111111111111111,
              "#46039f"
             ],
             [
              0.2222222222222222,
              "#7201a8"
             ],
             [
              0.3333333333333333,
              "#9c179e"
             ],
             [
              0.4444444444444444,
              "#bd3786"
             ],
             [
              0.5555555555555556,
              "#d8576b"
             ],
             [
              0.6666666666666666,
              "#ed7953"
             ],
             [
              0.7777777777777778,
              "#fb9f3a"
             ],
             [
              0.8888888888888888,
              "#fdca26"
             ],
             [
              1,
              "#f0f921"
             ]
            ],
            "type": "histogram2d"
           }
          ],
          "histogram2dcontour": [
           {
            "colorbar": {
             "outlinewidth": 0,
             "ticks": ""
            },
            "colorscale": [
             [
              0,
              "#0d0887"
             ],
             [
              0.1111111111111111,
              "#46039f"
             ],
             [
              0.2222222222222222,
              "#7201a8"
             ],
             [
              0.3333333333333333,
              "#9c179e"
             ],
             [
              0.4444444444444444,
              "#bd3786"
             ],
             [
              0.5555555555555556,
              "#d8576b"
             ],
             [
              0.6666666666666666,
              "#ed7953"
             ],
             [
              0.7777777777777778,
              "#fb9f3a"
             ],
             [
              0.8888888888888888,
              "#fdca26"
             ],
             [
              1,
              "#f0f921"
             ]
            ],
            "type": "histogram2dcontour"
           }
          ],
          "mesh3d": [
           {
            "colorbar": {
             "outlinewidth": 0,
             "ticks": ""
            },
            "type": "mesh3d"
           }
          ],
          "parcoords": [
           {
            "line": {
             "colorbar": {
              "outlinewidth": 0,
              "ticks": ""
             }
            },
            "type": "parcoords"
           }
          ],
          "pie": [
           {
            "automargin": true,
            "type": "pie"
           }
          ],
          "scatter": [
           {
            "marker": {
             "colorbar": {
              "outlinewidth": 0,
              "ticks": ""
             }
            },
            "type": "scatter"
           }
          ],
          "scatter3d": [
           {
            "line": {
             "colorbar": {
              "outlinewidth": 0,
              "ticks": ""
             }
            },
            "marker": {
             "colorbar": {
              "outlinewidth": 0,
              "ticks": ""
             }
            },
            "type": "scatter3d"
           }
          ],
          "scattercarpet": [
           {
            "marker": {
             "colorbar": {
              "outlinewidth": 0,
              "ticks": ""
             }
            },
            "type": "scattercarpet"
           }
          ],
          "scattergeo": [
           {
            "marker": {
             "colorbar": {
              "outlinewidth": 0,
              "ticks": ""
             }
            },
            "type": "scattergeo"
           }
          ],
          "scattergl": [
           {
            "marker": {
             "colorbar": {
              "outlinewidth": 0,
              "ticks": ""
             }
            },
            "type": "scattergl"
           }
          ],
          "scattermapbox": [
           {
            "marker": {
             "colorbar": {
              "outlinewidth": 0,
              "ticks": ""
             }
            },
            "type": "scattermapbox"
           }
          ],
          "scatterpolar": [
           {
            "marker": {
             "colorbar": {
              "outlinewidth": 0,
              "ticks": ""
             }
            },
            "type": "scatterpolar"
           }
          ],
          "scatterpolargl": [
           {
            "marker": {
             "colorbar": {
              "outlinewidth": 0,
              "ticks": ""
             }
            },
            "type": "scatterpolargl"
           }
          ],
          "scatterternary": [
           {
            "marker": {
             "colorbar": {
              "outlinewidth": 0,
              "ticks": ""
             }
            },
            "type": "scatterternary"
           }
          ],
          "surface": [
           {
            "colorbar": {
             "outlinewidth": 0,
             "ticks": ""
            },
            "colorscale": [
             [
              0,
              "#0d0887"
             ],
             [
              0.1111111111111111,
              "#46039f"
             ],
             [
              0.2222222222222222,
              "#7201a8"
             ],
             [
              0.3333333333333333,
              "#9c179e"
             ],
             [
              0.4444444444444444,
              "#bd3786"
             ],
             [
              0.5555555555555556,
              "#d8576b"
             ],
             [
              0.6666666666666666,
              "#ed7953"
             ],
             [
              0.7777777777777778,
              "#fb9f3a"
             ],
             [
              0.8888888888888888,
              "#fdca26"
             ],
             [
              1,
              "#f0f921"
             ]
            ],
            "type": "surface"
           }
          ],
          "table": [
           {
            "cells": {
             "fill": {
              "color": "#EBF0F8"
             },
             "line": {
              "color": "white"
             }
            },
            "header": {
             "fill": {
              "color": "#C8D4E3"
             },
             "line": {
              "color": "white"
             }
            },
            "type": "table"
           }
          ]
         },
         "layout": {
          "annotationdefaults": {
           "arrowcolor": "#2a3f5f",
           "arrowhead": 0,
           "arrowwidth": 1
          },
          "autotypenumbers": "strict",
          "coloraxis": {
           "colorbar": {
            "outlinewidth": 0,
            "ticks": ""
           }
          },
          "colorscale": {
           "diverging": [
            [
             0,
             "#8e0152"
            ],
            [
             0.1,
             "#c51b7d"
            ],
            [
             0.2,
             "#de77ae"
            ],
            [
             0.3,
             "#f1b6da"
            ],
            [
             0.4,
             "#fde0ef"
            ],
            [
             0.5,
             "#f7f7f7"
            ],
            [
             0.6,
             "#e6f5d0"
            ],
            [
             0.7,
             "#b8e186"
            ],
            [
             0.8,
             "#7fbc41"
            ],
            [
             0.9,
             "#4d9221"
            ],
            [
             1,
             "#276419"
            ]
           ],
           "sequential": [
            [
             0,
             "#0d0887"
            ],
            [
             0.1111111111111111,
             "#46039f"
            ],
            [
             0.2222222222222222,
             "#7201a8"
            ],
            [
             0.3333333333333333,
             "#9c179e"
            ],
            [
             0.4444444444444444,
             "#bd3786"
            ],
            [
             0.5555555555555556,
             "#d8576b"
            ],
            [
             0.6666666666666666,
             "#ed7953"
            ],
            [
             0.7777777777777778,
             "#fb9f3a"
            ],
            [
             0.8888888888888888,
             "#fdca26"
            ],
            [
             1,
             "#f0f921"
            ]
           ],
           "sequentialminus": [
            [
             0,
             "#0d0887"
            ],
            [
             0.1111111111111111,
             "#46039f"
            ],
            [
             0.2222222222222222,
             "#7201a8"
            ],
            [
             0.3333333333333333,
             "#9c179e"
            ],
            [
             0.4444444444444444,
             "#bd3786"
            ],
            [
             0.5555555555555556,
             "#d8576b"
            ],
            [
             0.6666666666666666,
             "#ed7953"
            ],
            [
             0.7777777777777778,
             "#fb9f3a"
            ],
            [
             0.8888888888888888,
             "#fdca26"
            ],
            [
             1,
             "#f0f921"
            ]
           ]
          },
          "colorway": [
           "#636efa",
           "#EF553B",
           "#00cc96",
           "#ab63fa",
           "#FFA15A",
           "#19d3f3",
           "#FF6692",
           "#B6E880",
           "#FF97FF",
           "#FECB52"
          ],
          "font": {
           "color": "#2a3f5f"
          },
          "geo": {
           "bgcolor": "white",
           "lakecolor": "white",
           "landcolor": "#E5ECF6",
           "showlakes": true,
           "showland": true,
           "subunitcolor": "white"
          },
          "hoverlabel": {
           "align": "left"
          },
          "hovermode": "closest",
          "mapbox": {
           "style": "light"
          },
          "paper_bgcolor": "white",
          "plot_bgcolor": "#E5ECF6",
          "polar": {
           "angularaxis": {
            "gridcolor": "white",
            "linecolor": "white",
            "ticks": ""
           },
           "bgcolor": "#E5ECF6",
           "radialaxis": {
            "gridcolor": "white",
            "linecolor": "white",
            "ticks": ""
           }
          },
          "scene": {
           "xaxis": {
            "backgroundcolor": "#E5ECF6",
            "gridcolor": "white",
            "gridwidth": 2,
            "linecolor": "white",
            "showbackground": true,
            "ticks": "",
            "zerolinecolor": "white"
           },
           "yaxis": {
            "backgroundcolor": "#E5ECF6",
            "gridcolor": "white",
            "gridwidth": 2,
            "linecolor": "white",
            "showbackground": true,
            "ticks": "",
            "zerolinecolor": "white"
           },
           "zaxis": {
            "backgroundcolor": "#E5ECF6",
            "gridcolor": "white",
            "gridwidth": 2,
            "linecolor": "white",
            "showbackground": true,
            "ticks": "",
            "zerolinecolor": "white"
           }
          },
          "shapedefaults": {
           "line": {
            "color": "#2a3f5f"
           }
          },
          "ternary": {
           "aaxis": {
            "gridcolor": "white",
            "linecolor": "white",
            "ticks": ""
           },
           "baxis": {
            "gridcolor": "white",
            "linecolor": "white",
            "ticks": ""
           },
           "bgcolor": "#E5ECF6",
           "caxis": {
            "gridcolor": "white",
            "linecolor": "white",
            "ticks": ""
           }
          },
          "title": {
           "x": 0.05
          },
          "xaxis": {
           "automargin": true,
           "gridcolor": "white",
           "linecolor": "white",
           "ticks": "",
           "title": {
            "standoff": 15
           },
           "zerolinecolor": "white",
           "zerolinewidth": 2
          },
          "yaxis": {
           "automargin": true,
           "gridcolor": "white",
           "linecolor": "white",
           "ticks": "",
           "title": {
            "standoff": 15
           },
           "zerolinecolor": "white",
           "zerolinewidth": 2
          }
         }
        },
        "xaxis": {
         "anchor": "y",
         "domain": [
          0,
          1
         ],
         "title": {
          "text": "value_loan"
         }
        },
        "yaxis": {
         "anchor": "x",
         "domain": [
          0,
          1
         ],
         "title": {
          "text": "monthly_pay_with_maintanence"
         }
        }
       }
      },
      "text/html": [
       "<div>                            <div id=\"af6a297b-87f5-45cc-91dd-e1fb8254c28c\" class=\"plotly-graph-div\" style=\"height:525px; width:100%;\"></div>            <script type=\"text/javascript\">                require([\"plotly\"], function(Plotly) {                    window.PLOTLYENV=window.PLOTLYENV || {};                                    if (document.getElementById(\"af6a297b-87f5-45cc-91dd-e1fb8254c28c\")) {                    Plotly.newPlot(                        \"af6a297b-87f5-45cc-91dd-e1fb8254c28c\",                        [{\"hovertemplate\": \"down_pay=30000<br>value_loan=%{x}<br>monthly_pay_with_maintanence=%{y}<extra></extra>\", \"legendgroup\": \"30000\", \"line\": {\"color\": \"#636efa\", \"dash\": \"solid\"}, \"mode\": \"lines\", \"name\": \"30000\", \"orientation\": \"v\", \"showlegend\": true, \"type\": \"scatter\", \"x\": [400000, 410000, 420000, 430000, 440000, 450000, 460000, 470000, 480000, 490000, 500000, 510000, 520000, 530000, 540000, 550000], \"xaxis\": \"x\", \"y\": [1786.2771927267725, 1834.4333330707393, 1882.589473414706, 1930.7456137586728, 1978.9017541026396, 2027.0578944466065, 2075.2140347905734, 2123.37017513454, 2171.526315478507, 2219.682455822474, 2267.8385961664408, 2315.9947365104076, 2364.150876854374, 2412.307017198341, 2460.4631575423077, 2508.6192978862746], \"yaxis\": \"y\"}, {\"hovertemplate\": \"down_pay=40000<br>value_loan=%{x}<br>monthly_pay_with_maintanence=%{y}<extra></extra>\", \"legendgroup\": \"40000\", \"line\": {\"color\": \"#EF553B\", \"dash\": \"solid\"}, \"mode\": \"lines\", \"name\": \"40000\", \"orientation\": \"v\", \"showlegend\": true, \"type\": \"scatter\", \"x\": [400000, 410000, 420000, 430000, 440000, 450000, 460000, 470000, 480000, 490000, 500000, 510000, 520000, 530000, 540000, 550000, 560000, 570000, 580000, 590000, 600000, 610000, 620000, 630000, 640000, 650000], \"xaxis\": \"x\", \"y\": [1725.0858701987236, 1772.8382554820214, 1820.5906407653194, 1884.089473414706, 1932.2456137586728, 1980.4017541026396, 2028.5578944466065, 2076.7140347905734, 2124.87017513454, 2173.026315478507, 2221.182455822474, 2269.3385961664408, 2317.4947365104076, 2365.650876854374, 2413.807017198341, 2461.9631575423077, 2510.1192978862746, 2558.2754382302414, 2606.4315785742083, 2654.587718918175, 2702.743859262142, 2750.899999606109, 2799.0561399500757, 2847.2122802940426, 2895.3684206380094, 2943.5245609819763], \"yaxis\": \"y\"}, {\"hovertemplate\": \"down_pay=50000<br>value_loan=%{x}<br>monthly_pay_with_maintanence=%{y}<extra></extra>\", \"legendgroup\": \"50000\", \"line\": {\"color\": \"#00cc96\", \"dash\": \"solid\"}, \"mode\": \"lines\", \"name\": \"50000\", \"orientation\": \"v\", \"showlegend\": true, \"type\": \"scatter\", \"x\": [400000, 410000, 420000, 430000, 440000, 450000, 460000, 470000, 480000, 490000, 500000, 510000, 520000, 530000, 540000, 550000, 560000, 570000, 580000, 590000, 600000, 610000, 620000, 630000, 640000, 650000, 660000, 670000, 680000, 690000, 700000, 710000, 720000, 730000, 740000, 750000], \"xaxis\": \"x\", \"y\": [1678.8334849154257, 1726.5858701987236, 1774.3382554820214, 1822.0906407653194, 1869.8430260486173, 1917.595411331915, 1965.347796615213, 2013.1001818985108, 2060.852567181809, 2108.6049524651066, 2156.3573377484045, 2204.1097230317023, 2251.862108315, 2318.9947365104076, 2367.150876854374, 2415.307017198341, 2463.4631575423077, 2511.6192978862746, 2559.7754382302414, 2607.9315785742083, 2656.087718918175, 2704.243859262142, 2752.399999606109, 2800.5561399500757, 2848.7122802940426, 2896.8684206380094, 2945.0245609819763, 2993.180701325943, 3041.3368416699095, 3089.4929820138764, 3137.649122357843, 3185.80526270181, 3233.961403045777, 3282.117543389744, 3330.2736837337106, 3378.4298240776775], \"yaxis\": \"y\"}, {\"hovertemplate\": \"down_pay=60000<br>value_loan=%{x}<br>monthly_pay_with_maintanence=%{y}<extra></extra>\", \"legendgroup\": \"60000\", \"line\": {\"color\": \"#ab63fa\", \"dash\": \"solid\"}, \"mode\": \"lines\", \"name\": \"60000\", \"orientation\": \"v\", \"showlegend\": true, \"type\": \"scatter\", \"x\": [400000, 410000, 420000, 430000, 440000, 450000, 460000, 470000, 480000, 490000, 500000, 510000, 520000, 530000, 540000, 550000, 560000, 570000, 580000, 590000, 600000, 610000, 620000, 630000, 640000, 650000, 660000, 670000, 680000, 690000, 700000, 710000, 720000, 730000, 740000, 750000, 760000, 770000, 780000, 790000], \"xaxis\": \"x\", \"y\": [1632.581099632128, 1680.3334849154257, 1728.0858701987236, 1775.8382554820214, 1823.5906407653194, 1871.3430260486173, 1919.095411331915, 1966.847796615213, 2014.6001818985108, 2062.352567181809, 2110.1049524651066, 2157.8573377484045, 2205.6097230317023, 2253.362108315, 2301.114493598298, 2348.866878881596, 2396.619264164894, 2444.371649448192, 2492.1240347314897, 2539.8764200147875, 2587.6288052980854, 2635.381190581383, 2683.133575864681, 2730.885961147979, 2802.0561399500757, 2850.2122802940426, 2898.3684206380094, 2946.5245609819763, 2994.680701325943, 3042.8368416699095, 3090.9929820138764, 3139.149122357843, 3187.30526270181, 3235.461403045777, 3283.617543389744, 3331.7736837337106, 3379.9298240776775, 3428.0859644216443, 3476.242104765611, 3524.398245109578], \"yaxis\": \"y\"}, {\"hovertemplate\": \"down_pay=70000<br>value_loan=%{x}<br>monthly_pay_with_maintanence=%{y}<extra></extra>\", \"legendgroup\": \"70000\", \"line\": {\"color\": \"#FFA15A\", \"dash\": \"solid\"}, \"mode\": \"lines\", \"name\": \"70000\", \"orientation\": \"v\", \"showlegend\": true, \"type\": \"scatter\", \"x\": [400000, 410000, 420000, 430000, 440000, 450000, 460000, 470000, 480000, 490000, 500000, 510000, 520000, 530000, 540000, 550000, 560000, 570000, 580000, 590000, 600000, 610000, 620000, 630000, 640000, 650000, 660000, 670000, 680000, 690000, 700000, 710000, 720000, 730000, 740000, 750000, 760000, 770000, 780000, 790000], \"xaxis\": \"x\", \"y\": [1581.8874086814715, 1629.5052089445464, 1677.1230092076214, 1724.7408094706964, 1772.3586097337711, 1819.976409996846, 1872.8430260486173, 1920.595411331915, 1968.347796615213, 2016.1001818985108, 2063.852567181809, 2111.6049524651066, 2159.3573377484045, 2207.1097230317023, 2254.862108315, 2302.614493598298, 2350.366878881596, 2398.119264164894, 2445.871649448192, 2493.6240347314897, 2541.3764200147875, 2589.1288052980854, 2636.881190581383, 2684.633575864681, 2732.385961147979, 2780.138346431277, 2827.890731714575, 2875.6431169978728, 2923.3955022811706, 2971.1478875644684, 3018.9002728477662, 3066.652658131064, 3114.405043414362, 3162.1574286976597, 3236.961403045777, 3285.117543389744, 3333.2736837337106, 3381.4298240776775, 3429.5859644216443, 3477.742104765611], \"yaxis\": \"y\"}, {\"hovertemplate\": \"down_pay=80000<br>value_loan=%{x}<br>monthly_pay_with_maintanence=%{y}<extra></extra>\", \"legendgroup\": \"80000\", \"line\": {\"color\": \"#19d3f3\", \"dash\": \"solid\"}, \"mode\": \"lines\", \"name\": \"80000\", \"orientation\": \"v\", \"showlegend\": true, \"type\": \"scatter\", \"x\": [400000, 410000, 420000, 430000, 440000, 450000, 460000, 470000, 480000, 490000, 500000, 510000, 520000, 530000, 540000, 550000, 560000, 570000, 580000, 590000, 600000, 610000, 620000, 630000, 640000, 650000, 660000, 670000, 680000, 690000, 700000, 710000, 720000, 730000, 740000, 750000, 760000, 770000, 780000, 790000], \"xaxis\": \"x\", \"y\": [1495.573549045133, 1541.9352224527934, 1631.0052089445464, 1678.6230092076214, 1726.2408094706964, 1773.8586097337711, 1821.476409996846, 1869.094210259921, 1916.7120105229958, 1964.3298107860708, 2011.9476110491457, 2059.5654113122205, 2113.1049524651066, 2160.8573377484045, 2208.6097230317023, 2256.362108315, 2304.114493598298, 2351.866878881596, 2399.619264164894, 2447.371649448192, 2495.1240347314897, 2542.8764200147875, 2590.6288052980854, 2638.381190581383, 2686.133575864681, 2733.885961147979, 2781.638346431277, 2829.390731714575, 2877.1431169978728, 2924.8955022811706, 2972.6478875644684, 3020.4002728477662, 3068.152658131064, 3115.905043414362, 3163.6574286976597, 3211.409813980958, 3259.162199264256, 3306.9145845475537, 3354.6669698308515, 3402.4193551141493], \"yaxis\": \"y\"}, {\"hovertemplate\": \"down_pay=90000<br>value_loan=%{x}<br>monthly_pay_with_maintanence=%{y}<extra></extra>\", \"legendgroup\": \"90000\", \"line\": {\"color\": \"#FF6692\", \"dash\": \"solid\"}, \"mode\": \"lines\", \"name\": \"90000\", \"orientation\": \"v\", \"showlegend\": true, \"type\": \"scatter\", \"x\": [400000, 410000, 420000, 430000, 440000, 450000, 460000, 470000, 480000, 490000, 500000, 510000, 520000, 530000, 540000, 550000, 560000, 570000, 580000, 590000, 600000, 610000, 620000, 630000, 640000, 650000, 660000, 670000, 680000, 690000, 700000, 710000, 720000, 730000, 740000, 750000, 760000, 770000, 780000, 790000], \"xaxis\": \"x\", \"y\": [1450.7118756374725, 1497.073549045133, 1543.4352224527934, 1589.7968958604538, 1636.1585692681142, 1682.5202426757746, 1728.881916083435, 1822.976409996846, 1870.594210259921, 1918.2120105229958, 1965.8298107860708, 2013.4476110491457, 2061.0654113122205, 2108.6832115752954, 2156.3010118383704, 2203.9188121014454, 2251.53661236452, 2299.154412627595, 2346.77221289067, 2401.119264164894, 2448.871649448192, 2496.6240347314897, 2544.3764200147875, 2592.1288052980854, 2639.881190581383, 2687.633575864681, 2735.385961147979, 2783.138346431277, 2830.890731714575, 2878.6431169978728, 2926.3955022811706, 2974.1478875644684, 3021.9002728477662, 3069.652658131064, 3117.405043414362, 3165.1574286976597, 3212.909813980958, 3260.662199264256, 3308.4145845475537, 3356.1669698308515], \"yaxis\": \"y\"}, {\"hovertemplate\": \"down_pay=100000<br>value_loan=%{x}<br>monthly_pay_with_maintanence=%{y}<extra></extra>\", \"legendgroup\": \"100000\", \"line\": {\"color\": \"#B6E880\", \"dash\": \"solid\"}, \"mode\": \"lines\", \"name\": \"100000\", \"orientation\": \"v\", \"showlegend\": true, \"type\": \"scatter\", \"x\": [400000, 410000, 420000, 430000, 440000, 450000, 460000, 470000, 480000, 490000, 500000, 510000, 520000, 530000, 540000, 550000, 560000, 570000, 580000, 590000, 600000, 610000, 620000, 630000, 640000, 650000, 660000, 670000, 680000, 690000, 700000, 710000, 720000, 730000, 740000, 750000, 760000, 770000, 780000, 790000], \"xaxis\": \"x\", \"y\": [1405.850202229812, 1452.2118756374725, 1498.573549045133, 1544.9352224527934, 1591.2968958604538, 1637.6585692681142, 1684.0202426757746, 1730.381916083435, 1776.7435894910955, 1823.1052628987559, 1869.4669363064163, 1915.8286097140765, 2014.9476110491457, 2062.5654113122205, 2110.1832115752954, 2157.8010118383704, 2205.4188121014454, 2253.03661236452, 2300.654412627595, 2348.27221289067, 2395.890013153745, 2443.5078134168198, 2491.1256136798947, 2538.7434139429697, 2586.361214206044, 2641.381190581383, 2689.133575864681, 2736.885961147979, 2784.638346431277, 2832.390731714575, 2880.1431169978728, 2927.8955022811706, 2975.6478875644684, 3023.4002728477662, 3071.152658131064, 3118.905043414362, 3166.6574286976597, 3214.409813980958, 3262.162199264256, 3309.9145845475537], \"yaxis\": \"y\"}, {\"hovertemplate\": \"down_pay=110000<br>value_loan=%{x}<br>monthly_pay_with_maintanence=%{y}<extra></extra>\", \"legendgroup\": \"110000\", \"line\": {\"color\": \"#FF97FF\", \"dash\": \"solid\"}, \"mode\": \"lines\", \"name\": \"110000\", \"orientation\": \"v\", \"showlegend\": true, \"type\": \"scatter\", \"x\": [400000, 410000, 420000, 430000, 440000, 450000, 460000, 470000, 480000, 490000, 500000, 510000, 520000, 530000, 540000, 550000, 560000, 570000, 580000, 590000, 600000, 610000, 620000, 630000, 640000, 650000, 660000, 670000, 680000, 690000, 700000, 710000, 720000, 730000, 740000, 750000, 760000, 770000, 780000, 790000], \"xaxis\": \"x\", \"y\": [1360.9885288221517, 1407.350202229812, 1453.7118756374725, 1500.073549045133, 1546.4352224527934, 1592.7968958604538, 1639.1585692681142, 1685.5202426757746, 1731.881916083435, 1778.2435894910955, 1824.6052628987559, 1870.9669363064163, 1917.3286097140765, 1963.690283121737, 2010.0519565293973, 2056.4136299370575, 2102.775303344718, 2206.9188121014454, 2254.53661236452, 2302.154412627595, 2349.77221289067, 2397.390013153745, 2445.0078134168198, 2492.6256136798947, 2540.2434139429697, 2587.861214206044, 2635.479014469119, 2683.096814732194, 2730.714614995269, 2778.332415258344, 2825.950215521419, 2881.6431169978728, 2929.3955022811706, 2977.1478875644684, 3024.9002728477662, 3072.652658131064, 3120.405043414362, 3168.1574286976597, 3215.909813980958, 3263.662199264256], \"yaxis\": \"y\"}, {\"hovertemplate\": \"down_pay=120000<br>value_loan=%{x}<br>monthly_pay_with_maintanence=%{y}<extra></extra>\", \"legendgroup\": \"120000\", \"line\": {\"color\": \"#FECB52\", \"dash\": \"solid\"}, \"mode\": \"lines\", \"name\": \"120000\", \"orientation\": \"v\", \"showlegend\": true, \"type\": \"scatter\", \"x\": [400000, 410000, 420000, 430000, 440000, 450000, 460000, 470000, 480000, 490000, 500000, 510000, 520000, 530000, 540000, 550000, 560000, 570000, 580000, 590000, 600000, 610000, 620000, 630000, 640000, 650000, 660000, 670000, 680000, 690000, 700000, 710000, 720000, 730000, 740000, 750000, 760000, 770000, 780000, 790000], \"xaxis\": \"x\", \"y\": [1316.1268554144913, 1362.4885288221517, 1408.850202229812, 1455.2118756374725, 1501.573549045133, 1547.9352224527934, 1594.2968958604538, 1640.6585692681142, 1687.0202426757746, 1733.381916083435, 1779.7435894910955, 1826.1052628987559, 1872.4669363064163, 1918.8286097140765, 1965.190283121737, 2011.5519565293973, 2057.9136299370575, 2104.275303344718, 2150.636976752379, 2196.9986501600392, 2243.3603235676997, 2289.7219969753596, 2398.890013153745, 2446.5078134168198, 2494.1256136798947, 2541.7434139429697, 2589.361214206044, 2636.979014469119, 2684.596814732194, 2732.214614995269, 2779.832415258344, 2827.450215521419, 2875.0680157844936, 2922.6858160475686, 2970.3036163106435, 3017.9214165737185, 3065.5392168367935, 3113.1570170998684, 3169.6574286976597, 3217.409813980958], \"yaxis\": \"y\"}, {\"hovertemplate\": \"down_pay=130000<br>value_loan=%{x}<br>monthly_pay_with_maintanence=%{y}<extra></extra>\", \"legendgroup\": \"130000\", \"line\": {\"color\": \"#636efa\", \"dash\": \"solid\"}, \"mode\": \"lines\", \"name\": \"130000\", \"orientation\": \"v\", \"showlegend\": true, \"type\": \"scatter\", \"x\": [400000, 410000, 420000, 430000, 440000, 450000, 460000, 470000, 480000, 490000, 500000, 510000, 520000, 530000, 540000, 550000, 560000, 570000, 580000, 590000, 600000, 610000, 620000, 630000, 640000, 650000, 660000, 670000, 680000, 690000, 700000, 710000, 720000, 730000, 740000, 750000, 760000, 770000, 780000, 790000], \"xaxis\": \"x\", \"y\": [1271.2651820068309, 1317.6268554144913, 1363.9885288221517, 1410.350202229812, 1456.7118756374725, 1503.073549045133, 1549.4352224527934, 1595.7968958604538, 1642.1585692681142, 1688.5202426757746, 1734.881916083435, 1781.2435894910955, 1827.6052628987559, 1873.9669363064163, 1920.3286097140765, 1966.690283121737, 2013.0519565293973, 2059.4136299370575, 2105.775303344718, 2152.136976752379, 2198.4986501600392, 2244.8603235676997, 2291.2219969753596, 2337.58367038302, 2383.9453437906805, 2430.307017198341, 2476.6686906060013, 2590.861214206044, 2638.479014469119, 2686.096814732194, 2733.714614995269, 2781.332415258344, 2828.950215521419, 2876.5680157844936, 2924.1858160475686, 2971.8036163106435, 3019.4214165737185, 3067.0392168367935, 3114.6570170998684, 3162.274817362943], \"yaxis\": \"y\"}, {\"hovertemplate\": \"down_pay=140000<br>value_loan=%{x}<br>monthly_pay_with_maintanence=%{y}<extra></extra>\", \"legendgroup\": \"140000\", \"line\": {\"color\": \"#EF553B\", \"dash\": \"solid\"}, \"mode\": \"lines\", \"name\": \"140000\", \"orientation\": \"v\", \"showlegend\": true, \"type\": \"scatter\", \"x\": [400000, 410000, 420000, 430000, 440000, 450000, 460000, 470000, 480000, 490000, 500000, 510000, 520000, 530000, 540000, 550000, 560000, 570000, 580000, 590000, 600000, 610000, 620000, 630000, 640000, 650000, 660000, 670000, 680000, 690000, 700000, 710000, 720000, 730000, 740000, 750000, 760000, 770000, 780000, 790000], \"xaxis\": \"x\", \"y\": [1226.4035085991704, 1272.7651820068309, 1319.1268554144913, 1365.4885288221517, 1411.850202229812, 1458.2118756374725, 1504.573549045133, 1550.9352224527934, 1597.2968958604538, 1643.6585692681142, 1690.0202426757746, 1736.381916083435, 1782.7435894910955, 1829.1052628987559, 1875.4669363064163, 1921.8286097140765, 1968.190283121737, 2014.5519565293973, 2060.9136299370575, 2107.275303344718, 2153.636976752379, 2199.9986501600392, 2246.3603235676997, 2292.7219969753596, 2339.08367038302, 2385.4453437906805, 2431.807017198341, 2478.1686906060013, 2524.5303640136617, 2570.892037421322, 2617.2537108289825, 2663.615384236643, 2782.832415258344, 2830.450215521419, 2878.0680157844936, 2925.6858160475686, 2973.3036163106435, 3020.9214165737185, 3068.5392168367935, 3116.1570170998684], \"yaxis\": \"y\"}, {\"hovertemplate\": \"down_pay=150000<br>value_loan=%{x}<br>monthly_pay_with_maintanence=%{y}<extra></extra>\", \"legendgroup\": \"150000\", \"line\": {\"color\": \"#00cc96\", \"dash\": \"solid\"}, \"mode\": \"lines\", \"name\": \"150000\", \"orientation\": \"v\", \"showlegend\": true, \"type\": \"scatter\", \"x\": [400000, 410000, 420000, 430000, 440000, 450000, 460000, 470000, 480000, 490000, 500000, 510000, 520000, 530000, 540000, 550000, 560000, 570000, 580000, 590000, 600000, 610000, 620000, 630000, 640000, 650000, 660000, 670000, 680000, 690000, 700000, 710000, 720000, 730000, 740000, 750000, 760000, 770000, 780000, 790000], \"xaxis\": \"x\", \"y\": [1181.54183519151, 1227.9035085991704, 1274.2651820068309, 1320.6268554144913, 1366.9885288221517, 1413.350202229812, 1459.7118756374725, 1506.073549045133, 1552.4352224527934, 1598.7968958604538, 1645.1585692681142, 1691.5202426757746, 1737.881916083435, 1784.2435894910955, 1830.6052628987559, 1876.9669363064163, 1923.3286097140765, 1969.690283121737, 2016.0519565293973, 2062.4136299370575, 2108.775303344718, 2155.136976752379, 2201.4986501600392, 2247.8603235676997, 2294.2219969753596, 2340.58367038302, 2386.9453437906805, 2433.307017198341, 2479.6686906060013, 2526.0303640136617, 2572.392037421322, 2618.7537108289825, 2665.115384236643, 2711.4770576443034, 2757.838731051964, 2804.200404459624, 2850.5620778672846, 2974.8036163106435, 3022.4214165737185, 3070.0392168367935], \"yaxis\": \"y\"}],                        {\"legend\": {\"title\": {\"text\": \"down_pay\"}, \"tracegroupgap\": 0}, \"margin\": {\"t\": 60}, \"template\": {\"data\": {\"bar\": [{\"error_x\": {\"color\": \"#2a3f5f\"}, \"error_y\": {\"color\": \"#2a3f5f\"}, \"marker\": {\"line\": {\"color\": \"#E5ECF6\", \"width\": 0.5}}, \"type\": \"bar\"}], \"barpolar\": [{\"marker\": {\"line\": {\"color\": \"#E5ECF6\", \"width\": 0.5}}, \"type\": \"barpolar\"}], \"carpet\": [{\"aaxis\": {\"endlinecolor\": \"#2a3f5f\", \"gridcolor\": \"white\", \"linecolor\": \"white\", \"minorgridcolor\": \"white\", \"startlinecolor\": \"#2a3f5f\"}, \"baxis\": {\"endlinecolor\": \"#2a3f5f\", \"gridcolor\": \"white\", \"linecolor\": \"white\", \"minorgridcolor\": \"white\", \"startlinecolor\": \"#2a3f5f\"}, \"type\": \"carpet\"}], \"choropleth\": [{\"colorbar\": {\"outlinewidth\": 0, \"ticks\": \"\"}, \"type\": \"choropleth\"}], \"contour\": [{\"colorbar\": {\"outlinewidth\": 0, \"ticks\": \"\"}, \"colorscale\": [[0.0, \"#0d0887\"], [0.1111111111111111, \"#46039f\"], [0.2222222222222222, \"#7201a8\"], [0.3333333333333333, \"#9c179e\"], [0.4444444444444444, \"#bd3786\"], [0.5555555555555556, \"#d8576b\"], [0.6666666666666666, \"#ed7953\"], [0.7777777777777778, \"#fb9f3a\"], [0.8888888888888888, \"#fdca26\"], [1.0, \"#f0f921\"]], \"type\": \"contour\"}], \"contourcarpet\": [{\"colorbar\": {\"outlinewidth\": 0, \"ticks\": \"\"}, \"type\": \"contourcarpet\"}], \"heatmap\": [{\"colorbar\": {\"outlinewidth\": 0, \"ticks\": \"\"}, \"colorscale\": [[0.0, \"#0d0887\"], [0.1111111111111111, \"#46039f\"], [0.2222222222222222, \"#7201a8\"], [0.3333333333333333, \"#9c179e\"], [0.4444444444444444, \"#bd3786\"], [0.5555555555555556, \"#d8576b\"], [0.6666666666666666, \"#ed7953\"], [0.7777777777777778, \"#fb9f3a\"], [0.8888888888888888, \"#fdca26\"], [1.0, \"#f0f921\"]], \"type\": \"heatmap\"}], \"heatmapgl\": [{\"colorbar\": {\"outlinewidth\": 0, \"ticks\": \"\"}, \"colorscale\": [[0.0, \"#0d0887\"], [0.1111111111111111, \"#46039f\"], [0.2222222222222222, \"#7201a8\"], [0.3333333333333333, \"#9c179e\"], [0.4444444444444444, \"#bd3786\"], [0.5555555555555556, \"#d8576b\"], [0.6666666666666666, \"#ed7953\"], [0.7777777777777778, \"#fb9f3a\"], [0.8888888888888888, \"#fdca26\"], [1.0, \"#f0f921\"]], \"type\": \"heatmapgl\"}], \"histogram\": [{\"marker\": {\"colorbar\": {\"outlinewidth\": 0, \"ticks\": \"\"}}, \"type\": \"histogram\"}], \"histogram2d\": [{\"colorbar\": {\"outlinewidth\": 0, \"ticks\": \"\"}, \"colorscale\": [[0.0, \"#0d0887\"], [0.1111111111111111, \"#46039f\"], [0.2222222222222222, \"#7201a8\"], [0.3333333333333333, \"#9c179e\"], [0.4444444444444444, \"#bd3786\"], [0.5555555555555556, \"#d8576b\"], [0.6666666666666666, \"#ed7953\"], [0.7777777777777778, \"#fb9f3a\"], [0.8888888888888888, \"#fdca26\"], [1.0, \"#f0f921\"]], \"type\": \"histogram2d\"}], \"histogram2dcontour\": [{\"colorbar\": {\"outlinewidth\": 0, \"ticks\": \"\"}, \"colorscale\": [[0.0, \"#0d0887\"], [0.1111111111111111, \"#46039f\"], [0.2222222222222222, \"#7201a8\"], [0.3333333333333333, \"#9c179e\"], [0.4444444444444444, \"#bd3786\"], [0.5555555555555556, \"#d8576b\"], [0.6666666666666666, \"#ed7953\"], [0.7777777777777778, \"#fb9f3a\"], [0.8888888888888888, \"#fdca26\"], [1.0, \"#f0f921\"]], \"type\": \"histogram2dcontour\"}], \"mesh3d\": [{\"colorbar\": {\"outlinewidth\": 0, \"ticks\": \"\"}, \"type\": \"mesh3d\"}], \"parcoords\": [{\"line\": {\"colorbar\": {\"outlinewidth\": 0, \"ticks\": \"\"}}, \"type\": \"parcoords\"}], \"pie\": [{\"automargin\": true, \"type\": \"pie\"}], \"scatter\": [{\"marker\": {\"colorbar\": {\"outlinewidth\": 0, \"ticks\": \"\"}}, \"type\": \"scatter\"}], \"scatter3d\": [{\"line\": {\"colorbar\": {\"outlinewidth\": 0, \"ticks\": \"\"}}, \"marker\": {\"colorbar\": {\"outlinewidth\": 0, \"ticks\": \"\"}}, \"type\": \"scatter3d\"}], \"scattercarpet\": [{\"marker\": {\"colorbar\": {\"outlinewidth\": 0, \"ticks\": \"\"}}, \"type\": \"scattercarpet\"}], \"scattergeo\": [{\"marker\": {\"colorbar\": {\"outlinewidth\": 0, \"ticks\": \"\"}}, \"type\": \"scattergeo\"}], \"scattergl\": [{\"marker\": {\"colorbar\": {\"outlinewidth\": 0, \"ticks\": \"\"}}, \"type\": \"scattergl\"}], \"scattermapbox\": [{\"marker\": {\"colorbar\": {\"outlinewidth\": 0, \"ticks\": \"\"}}, \"type\": \"scattermapbox\"}], \"scatterpolar\": [{\"marker\": {\"colorbar\": {\"outlinewidth\": 0, \"ticks\": \"\"}}, \"type\": \"scatterpolar\"}], \"scatterpolargl\": [{\"marker\": {\"colorbar\": {\"outlinewidth\": 0, \"ticks\": \"\"}}, \"type\": \"scatterpolargl\"}], \"scatterternary\": [{\"marker\": {\"colorbar\": {\"outlinewidth\": 0, \"ticks\": \"\"}}, \"type\": \"scatterternary\"}], \"surface\": [{\"colorbar\": {\"outlinewidth\": 0, \"ticks\": \"\"}, \"colorscale\": [[0.0, \"#0d0887\"], [0.1111111111111111, \"#46039f\"], [0.2222222222222222, \"#7201a8\"], [0.3333333333333333, \"#9c179e\"], [0.4444444444444444, \"#bd3786\"], [0.5555555555555556, \"#d8576b\"], [0.6666666666666666, \"#ed7953\"], [0.7777777777777778, \"#fb9f3a\"], [0.8888888888888888, \"#fdca26\"], [1.0, \"#f0f921\"]], \"type\": \"surface\"}], \"table\": [{\"cells\": {\"fill\": {\"color\": \"#EBF0F8\"}, \"line\": {\"color\": \"white\"}}, \"header\": {\"fill\": {\"color\": \"#C8D4E3\"}, \"line\": {\"color\": \"white\"}}, \"type\": \"table\"}]}, \"layout\": {\"annotationdefaults\": {\"arrowcolor\": \"#2a3f5f\", \"arrowhead\": 0, \"arrowwidth\": 1}, \"autotypenumbers\": \"strict\", \"coloraxis\": {\"colorbar\": {\"outlinewidth\": 0, \"ticks\": \"\"}}, \"colorscale\": {\"diverging\": [[0, \"#8e0152\"], [0.1, \"#c51b7d\"], [0.2, \"#de77ae\"], [0.3, \"#f1b6da\"], [0.4, \"#fde0ef\"], [0.5, \"#f7f7f7\"], [0.6, \"#e6f5d0\"], [0.7, \"#b8e186\"], [0.8, \"#7fbc41\"], [0.9, \"#4d9221\"], [1, \"#276419\"]], \"sequential\": [[0.0, \"#0d0887\"], [0.1111111111111111, \"#46039f\"], [0.2222222222222222, \"#7201a8\"], [0.3333333333333333, \"#9c179e\"], [0.4444444444444444, \"#bd3786\"], [0.5555555555555556, \"#d8576b\"], [0.6666666666666666, \"#ed7953\"], [0.7777777777777778, \"#fb9f3a\"], [0.8888888888888888, \"#fdca26\"], [1.0, \"#f0f921\"]], \"sequentialminus\": [[0.0, \"#0d0887\"], [0.1111111111111111, \"#46039f\"], [0.2222222222222222, \"#7201a8\"], [0.3333333333333333, \"#9c179e\"], [0.4444444444444444, \"#bd3786\"], [0.5555555555555556, \"#d8576b\"], [0.6666666666666666, \"#ed7953\"], [0.7777777777777778, \"#fb9f3a\"], [0.8888888888888888, \"#fdca26\"], [1.0, \"#f0f921\"]]}, \"colorway\": [\"#636efa\", \"#EF553B\", \"#00cc96\", \"#ab63fa\", \"#FFA15A\", \"#19d3f3\", \"#FF6692\", \"#B6E880\", \"#FF97FF\", \"#FECB52\"], \"font\": {\"color\": \"#2a3f5f\"}, \"geo\": {\"bgcolor\": \"white\", \"lakecolor\": \"white\", \"landcolor\": \"#E5ECF6\", \"showlakes\": true, \"showland\": true, \"subunitcolor\": \"white\"}, \"hoverlabel\": {\"align\": \"left\"}, \"hovermode\": \"closest\", \"mapbox\": {\"style\": \"light\"}, \"paper_bgcolor\": \"white\", \"plot_bgcolor\": \"#E5ECF6\", \"polar\": {\"angularaxis\": {\"gridcolor\": \"white\", \"linecolor\": \"white\", \"ticks\": \"\"}, \"bgcolor\": \"#E5ECF6\", \"radialaxis\": {\"gridcolor\": \"white\", \"linecolor\": \"white\", \"ticks\": \"\"}}, \"scene\": {\"xaxis\": {\"backgroundcolor\": \"#E5ECF6\", \"gridcolor\": \"white\", \"gridwidth\": 2, \"linecolor\": \"white\", \"showbackground\": true, \"ticks\": \"\", \"zerolinecolor\": \"white\"}, \"yaxis\": {\"backgroundcolor\": \"#E5ECF6\", \"gridcolor\": \"white\", \"gridwidth\": 2, \"linecolor\": \"white\", \"showbackground\": true, \"ticks\": \"\", \"zerolinecolor\": \"white\"}, \"zaxis\": {\"backgroundcolor\": \"#E5ECF6\", \"gridcolor\": \"white\", \"gridwidth\": 2, \"linecolor\": \"white\", \"showbackground\": true, \"ticks\": \"\", \"zerolinecolor\": \"white\"}}, \"shapedefaults\": {\"line\": {\"color\": \"#2a3f5f\"}}, \"ternary\": {\"aaxis\": {\"gridcolor\": \"white\", \"linecolor\": \"white\", \"ticks\": \"\"}, \"baxis\": {\"gridcolor\": \"white\", \"linecolor\": \"white\", \"ticks\": \"\"}, \"bgcolor\": \"#E5ECF6\", \"caxis\": {\"gridcolor\": \"white\", \"linecolor\": \"white\", \"ticks\": \"\"}}, \"title\": {\"x\": 0.05}, \"xaxis\": {\"automargin\": true, \"gridcolor\": \"white\", \"linecolor\": \"white\", \"ticks\": \"\", \"title\": {\"standoff\": 15}, \"zerolinecolor\": \"white\", \"zerolinewidth\": 2}, \"yaxis\": {\"automargin\": true, \"gridcolor\": \"white\", \"linecolor\": \"white\", \"ticks\": \"\", \"title\": {\"standoff\": 15}, \"zerolinecolor\": \"white\", \"zerolinewidth\": 2}}}, \"xaxis\": {\"anchor\": \"y\", \"domain\": [0.0, 1.0], \"title\": {\"text\": \"value_loan\"}}, \"yaxis\": {\"anchor\": \"x\", \"domain\": [0.0, 1.0], \"title\": {\"text\": \"monthly_pay_with_maintanence\"}}},                        {\"responsive\": true}                    ).then(function(){\n",
       "                            \n",
       "var gd = document.getElementById('af6a297b-87f5-45cc-91dd-e1fb8254c28c');\n",
       "var x = new MutationObserver(function (mutations, observer) {{\n",
       "        var display = window.getComputedStyle(gd).display;\n",
       "        if (!display || display === 'none') {{\n",
       "            console.log([gd, 'removed!']);\n",
       "            Plotly.purge(gd);\n",
       "            observer.disconnect();\n",
       "        }}\n",
       "}});\n",
       "\n",
       "// Listen for the removal of the full notebook cells\n",
       "var notebookContainer = gd.closest('#notebook-container');\n",
       "if (notebookContainer) {{\n",
       "    x.observe(notebookContainer, {childList: true});\n",
       "}}\n",
       "\n",
       "// Listen for the clearing of the current output cell\n",
       "var outputEl = gd.closest('.output');\n",
       "if (outputEl) {{\n",
       "    x.observe(outputEl, {childList: true});\n",
       "}}\n",
       "\n",
       "                        })                };                });            </script>        </div>"
      ]
     },
     "metadata": {},
     "output_type": "display_data"
    }
   ],
   "source": [
    "Mort.plot_x_value_loan(\"monthly_pay_with_maintanence\", \"down_pay\")"
   ]
  },
  {
   "cell_type": "code",
   "execution_count": 52,
   "metadata": {},
   "outputs": [
    {
     "data": {
      "application/vnd.plotly.v1+json": {
       "config": {
        "plotlyServerURL": "https://plot.ly"
       },
       "data": [
        {
         "hovertemplate": "down_pay=30000<br>value_loan=%{x}<br>two_year_cum_non_principle=%{y}<extra></extra>",
         "legendgroup": "30000",
         "line": {
          "color": "#636efa",
          "dash": "solid"
         },
         "mode": "lines",
         "name": "30000",
         "orientation": "v",
         "showlegend": true,
         "type": "scatter",
         "x": [
          400000,
          410000,
          420000,
          430000,
          440000,
          450000,
          460000,
          470000,
          480000,
          490000,
          500000,
          510000,
          520000,
          530000,
          540000,
          550000
         ],
         "xaxis": "x",
         "y": [
          20140.14,
          20681.55,
          21222.96,
          21764.36,
          22305.77,
          22847.18,
          23388.59,
          23930,
          24471.41,
          25012.82,
          25554.23,
          26095.64,
          26637.05,
          27178.46,
          27719.86,
          28261.27
         ],
         "yaxis": "y"
        },
        {
         "hovertemplate": "down_pay=40000<br>value_loan=%{x}<br>two_year_cum_non_principle=%{y}<extra></extra>",
         "legendgroup": "40000",
         "line": {
          "color": "#EF553B",
          "dash": "solid"
         },
         "mode": "lines",
         "name": "40000",
         "orientation": "v",
         "showlegend": true,
         "type": "scatter",
         "x": [
          400000,
          410000,
          420000,
          430000,
          440000,
          450000,
          460000,
          470000,
          480000,
          490000,
          500000,
          510000,
          520000,
          530000,
          540000,
          550000,
          560000,
          570000,
          580000,
          590000,
          600000,
          610000,
          620000,
          630000,
          640000,
          650000
         ],
         "xaxis": "x",
         "y": [
          19477.27,
          20014.31,
          20551.34,
          21258.96,
          21800.36,
          22341.77,
          22883.18,
          23424.59,
          23966,
          24507.41,
          25048.82,
          25590.23,
          26131.64,
          26673.05,
          27214.46,
          27755.86,
          28297.27,
          28838.68,
          29380.09,
          29921.5,
          30462.91,
          31004.32,
          31545.73,
          32087.14,
          32628.55,
          33169.96
         ],
         "yaxis": "y"
        },
        {
         "hovertemplate": "down_pay=50000<br>value_loan=%{x}<br>two_year_cum_non_principle=%{y}<extra></extra>",
         "legendgroup": "50000",
         "line": {
          "color": "#00cc96",
          "dash": "solid"
         },
         "mode": "lines",
         "name": "50000",
         "orientation": "v",
         "showlegend": true,
         "type": "scatter",
         "x": [
          400000,
          410000,
          420000,
          430000,
          440000,
          450000,
          460000,
          470000,
          480000,
          490000,
          500000,
          510000,
          520000,
          530000,
          540000,
          550000,
          560000,
          570000,
          580000,
          590000,
          600000,
          610000,
          620000,
          630000,
          640000,
          650000,
          660000,
          670000,
          680000,
          690000,
          700000,
          710000,
          720000,
          730000,
          740000,
          750000
         ],
         "xaxis": "x",
         "y": [
          18976.24,
          19513.27,
          20050.31,
          20587.34,
          21124.38,
          21661.41,
          22198.45,
          22735.49,
          23272.52,
          23809.56,
          24346.59,
          24883.63,
          25420.66,
          26167.64,
          26709.05,
          27250.46,
          27791.86,
          28333.27,
          28874.68,
          29416.09,
          29957.5,
          30498.91,
          31040.32,
          31581.73,
          32123.14,
          32664.55,
          33205.96,
          33747.36,
          34288.77,
          34830.18,
          35371.59,
          35913,
          36454.41,
          36995.82,
          37537.23,
          38078.64
         ],
         "yaxis": "y"
        },
        {
         "hovertemplate": "down_pay=60000<br>value_loan=%{x}<br>two_year_cum_non_principle=%{y}<extra></extra>",
         "legendgroup": "60000",
         "line": {
          "color": "#ab63fa",
          "dash": "solid"
         },
         "mode": "lines",
         "name": "60000",
         "orientation": "v",
         "showlegend": true,
         "type": "scatter",
         "x": [
          400000,
          410000,
          420000,
          430000,
          440000,
          450000,
          460000,
          470000,
          480000,
          490000,
          500000,
          510000,
          520000,
          530000,
          540000,
          550000,
          560000,
          570000,
          580000,
          590000,
          600000,
          610000,
          620000,
          630000,
          640000,
          650000,
          660000,
          670000,
          680000,
          690000,
          700000,
          710000,
          720000,
          730000,
          740000,
          750000,
          760000,
          770000,
          780000,
          790000
         ],
         "xaxis": "x",
         "y": [
          18475.2,
          19012.24,
          19549.27,
          20086.31,
          20623.34,
          21160.38,
          21697.41,
          22234.45,
          22771.49,
          23308.52,
          23845.56,
          24382.59,
          24919.63,
          25456.66,
          25993.7,
          26530.73,
          27067.77,
          27604.8,
          28141.84,
          28678.87,
          29215.91,
          29752.95,
          30289.98,
          30827.02,
          31617.73,
          32159.14,
          32700.55,
          33241.96,
          33783.36,
          34324.77,
          34866.18,
          35407.59,
          35949,
          36490.41,
          37031.82,
          37573.23,
          38114.64,
          38656.05,
          39197.46,
          39738.86
         ],
         "yaxis": "y"
        },
        {
         "hovertemplate": "down_pay=70000<br>value_loan=%{x}<br>two_year_cum_non_principle=%{y}<extra></extra>",
         "legendgroup": "70000",
         "line": {
          "color": "#FFA15A",
          "dash": "solid"
         },
         "mode": "lines",
         "name": "70000",
         "orientation": "v",
         "showlegend": true,
         "type": "scatter",
         "x": [
          400000,
          410000,
          420000,
          430000,
          440000,
          450000,
          460000,
          470000,
          480000,
          490000,
          500000,
          510000,
          520000,
          530000,
          540000,
          550000,
          560000,
          570000,
          580000,
          590000,
          600000,
          610000,
          620000,
          630000,
          640000,
          650000,
          660000,
          670000,
          680000,
          690000,
          700000,
          710000,
          720000,
          730000,
          740000,
          750000,
          760000,
          770000,
          780000,
          790000
         ],
         "xaxis": "x",
         "y": [
          17926.06,
          18461.63,
          18997.21,
          19532.79,
          20068.37,
          20603.94,
          21196.38,
          21733.41,
          22270.45,
          22807.49,
          23344.52,
          23881.56,
          24418.59,
          24955.63,
          25492.66,
          26029.7,
          26566.73,
          27103.77,
          27640.8,
          28177.84,
          28714.87,
          29251.91,
          29788.95,
          30325.98,
          30863.02,
          31400.05,
          31937.09,
          32474.12,
          33011.16,
          33548.19,
          34085.23,
          34622.26,
          35159.3,
          35696.33,
          36526.41,
          37067.82,
          37609.23,
          38150.64,
          38692.05,
          39233.46
         ],
         "yaxis": "y"
        },
        {
         "hovertemplate": "down_pay=80000<br>value_loan=%{x}<br>two_year_cum_non_principle=%{y}<extra></extra>",
         "legendgroup": "80000",
         "line": {
          "color": "#19d3f3",
          "dash": "solid"
         },
         "mode": "lines",
         "name": "80000",
         "orientation": "v",
         "showlegend": true,
         "type": "scatter",
         "x": [
          400000,
          410000,
          420000,
          430000,
          440000,
          450000,
          460000,
          470000,
          480000,
          490000,
          500000,
          510000,
          520000,
          530000,
          540000,
          550000,
          560000,
          570000,
          580000,
          590000,
          600000,
          610000,
          620000,
          630000,
          640000,
          650000,
          660000,
          670000,
          680000,
          690000,
          700000,
          710000,
          720000,
          730000,
          740000,
          750000,
          760000,
          770000,
          780000,
          790000
         ],
         "xaxis": "x",
         "y": [
          16991.05,
          17513.02,
          18497.63,
          19033.21,
          19568.79,
          20104.37,
          20639.94,
          21175.52,
          21711.1,
          22246.68,
          22782.25,
          23317.83,
          23917.56,
          24454.59,
          24991.63,
          25528.66,
          26065.7,
          26602.73,
          27139.77,
          27676.8,
          28213.84,
          28750.87,
          29287.91,
          29824.95,
          30361.98,
          30899.02,
          31436.05,
          31973.09,
          32510.12,
          33047.16,
          33584.19,
          34121.23,
          34658.26,
          35195.3,
          35732.33,
          36269.37,
          36806.41,
          37343.44,
          37880.48,
          38417.51
         ],
         "yaxis": "y"
        },
        {
         "hovertemplate": "down_pay=90000<br>value_loan=%{x}<br>two_year_cum_non_principle=%{y}<extra></extra>",
         "legendgroup": "90000",
         "line": {
          "color": "#FF6692",
          "dash": "solid"
         },
         "mode": "lines",
         "name": "90000",
         "orientation": "v",
         "showlegend": true,
         "type": "scatter",
         "x": [
          400000,
          410000,
          420000,
          430000,
          440000,
          450000,
          460000,
          470000,
          480000,
          490000,
          500000,
          510000,
          520000,
          530000,
          540000,
          550000,
          560000,
          570000,
          580000,
          590000,
          600000,
          610000,
          620000,
          630000,
          640000,
          650000,
          660000,
          670000,
          680000,
          690000,
          700000,
          710000,
          720000,
          730000,
          740000,
          750000,
          760000,
          770000,
          780000,
          790000
         ],
         "xaxis": "x",
         "y": [
          16505.08,
          17027.05,
          17549.02,
          18070.99,
          18592.96,
          19114.93,
          19636.9,
          20675.94,
          21211.52,
          21747.1,
          22282.68,
          22818.25,
          23353.83,
          23889.41,
          24424.99,
          24960.56,
          25496.14,
          26031.72,
          26567.3,
          27175.77,
          27712.8,
          28249.84,
          28786.87,
          29323.91,
          29860.95,
          30397.98,
          30935.02,
          31472.05,
          32009.09,
          32546.12,
          33083.16,
          33620.19,
          34157.23,
          34694.26,
          35231.3,
          35768.33,
          36305.37,
          36842.41,
          37379.44,
          37916.48
         ],
         "yaxis": "y"
        },
        {
         "hovertemplate": "down_pay=100000<br>value_loan=%{x}<br>two_year_cum_non_principle=%{y}<extra></extra>",
         "legendgroup": "100000",
         "line": {
          "color": "#B6E880",
          "dash": "solid"
         },
         "mode": "lines",
         "name": "100000",
         "orientation": "v",
         "showlegend": true,
         "type": "scatter",
         "x": [
          400000,
          410000,
          420000,
          430000,
          440000,
          450000,
          460000,
          470000,
          480000,
          490000,
          500000,
          510000,
          520000,
          530000,
          540000,
          550000,
          560000,
          570000,
          580000,
          590000,
          600000,
          610000,
          620000,
          630000,
          640000,
          650000,
          660000,
          670000,
          680000,
          690000,
          700000,
          710000,
          720000,
          730000,
          740000,
          750000,
          760000,
          770000,
          780000,
          790000
         ],
         "xaxis": "x",
         "y": [
          16019.11,
          16541.08,
          17063.05,
          17585.02,
          18106.99,
          18628.96,
          19150.93,
          19672.9,
          20194.87,
          20716.84,
          21238.81,
          21760.78,
          22854.25,
          23389.83,
          23925.41,
          24460.99,
          24996.56,
          25532.14,
          26067.72,
          26603.3,
          27138.87,
          27674.45,
          28210.03,
          28745.61,
          29281.18,
          29896.95,
          30433.98,
          30971.02,
          31508.05,
          32045.09,
          32582.12,
          33119.16,
          33656.19,
          34193.23,
          34730.26,
          35267.3,
          35804.33,
          36341.37,
          36878.41,
          37415.44
         ],
         "yaxis": "y"
        },
        {
         "hovertemplate": "down_pay=110000<br>value_loan=%{x}<br>two_year_cum_non_principle=%{y}<extra></extra>",
         "legendgroup": "110000",
         "line": {
          "color": "#FF97FF",
          "dash": "solid"
         },
         "mode": "lines",
         "name": "110000",
         "orientation": "v",
         "showlegend": true,
         "type": "scatter",
         "x": [
          400000,
          410000,
          420000,
          430000,
          440000,
          450000,
          460000,
          470000,
          480000,
          490000,
          500000,
          510000,
          520000,
          530000,
          540000,
          550000,
          560000,
          570000,
          580000,
          590000,
          600000,
          610000,
          620000,
          630000,
          640000,
          650000,
          660000,
          670000,
          680000,
          690000,
          700000,
          710000,
          720000,
          730000,
          740000,
          750000,
          760000,
          770000,
          780000,
          790000
         ],
         "xaxis": "x",
         "y": [
          15533.14,
          16055.11,
          16577.08,
          17099.05,
          17621.02,
          18142.99,
          18664.96,
          19186.93,
          19708.9,
          20230.87,
          20752.84,
          21274.81,
          21796.78,
          22318.75,
          22840.72,
          23362.69,
          23884.66,
          25032.56,
          25568.14,
          26103.72,
          26639.3,
          27174.87,
          27710.45,
          28246.03,
          28781.61,
          29317.18,
          29852.76,
          30388.34,
          30923.92,
          31459.49,
          31995.07,
          32618.12,
          33155.16,
          33692.19,
          34229.23,
          34766.26,
          35303.3,
          35840.33,
          36377.37,
          36914.41
         ],
         "yaxis": "y"
        },
        {
         "hovertemplate": "down_pay=120000<br>value_loan=%{x}<br>two_year_cum_non_principle=%{y}<extra></extra>",
         "legendgroup": "120000",
         "line": {
          "color": "#FECB52",
          "dash": "solid"
         },
         "mode": "lines",
         "name": "120000",
         "orientation": "v",
         "showlegend": true,
         "type": "scatter",
         "x": [
          400000,
          410000,
          420000,
          430000,
          440000,
          450000,
          460000,
          470000,
          480000,
          490000,
          500000,
          510000,
          520000,
          530000,
          540000,
          550000,
          560000,
          570000,
          580000,
          590000,
          600000,
          610000,
          620000,
          630000,
          640000,
          650000,
          660000,
          670000,
          680000,
          690000,
          700000,
          710000,
          720000,
          730000,
          740000,
          750000,
          760000,
          770000,
          780000,
          790000
         ],
         "xaxis": "x",
         "y": [
          15047.17,
          15569.14,
          16091.11,
          16613.08,
          17135.05,
          17657.02,
          18178.99,
          18700.96,
          19222.93,
          19744.9,
          20266.87,
          20788.84,
          21310.81,
          21832.78,
          22354.75,
          22876.72,
          23398.69,
          23920.66,
          24442.63,
          24964.6,
          25486.57,
          26008.54,
          27210.87,
          27746.45,
          28282.03,
          28817.61,
          29353.18,
          29888.76,
          30424.34,
          30959.92,
          31495.49,
          32031.07,
          32566.65,
          33102.23,
          33637.8,
          34173.38,
          34708.96,
          35244.54,
          35876.33,
          36413.37
         ],
         "yaxis": "y"
        },
        {
         "hovertemplate": "down_pay=130000<br>value_loan=%{x}<br>two_year_cum_non_principle=%{y}<extra></extra>",
         "legendgroup": "130000",
         "line": {
          "color": "#636efa",
          "dash": "solid"
         },
         "mode": "lines",
         "name": "130000",
         "orientation": "v",
         "showlegend": true,
         "type": "scatter",
         "x": [
          400000,
          410000,
          420000,
          430000,
          440000,
          450000,
          460000,
          470000,
          480000,
          490000,
          500000,
          510000,
          520000,
          530000,
          540000,
          550000,
          560000,
          570000,
          580000,
          590000,
          600000,
          610000,
          620000,
          630000,
          640000,
          650000,
          660000,
          670000,
          680000,
          690000,
          700000,
          710000,
          720000,
          730000,
          740000,
          750000,
          760000,
          770000,
          780000,
          790000
         ],
         "xaxis": "x",
         "y": [
          14561.2,
          15083.17,
          15605.14,
          16127.11,
          16649.08,
          17171.05,
          17693.02,
          18214.99,
          18736.96,
          19258.93,
          19780.9,
          20302.87,
          20824.84,
          21346.81,
          21868.78,
          22390.75,
          22912.72,
          23434.69,
          23956.66,
          24478.63,
          25000.6,
          25522.57,
          26044.54,
          26566.51,
          27088.48,
          27610.46,
          28132.43,
          29389.18,
          29924.76,
          30460.34,
          30995.92,
          31531.49,
          32067.07,
          32602.65,
          33138.23,
          33673.8,
          34209.38,
          34744.96,
          35280.54,
          35816.11
         ],
         "yaxis": "y"
        },
        {
         "hovertemplate": "down_pay=140000<br>value_loan=%{x}<br>two_year_cum_non_principle=%{y}<extra></extra>",
         "legendgroup": "140000",
         "line": {
          "color": "#EF553B",
          "dash": "solid"
         },
         "mode": "lines",
         "name": "140000",
         "orientation": "v",
         "showlegend": true,
         "type": "scatter",
         "x": [
          400000,
          410000,
          420000,
          430000,
          440000,
          450000,
          460000,
          470000,
          480000,
          490000,
          500000,
          510000,
          520000,
          530000,
          540000,
          550000,
          560000,
          570000,
          580000,
          590000,
          600000,
          610000,
          620000,
          630000,
          640000,
          650000,
          660000,
          670000,
          680000,
          690000,
          700000,
          710000,
          720000,
          730000,
          740000,
          750000,
          760000,
          770000,
          780000,
          790000
         ],
         "xaxis": "x",
         "y": [
          14075.23,
          14597.2,
          15119.17,
          15641.14,
          16163.11,
          16685.08,
          17207.05,
          17729.02,
          18250.99,
          18772.96,
          19294.93,
          19816.9,
          20338.87,
          20860.84,
          21382.81,
          21904.78,
          22426.75,
          22948.72,
          23470.69,
          23992.66,
          24514.63,
          25036.6,
          25558.57,
          26080.54,
          26602.51,
          27124.48,
          27646.46,
          28168.43,
          28690.4,
          29212.37,
          29734.34,
          30256.31,
          31567.49,
          32103.07,
          32638.65,
          33174.23,
          33709.8,
          34245.38,
          34780.96,
          35316.54
         ],
         "yaxis": "y"
        },
        {
         "hovertemplate": "down_pay=150000<br>value_loan=%{x}<br>two_year_cum_non_principle=%{y}<extra></extra>",
         "legendgroup": "150000",
         "line": {
          "color": "#00cc96",
          "dash": "solid"
         },
         "mode": "lines",
         "name": "150000",
         "orientation": "v",
         "showlegend": true,
         "type": "scatter",
         "x": [
          400000,
          410000,
          420000,
          430000,
          440000,
          450000,
          460000,
          470000,
          480000,
          490000,
          500000,
          510000,
          520000,
          530000,
          540000,
          550000,
          560000,
          570000,
          580000,
          590000,
          600000,
          610000,
          620000,
          630000,
          640000,
          650000,
          660000,
          670000,
          680000,
          690000,
          700000,
          710000,
          720000,
          730000,
          740000,
          750000,
          760000,
          770000,
          780000,
          790000
         ],
         "xaxis": "x",
         "y": [
          13589.26,
          14111.23,
          14633.2,
          15155.17,
          15677.14,
          16199.11,
          16721.08,
          17243.05,
          17765.02,
          18286.99,
          18808.96,
          19330.93,
          19852.9,
          20374.87,
          20896.84,
          21418.81,
          21940.78,
          22462.75,
          22984.72,
          23506.69,
          24028.66,
          24550.63,
          25072.6,
          25594.57,
          26116.54,
          26638.51,
          27160.48,
          27682.46,
          28204.43,
          28726.4,
          29248.37,
          29770.34,
          30292.31,
          30814.28,
          31336.25,
          31858.22,
          32380.19,
          33745.8,
          34281.38,
          34816.96
         ],
         "yaxis": "y"
        }
       ],
       "layout": {
        "legend": {
         "title": {
          "text": "down_pay"
         },
         "tracegroupgap": 0
        },
        "margin": {
         "t": 60
        },
        "template": {
         "data": {
          "bar": [
           {
            "error_x": {
             "color": "#2a3f5f"
            },
            "error_y": {
             "color": "#2a3f5f"
            },
            "marker": {
             "line": {
              "color": "#E5ECF6",
              "width": 0.5
             }
            },
            "type": "bar"
           }
          ],
          "barpolar": [
           {
            "marker": {
             "line": {
              "color": "#E5ECF6",
              "width": 0.5
             }
            },
            "type": "barpolar"
           }
          ],
          "carpet": [
           {
            "aaxis": {
             "endlinecolor": "#2a3f5f",
             "gridcolor": "white",
             "linecolor": "white",
             "minorgridcolor": "white",
             "startlinecolor": "#2a3f5f"
            },
            "baxis": {
             "endlinecolor": "#2a3f5f",
             "gridcolor": "white",
             "linecolor": "white",
             "minorgridcolor": "white",
             "startlinecolor": "#2a3f5f"
            },
            "type": "carpet"
           }
          ],
          "choropleth": [
           {
            "colorbar": {
             "outlinewidth": 0,
             "ticks": ""
            },
            "type": "choropleth"
           }
          ],
          "contour": [
           {
            "colorbar": {
             "outlinewidth": 0,
             "ticks": ""
            },
            "colorscale": [
             [
              0,
              "#0d0887"
             ],
             [
              0.1111111111111111,
              "#46039f"
             ],
             [
              0.2222222222222222,
              "#7201a8"
             ],
             [
              0.3333333333333333,
              "#9c179e"
             ],
             [
              0.4444444444444444,
              "#bd3786"
             ],
             [
              0.5555555555555556,
              "#d8576b"
             ],
             [
              0.6666666666666666,
              "#ed7953"
             ],
             [
              0.7777777777777778,
              "#fb9f3a"
             ],
             [
              0.8888888888888888,
              "#fdca26"
             ],
             [
              1,
              "#f0f921"
             ]
            ],
            "type": "contour"
           }
          ],
          "contourcarpet": [
           {
            "colorbar": {
             "outlinewidth": 0,
             "ticks": ""
            },
            "type": "contourcarpet"
           }
          ],
          "heatmap": [
           {
            "colorbar": {
             "outlinewidth": 0,
             "ticks": ""
            },
            "colorscale": [
             [
              0,
              "#0d0887"
             ],
             [
              0.1111111111111111,
              "#46039f"
             ],
             [
              0.2222222222222222,
              "#7201a8"
             ],
             [
              0.3333333333333333,
              "#9c179e"
             ],
             [
              0.4444444444444444,
              "#bd3786"
             ],
             [
              0.5555555555555556,
              "#d8576b"
             ],
             [
              0.6666666666666666,
              "#ed7953"
             ],
             [
              0.7777777777777778,
              "#fb9f3a"
             ],
             [
              0.8888888888888888,
              "#fdca26"
             ],
             [
              1,
              "#f0f921"
             ]
            ],
            "type": "heatmap"
           }
          ],
          "heatmapgl": [
           {
            "colorbar": {
             "outlinewidth": 0,
             "ticks": ""
            },
            "colorscale": [
             [
              0,
              "#0d0887"
             ],
             [
              0.1111111111111111,
              "#46039f"
             ],
             [
              0.2222222222222222,
              "#7201a8"
             ],
             [
              0.3333333333333333,
              "#9c179e"
             ],
             [
              0.4444444444444444,
              "#bd3786"
             ],
             [
              0.5555555555555556,
              "#d8576b"
             ],
             [
              0.6666666666666666,
              "#ed7953"
             ],
             [
              0.7777777777777778,
              "#fb9f3a"
             ],
             [
              0.8888888888888888,
              "#fdca26"
             ],
             [
              1,
              "#f0f921"
             ]
            ],
            "type": "heatmapgl"
           }
          ],
          "histogram": [
           {
            "marker": {
             "colorbar": {
              "outlinewidth": 0,
              "ticks": ""
             }
            },
            "type": "histogram"
           }
          ],
          "histogram2d": [
           {
            "colorbar": {
             "outlinewidth": 0,
             "ticks": ""
            },
            "colorscale": [
             [
              0,
              "#0d0887"
             ],
             [
              0.1111111111111111,
              "#46039f"
             ],
             [
              0.2222222222222222,
              "#7201a8"
             ],
             [
              0.3333333333333333,
              "#9c179e"
             ],
             [
              0.4444444444444444,
              "#bd3786"
             ],
             [
              0.5555555555555556,
              "#d8576b"
             ],
             [
              0.6666666666666666,
              "#ed7953"
             ],
             [
              0.7777777777777778,
              "#fb9f3a"
             ],
             [
              0.8888888888888888,
              "#fdca26"
             ],
             [
              1,
              "#f0f921"
             ]
            ],
            "type": "histogram2d"
           }
          ],
          "histogram2dcontour": [
           {
            "colorbar": {
             "outlinewidth": 0,
             "ticks": ""
            },
            "colorscale": [
             [
              0,
              "#0d0887"
             ],
             [
              0.1111111111111111,
              "#46039f"
             ],
             [
              0.2222222222222222,
              "#7201a8"
             ],
             [
              0.3333333333333333,
              "#9c179e"
             ],
             [
              0.4444444444444444,
              "#bd3786"
             ],
             [
              0.5555555555555556,
              "#d8576b"
             ],
             [
              0.6666666666666666,
              "#ed7953"
             ],
             [
              0.7777777777777778,
              "#fb9f3a"
             ],
             [
              0.8888888888888888,
              "#fdca26"
             ],
             [
              1,
              "#f0f921"
             ]
            ],
            "type": "histogram2dcontour"
           }
          ],
          "mesh3d": [
           {
            "colorbar": {
             "outlinewidth": 0,
             "ticks": ""
            },
            "type": "mesh3d"
           }
          ],
          "parcoords": [
           {
            "line": {
             "colorbar": {
              "outlinewidth": 0,
              "ticks": ""
             }
            },
            "type": "parcoords"
           }
          ],
          "pie": [
           {
            "automargin": true,
            "type": "pie"
           }
          ],
          "scatter": [
           {
            "marker": {
             "colorbar": {
              "outlinewidth": 0,
              "ticks": ""
             }
            },
            "type": "scatter"
           }
          ],
          "scatter3d": [
           {
            "line": {
             "colorbar": {
              "outlinewidth": 0,
              "ticks": ""
             }
            },
            "marker": {
             "colorbar": {
              "outlinewidth": 0,
              "ticks": ""
             }
            },
            "type": "scatter3d"
           }
          ],
          "scattercarpet": [
           {
            "marker": {
             "colorbar": {
              "outlinewidth": 0,
              "ticks": ""
             }
            },
            "type": "scattercarpet"
           }
          ],
          "scattergeo": [
           {
            "marker": {
             "colorbar": {
              "outlinewidth": 0,
              "ticks": ""
             }
            },
            "type": "scattergeo"
           }
          ],
          "scattergl": [
           {
            "marker": {
             "colorbar": {
              "outlinewidth": 0,
              "ticks": ""
             }
            },
            "type": "scattergl"
           }
          ],
          "scattermapbox": [
           {
            "marker": {
             "colorbar": {
              "outlinewidth": 0,
              "ticks": ""
             }
            },
            "type": "scattermapbox"
           }
          ],
          "scatterpolar": [
           {
            "marker": {
             "colorbar": {
              "outlinewidth": 0,
              "ticks": ""
             }
            },
            "type": "scatterpolar"
           }
          ],
          "scatterpolargl": [
           {
            "marker": {
             "colorbar": {
              "outlinewidth": 0,
              "ticks": ""
             }
            },
            "type": "scatterpolargl"
           }
          ],
          "scatterternary": [
           {
            "marker": {
             "colorbar": {
              "outlinewidth": 0,
              "ticks": ""
             }
            },
            "type": "scatterternary"
           }
          ],
          "surface": [
           {
            "colorbar": {
             "outlinewidth": 0,
             "ticks": ""
            },
            "colorscale": [
             [
              0,
              "#0d0887"
             ],
             [
              0.1111111111111111,
              "#46039f"
             ],
             [
              0.2222222222222222,
              "#7201a8"
             ],
             [
              0.3333333333333333,
              "#9c179e"
             ],
             [
              0.4444444444444444,
              "#bd3786"
             ],
             [
              0.5555555555555556,
              "#d8576b"
             ],
             [
              0.6666666666666666,
              "#ed7953"
             ],
             [
              0.7777777777777778,
              "#fb9f3a"
             ],
             [
              0.8888888888888888,
              "#fdca26"
             ],
             [
              1,
              "#f0f921"
             ]
            ],
            "type": "surface"
           }
          ],
          "table": [
           {
            "cells": {
             "fill": {
              "color": "#EBF0F8"
             },
             "line": {
              "color": "white"
             }
            },
            "header": {
             "fill": {
              "color": "#C8D4E3"
             },
             "line": {
              "color": "white"
             }
            },
            "type": "table"
           }
          ]
         },
         "layout": {
          "annotationdefaults": {
           "arrowcolor": "#2a3f5f",
           "arrowhead": 0,
           "arrowwidth": 1
          },
          "autotypenumbers": "strict",
          "coloraxis": {
           "colorbar": {
            "outlinewidth": 0,
            "ticks": ""
           }
          },
          "colorscale": {
           "diverging": [
            [
             0,
             "#8e0152"
            ],
            [
             0.1,
             "#c51b7d"
            ],
            [
             0.2,
             "#de77ae"
            ],
            [
             0.3,
             "#f1b6da"
            ],
            [
             0.4,
             "#fde0ef"
            ],
            [
             0.5,
             "#f7f7f7"
            ],
            [
             0.6,
             "#e6f5d0"
            ],
            [
             0.7,
             "#b8e186"
            ],
            [
             0.8,
             "#7fbc41"
            ],
            [
             0.9,
             "#4d9221"
            ],
            [
             1,
             "#276419"
            ]
           ],
           "sequential": [
            [
             0,
             "#0d0887"
            ],
            [
             0.1111111111111111,
             "#46039f"
            ],
            [
             0.2222222222222222,
             "#7201a8"
            ],
            [
             0.3333333333333333,
             "#9c179e"
            ],
            [
             0.4444444444444444,
             "#bd3786"
            ],
            [
             0.5555555555555556,
             "#d8576b"
            ],
            [
             0.6666666666666666,
             "#ed7953"
            ],
            [
             0.7777777777777778,
             "#fb9f3a"
            ],
            [
             0.8888888888888888,
             "#fdca26"
            ],
            [
             1,
             "#f0f921"
            ]
           ],
           "sequentialminus": [
            [
             0,
             "#0d0887"
            ],
            [
             0.1111111111111111,
             "#46039f"
            ],
            [
             0.2222222222222222,
             "#7201a8"
            ],
            [
             0.3333333333333333,
             "#9c179e"
            ],
            [
             0.4444444444444444,
             "#bd3786"
            ],
            [
             0.5555555555555556,
             "#d8576b"
            ],
            [
             0.6666666666666666,
             "#ed7953"
            ],
            [
             0.7777777777777778,
             "#fb9f3a"
            ],
            [
             0.8888888888888888,
             "#fdca26"
            ],
            [
             1,
             "#f0f921"
            ]
           ]
          },
          "colorway": [
           "#636efa",
           "#EF553B",
           "#00cc96",
           "#ab63fa",
           "#FFA15A",
           "#19d3f3",
           "#FF6692",
           "#B6E880",
           "#FF97FF",
           "#FECB52"
          ],
          "font": {
           "color": "#2a3f5f"
          },
          "geo": {
           "bgcolor": "white",
           "lakecolor": "white",
           "landcolor": "#E5ECF6",
           "showlakes": true,
           "showland": true,
           "subunitcolor": "white"
          },
          "hoverlabel": {
           "align": "left"
          },
          "hovermode": "closest",
          "mapbox": {
           "style": "light"
          },
          "paper_bgcolor": "white",
          "plot_bgcolor": "#E5ECF6",
          "polar": {
           "angularaxis": {
            "gridcolor": "white",
            "linecolor": "white",
            "ticks": ""
           },
           "bgcolor": "#E5ECF6",
           "radialaxis": {
            "gridcolor": "white",
            "linecolor": "white",
            "ticks": ""
           }
          },
          "scene": {
           "xaxis": {
            "backgroundcolor": "#E5ECF6",
            "gridcolor": "white",
            "gridwidth": 2,
            "linecolor": "white",
            "showbackground": true,
            "ticks": "",
            "zerolinecolor": "white"
           },
           "yaxis": {
            "backgroundcolor": "#E5ECF6",
            "gridcolor": "white",
            "gridwidth": 2,
            "linecolor": "white",
            "showbackground": true,
            "ticks": "",
            "zerolinecolor": "white"
           },
           "zaxis": {
            "backgroundcolor": "#E5ECF6",
            "gridcolor": "white",
            "gridwidth": 2,
            "linecolor": "white",
            "showbackground": true,
            "ticks": "",
            "zerolinecolor": "white"
           }
          },
          "shapedefaults": {
           "line": {
            "color": "#2a3f5f"
           }
          },
          "ternary": {
           "aaxis": {
            "gridcolor": "white",
            "linecolor": "white",
            "ticks": ""
           },
           "baxis": {
            "gridcolor": "white",
            "linecolor": "white",
            "ticks": ""
           },
           "bgcolor": "#E5ECF6",
           "caxis": {
            "gridcolor": "white",
            "linecolor": "white",
            "ticks": ""
           }
          },
          "title": {
           "x": 0.05
          },
          "xaxis": {
           "automargin": true,
           "gridcolor": "white",
           "linecolor": "white",
           "ticks": "",
           "title": {
            "standoff": 15
           },
           "zerolinecolor": "white",
           "zerolinewidth": 2
          },
          "yaxis": {
           "automargin": true,
           "gridcolor": "white",
           "linecolor": "white",
           "ticks": "",
           "title": {
            "standoff": 15
           },
           "zerolinecolor": "white",
           "zerolinewidth": 2
          }
         }
        },
        "xaxis": {
         "anchor": "y",
         "domain": [
          0,
          1
         ],
         "title": {
          "text": "value_loan"
         }
        },
        "yaxis": {
         "anchor": "x",
         "domain": [
          0,
          1
         ],
         "title": {
          "text": "two_year_cum_non_principle"
         }
        }
       }
      },
      "text/html": [
       "<div>                            <div id=\"50e5abd8-8158-4001-8bc3-89a52e14e1a9\" class=\"plotly-graph-div\" style=\"height:525px; width:100%;\"></div>            <script type=\"text/javascript\">                require([\"plotly\"], function(Plotly) {                    window.PLOTLYENV=window.PLOTLYENV || {};                                    if (document.getElementById(\"50e5abd8-8158-4001-8bc3-89a52e14e1a9\")) {                    Plotly.newPlot(                        \"50e5abd8-8158-4001-8bc3-89a52e14e1a9\",                        [{\"hovertemplate\": \"down_pay=30000<br>value_loan=%{x}<br>two_year_cum_non_principle=%{y}<extra></extra>\", \"legendgroup\": \"30000\", \"line\": {\"color\": \"#636efa\", \"dash\": \"solid\"}, \"mode\": \"lines\", \"name\": \"30000\", \"orientation\": \"v\", \"showlegend\": true, \"type\": \"scatter\", \"x\": [400000, 410000, 420000, 430000, 440000, 450000, 460000, 470000, 480000, 490000, 500000, 510000, 520000, 530000, 540000, 550000], \"xaxis\": \"x\", \"y\": [20140.14, 20681.55, 21222.96, 21764.36, 22305.77, 22847.18, 23388.59, 23930.0, 24471.41, 25012.82, 25554.23, 26095.64, 26637.05, 27178.46, 27719.86, 28261.27], \"yaxis\": \"y\"}, {\"hovertemplate\": \"down_pay=40000<br>value_loan=%{x}<br>two_year_cum_non_principle=%{y}<extra></extra>\", \"legendgroup\": \"40000\", \"line\": {\"color\": \"#EF553B\", \"dash\": \"solid\"}, \"mode\": \"lines\", \"name\": \"40000\", \"orientation\": \"v\", \"showlegend\": true, \"type\": \"scatter\", \"x\": [400000, 410000, 420000, 430000, 440000, 450000, 460000, 470000, 480000, 490000, 500000, 510000, 520000, 530000, 540000, 550000, 560000, 570000, 580000, 590000, 600000, 610000, 620000, 630000, 640000, 650000], \"xaxis\": \"x\", \"y\": [19477.27, 20014.31, 20551.34, 21258.96, 21800.36, 22341.77, 22883.18, 23424.59, 23966.0, 24507.41, 25048.82, 25590.23, 26131.64, 26673.05, 27214.46, 27755.86, 28297.27, 28838.68, 29380.09, 29921.5, 30462.91, 31004.32, 31545.73, 32087.14, 32628.55, 33169.96], \"yaxis\": \"y\"}, {\"hovertemplate\": \"down_pay=50000<br>value_loan=%{x}<br>two_year_cum_non_principle=%{y}<extra></extra>\", \"legendgroup\": \"50000\", \"line\": {\"color\": \"#00cc96\", \"dash\": \"solid\"}, \"mode\": \"lines\", \"name\": \"50000\", \"orientation\": \"v\", \"showlegend\": true, \"type\": \"scatter\", \"x\": [400000, 410000, 420000, 430000, 440000, 450000, 460000, 470000, 480000, 490000, 500000, 510000, 520000, 530000, 540000, 550000, 560000, 570000, 580000, 590000, 600000, 610000, 620000, 630000, 640000, 650000, 660000, 670000, 680000, 690000, 700000, 710000, 720000, 730000, 740000, 750000], \"xaxis\": \"x\", \"y\": [18976.24, 19513.27, 20050.31, 20587.34, 21124.38, 21661.41, 22198.45, 22735.49, 23272.52, 23809.56, 24346.59, 24883.63, 25420.66, 26167.64, 26709.05, 27250.46, 27791.86, 28333.27, 28874.68, 29416.09, 29957.5, 30498.91, 31040.32, 31581.73, 32123.14, 32664.55, 33205.96, 33747.36, 34288.77, 34830.18, 35371.59, 35913.0, 36454.41, 36995.82, 37537.23, 38078.64], \"yaxis\": \"y\"}, {\"hovertemplate\": \"down_pay=60000<br>value_loan=%{x}<br>two_year_cum_non_principle=%{y}<extra></extra>\", \"legendgroup\": \"60000\", \"line\": {\"color\": \"#ab63fa\", \"dash\": \"solid\"}, \"mode\": \"lines\", \"name\": \"60000\", \"orientation\": \"v\", \"showlegend\": true, \"type\": \"scatter\", \"x\": [400000, 410000, 420000, 430000, 440000, 450000, 460000, 470000, 480000, 490000, 500000, 510000, 520000, 530000, 540000, 550000, 560000, 570000, 580000, 590000, 600000, 610000, 620000, 630000, 640000, 650000, 660000, 670000, 680000, 690000, 700000, 710000, 720000, 730000, 740000, 750000, 760000, 770000, 780000, 790000], \"xaxis\": \"x\", \"y\": [18475.2, 19012.24, 19549.27, 20086.31, 20623.34, 21160.38, 21697.41, 22234.45, 22771.49, 23308.52, 23845.56, 24382.59, 24919.63, 25456.66, 25993.7, 26530.73, 27067.77, 27604.8, 28141.84, 28678.87, 29215.91, 29752.95, 30289.98, 30827.02, 31617.73, 32159.14, 32700.55, 33241.96, 33783.36, 34324.77, 34866.18, 35407.59, 35949.0, 36490.41, 37031.82, 37573.23, 38114.64, 38656.05, 39197.46, 39738.86], \"yaxis\": \"y\"}, {\"hovertemplate\": \"down_pay=70000<br>value_loan=%{x}<br>two_year_cum_non_principle=%{y}<extra></extra>\", \"legendgroup\": \"70000\", \"line\": {\"color\": \"#FFA15A\", \"dash\": \"solid\"}, \"mode\": \"lines\", \"name\": \"70000\", \"orientation\": \"v\", \"showlegend\": true, \"type\": \"scatter\", \"x\": [400000, 410000, 420000, 430000, 440000, 450000, 460000, 470000, 480000, 490000, 500000, 510000, 520000, 530000, 540000, 550000, 560000, 570000, 580000, 590000, 600000, 610000, 620000, 630000, 640000, 650000, 660000, 670000, 680000, 690000, 700000, 710000, 720000, 730000, 740000, 750000, 760000, 770000, 780000, 790000], \"xaxis\": \"x\", \"y\": [17926.06, 18461.63, 18997.21, 19532.79, 20068.37, 20603.94, 21196.38, 21733.41, 22270.45, 22807.49, 23344.52, 23881.56, 24418.59, 24955.63, 25492.66, 26029.7, 26566.73, 27103.77, 27640.8, 28177.84, 28714.87, 29251.91, 29788.95, 30325.98, 30863.02, 31400.05, 31937.09, 32474.12, 33011.16, 33548.19, 34085.23, 34622.26, 35159.3, 35696.33, 36526.41, 37067.82, 37609.23, 38150.64, 38692.05, 39233.46], \"yaxis\": \"y\"}, {\"hovertemplate\": \"down_pay=80000<br>value_loan=%{x}<br>two_year_cum_non_principle=%{y}<extra></extra>\", \"legendgroup\": \"80000\", \"line\": {\"color\": \"#19d3f3\", \"dash\": \"solid\"}, \"mode\": \"lines\", \"name\": \"80000\", \"orientation\": \"v\", \"showlegend\": true, \"type\": \"scatter\", \"x\": [400000, 410000, 420000, 430000, 440000, 450000, 460000, 470000, 480000, 490000, 500000, 510000, 520000, 530000, 540000, 550000, 560000, 570000, 580000, 590000, 600000, 610000, 620000, 630000, 640000, 650000, 660000, 670000, 680000, 690000, 700000, 710000, 720000, 730000, 740000, 750000, 760000, 770000, 780000, 790000], \"xaxis\": \"x\", \"y\": [16991.05, 17513.02, 18497.63, 19033.21, 19568.79, 20104.37, 20639.94, 21175.52, 21711.1, 22246.68, 22782.25, 23317.83, 23917.56, 24454.59, 24991.63, 25528.66, 26065.7, 26602.73, 27139.77, 27676.8, 28213.84, 28750.87, 29287.91, 29824.95, 30361.98, 30899.02, 31436.05, 31973.09, 32510.12, 33047.16, 33584.19, 34121.23, 34658.26, 35195.3, 35732.33, 36269.37, 36806.41, 37343.44, 37880.48, 38417.51], \"yaxis\": \"y\"}, {\"hovertemplate\": \"down_pay=90000<br>value_loan=%{x}<br>two_year_cum_non_principle=%{y}<extra></extra>\", \"legendgroup\": \"90000\", \"line\": {\"color\": \"#FF6692\", \"dash\": \"solid\"}, \"mode\": \"lines\", \"name\": \"90000\", \"orientation\": \"v\", \"showlegend\": true, \"type\": \"scatter\", \"x\": [400000, 410000, 420000, 430000, 440000, 450000, 460000, 470000, 480000, 490000, 500000, 510000, 520000, 530000, 540000, 550000, 560000, 570000, 580000, 590000, 600000, 610000, 620000, 630000, 640000, 650000, 660000, 670000, 680000, 690000, 700000, 710000, 720000, 730000, 740000, 750000, 760000, 770000, 780000, 790000], \"xaxis\": \"x\", \"y\": [16505.08, 17027.05, 17549.02, 18070.99, 18592.96, 19114.93, 19636.9, 20675.94, 21211.52, 21747.1, 22282.68, 22818.25, 23353.83, 23889.41, 24424.99, 24960.56, 25496.14, 26031.72, 26567.3, 27175.77, 27712.8, 28249.84, 28786.87, 29323.91, 29860.95, 30397.98, 30935.02, 31472.05, 32009.09, 32546.12, 33083.16, 33620.19, 34157.23, 34694.26, 35231.3, 35768.33, 36305.37, 36842.41, 37379.44, 37916.48], \"yaxis\": \"y\"}, {\"hovertemplate\": \"down_pay=100000<br>value_loan=%{x}<br>two_year_cum_non_principle=%{y}<extra></extra>\", \"legendgroup\": \"100000\", \"line\": {\"color\": \"#B6E880\", \"dash\": \"solid\"}, \"mode\": \"lines\", \"name\": \"100000\", \"orientation\": \"v\", \"showlegend\": true, \"type\": \"scatter\", \"x\": [400000, 410000, 420000, 430000, 440000, 450000, 460000, 470000, 480000, 490000, 500000, 510000, 520000, 530000, 540000, 550000, 560000, 570000, 580000, 590000, 600000, 610000, 620000, 630000, 640000, 650000, 660000, 670000, 680000, 690000, 700000, 710000, 720000, 730000, 740000, 750000, 760000, 770000, 780000, 790000], \"xaxis\": \"x\", \"y\": [16019.11, 16541.08, 17063.05, 17585.02, 18106.99, 18628.96, 19150.93, 19672.9, 20194.87, 20716.84, 21238.81, 21760.78, 22854.25, 23389.83, 23925.41, 24460.99, 24996.56, 25532.14, 26067.72, 26603.3, 27138.87, 27674.45, 28210.03, 28745.61, 29281.18, 29896.95, 30433.98, 30971.02, 31508.05, 32045.09, 32582.12, 33119.16, 33656.19, 34193.23, 34730.26, 35267.3, 35804.33, 36341.37, 36878.41, 37415.44], \"yaxis\": \"y\"}, {\"hovertemplate\": \"down_pay=110000<br>value_loan=%{x}<br>two_year_cum_non_principle=%{y}<extra></extra>\", \"legendgroup\": \"110000\", \"line\": {\"color\": \"#FF97FF\", \"dash\": \"solid\"}, \"mode\": \"lines\", \"name\": \"110000\", \"orientation\": \"v\", \"showlegend\": true, \"type\": \"scatter\", \"x\": [400000, 410000, 420000, 430000, 440000, 450000, 460000, 470000, 480000, 490000, 500000, 510000, 520000, 530000, 540000, 550000, 560000, 570000, 580000, 590000, 600000, 610000, 620000, 630000, 640000, 650000, 660000, 670000, 680000, 690000, 700000, 710000, 720000, 730000, 740000, 750000, 760000, 770000, 780000, 790000], \"xaxis\": \"x\", \"y\": [15533.14, 16055.11, 16577.08, 17099.05, 17621.02, 18142.99, 18664.96, 19186.93, 19708.9, 20230.87, 20752.84, 21274.81, 21796.78, 22318.75, 22840.72, 23362.69, 23884.66, 25032.56, 25568.14, 26103.72, 26639.3, 27174.87, 27710.45, 28246.03, 28781.61, 29317.18, 29852.76, 30388.34, 30923.92, 31459.49, 31995.07, 32618.12, 33155.16, 33692.19, 34229.23, 34766.26, 35303.3, 35840.33, 36377.37, 36914.41], \"yaxis\": \"y\"}, {\"hovertemplate\": \"down_pay=120000<br>value_loan=%{x}<br>two_year_cum_non_principle=%{y}<extra></extra>\", \"legendgroup\": \"120000\", \"line\": {\"color\": \"#FECB52\", \"dash\": \"solid\"}, \"mode\": \"lines\", \"name\": \"120000\", \"orientation\": \"v\", \"showlegend\": true, \"type\": \"scatter\", \"x\": [400000, 410000, 420000, 430000, 440000, 450000, 460000, 470000, 480000, 490000, 500000, 510000, 520000, 530000, 540000, 550000, 560000, 570000, 580000, 590000, 600000, 610000, 620000, 630000, 640000, 650000, 660000, 670000, 680000, 690000, 700000, 710000, 720000, 730000, 740000, 750000, 760000, 770000, 780000, 790000], \"xaxis\": \"x\", \"y\": [15047.17, 15569.14, 16091.11, 16613.08, 17135.05, 17657.02, 18178.99, 18700.96, 19222.93, 19744.9, 20266.87, 20788.84, 21310.81, 21832.78, 22354.75, 22876.72, 23398.69, 23920.66, 24442.63, 24964.6, 25486.57, 26008.54, 27210.87, 27746.45, 28282.03, 28817.61, 29353.18, 29888.76, 30424.34, 30959.92, 31495.49, 32031.07, 32566.65, 33102.23, 33637.8, 34173.38, 34708.96, 35244.54, 35876.33, 36413.37], \"yaxis\": \"y\"}, {\"hovertemplate\": \"down_pay=130000<br>value_loan=%{x}<br>two_year_cum_non_principle=%{y}<extra></extra>\", \"legendgroup\": \"130000\", \"line\": {\"color\": \"#636efa\", \"dash\": \"solid\"}, \"mode\": \"lines\", \"name\": \"130000\", \"orientation\": \"v\", \"showlegend\": true, \"type\": \"scatter\", \"x\": [400000, 410000, 420000, 430000, 440000, 450000, 460000, 470000, 480000, 490000, 500000, 510000, 520000, 530000, 540000, 550000, 560000, 570000, 580000, 590000, 600000, 610000, 620000, 630000, 640000, 650000, 660000, 670000, 680000, 690000, 700000, 710000, 720000, 730000, 740000, 750000, 760000, 770000, 780000, 790000], \"xaxis\": \"x\", \"y\": [14561.2, 15083.17, 15605.14, 16127.11, 16649.08, 17171.05, 17693.02, 18214.99, 18736.96, 19258.93, 19780.9, 20302.87, 20824.84, 21346.81, 21868.78, 22390.75, 22912.72, 23434.69, 23956.66, 24478.63, 25000.6, 25522.57, 26044.54, 26566.51, 27088.48, 27610.46, 28132.43, 29389.18, 29924.76, 30460.34, 30995.92, 31531.49, 32067.07, 32602.65, 33138.23, 33673.8, 34209.38, 34744.96, 35280.54, 35816.11], \"yaxis\": \"y\"}, {\"hovertemplate\": \"down_pay=140000<br>value_loan=%{x}<br>two_year_cum_non_principle=%{y}<extra></extra>\", \"legendgroup\": \"140000\", \"line\": {\"color\": \"#EF553B\", \"dash\": \"solid\"}, \"mode\": \"lines\", \"name\": \"140000\", \"orientation\": \"v\", \"showlegend\": true, \"type\": \"scatter\", \"x\": [400000, 410000, 420000, 430000, 440000, 450000, 460000, 470000, 480000, 490000, 500000, 510000, 520000, 530000, 540000, 550000, 560000, 570000, 580000, 590000, 600000, 610000, 620000, 630000, 640000, 650000, 660000, 670000, 680000, 690000, 700000, 710000, 720000, 730000, 740000, 750000, 760000, 770000, 780000, 790000], \"xaxis\": \"x\", \"y\": [14075.23, 14597.2, 15119.17, 15641.14, 16163.11, 16685.08, 17207.05, 17729.02, 18250.99, 18772.96, 19294.93, 19816.9, 20338.87, 20860.84, 21382.81, 21904.78, 22426.75, 22948.72, 23470.69, 23992.66, 24514.63, 25036.6, 25558.57, 26080.54, 26602.51, 27124.48, 27646.46, 28168.43, 28690.4, 29212.37, 29734.34, 30256.31, 31567.49, 32103.07, 32638.65, 33174.23, 33709.8, 34245.38, 34780.96, 35316.54], \"yaxis\": \"y\"}, {\"hovertemplate\": \"down_pay=150000<br>value_loan=%{x}<br>two_year_cum_non_principle=%{y}<extra></extra>\", \"legendgroup\": \"150000\", \"line\": {\"color\": \"#00cc96\", \"dash\": \"solid\"}, \"mode\": \"lines\", \"name\": \"150000\", \"orientation\": \"v\", \"showlegend\": true, \"type\": \"scatter\", \"x\": [400000, 410000, 420000, 430000, 440000, 450000, 460000, 470000, 480000, 490000, 500000, 510000, 520000, 530000, 540000, 550000, 560000, 570000, 580000, 590000, 600000, 610000, 620000, 630000, 640000, 650000, 660000, 670000, 680000, 690000, 700000, 710000, 720000, 730000, 740000, 750000, 760000, 770000, 780000, 790000], \"xaxis\": \"x\", \"y\": [13589.26, 14111.23, 14633.2, 15155.17, 15677.14, 16199.11, 16721.08, 17243.05, 17765.02, 18286.99, 18808.96, 19330.93, 19852.9, 20374.87, 20896.84, 21418.81, 21940.78, 22462.75, 22984.72, 23506.69, 24028.66, 24550.63, 25072.6, 25594.57, 26116.54, 26638.51, 27160.48, 27682.46, 28204.43, 28726.4, 29248.37, 29770.34, 30292.31, 30814.28, 31336.25, 31858.22, 32380.19, 33745.8, 34281.38, 34816.96], \"yaxis\": \"y\"}],                        {\"legend\": {\"title\": {\"text\": \"down_pay\"}, \"tracegroupgap\": 0}, \"margin\": {\"t\": 60}, \"template\": {\"data\": {\"bar\": [{\"error_x\": {\"color\": \"#2a3f5f\"}, \"error_y\": {\"color\": \"#2a3f5f\"}, \"marker\": {\"line\": {\"color\": \"#E5ECF6\", \"width\": 0.5}}, \"type\": \"bar\"}], \"barpolar\": [{\"marker\": {\"line\": {\"color\": \"#E5ECF6\", \"width\": 0.5}}, \"type\": \"barpolar\"}], \"carpet\": [{\"aaxis\": {\"endlinecolor\": \"#2a3f5f\", \"gridcolor\": \"white\", \"linecolor\": \"white\", \"minorgridcolor\": \"white\", \"startlinecolor\": \"#2a3f5f\"}, \"baxis\": {\"endlinecolor\": \"#2a3f5f\", \"gridcolor\": \"white\", \"linecolor\": \"white\", \"minorgridcolor\": \"white\", \"startlinecolor\": \"#2a3f5f\"}, \"type\": \"carpet\"}], \"choropleth\": [{\"colorbar\": {\"outlinewidth\": 0, \"ticks\": \"\"}, \"type\": \"choropleth\"}], \"contour\": [{\"colorbar\": {\"outlinewidth\": 0, \"ticks\": \"\"}, \"colorscale\": [[0.0, \"#0d0887\"], [0.1111111111111111, \"#46039f\"], [0.2222222222222222, \"#7201a8\"], [0.3333333333333333, \"#9c179e\"], [0.4444444444444444, \"#bd3786\"], [0.5555555555555556, \"#d8576b\"], [0.6666666666666666, \"#ed7953\"], [0.7777777777777778, \"#fb9f3a\"], [0.8888888888888888, \"#fdca26\"], [1.0, \"#f0f921\"]], \"type\": \"contour\"}], \"contourcarpet\": [{\"colorbar\": {\"outlinewidth\": 0, \"ticks\": \"\"}, \"type\": \"contourcarpet\"}], \"heatmap\": [{\"colorbar\": {\"outlinewidth\": 0, \"ticks\": \"\"}, \"colorscale\": [[0.0, \"#0d0887\"], [0.1111111111111111, \"#46039f\"], [0.2222222222222222, \"#7201a8\"], [0.3333333333333333, \"#9c179e\"], [0.4444444444444444, \"#bd3786\"], [0.5555555555555556, \"#d8576b\"], [0.6666666666666666, \"#ed7953\"], [0.7777777777777778, \"#fb9f3a\"], [0.8888888888888888, \"#fdca26\"], [1.0, \"#f0f921\"]], \"type\": \"heatmap\"}], \"heatmapgl\": [{\"colorbar\": {\"outlinewidth\": 0, \"ticks\": \"\"}, \"colorscale\": [[0.0, \"#0d0887\"], [0.1111111111111111, \"#46039f\"], [0.2222222222222222, \"#7201a8\"], [0.3333333333333333, \"#9c179e\"], [0.4444444444444444, \"#bd3786\"], [0.5555555555555556, \"#d8576b\"], [0.6666666666666666, \"#ed7953\"], [0.7777777777777778, \"#fb9f3a\"], [0.8888888888888888, \"#fdca26\"], [1.0, \"#f0f921\"]], \"type\": \"heatmapgl\"}], \"histogram\": [{\"marker\": {\"colorbar\": {\"outlinewidth\": 0, \"ticks\": \"\"}}, \"type\": \"histogram\"}], \"histogram2d\": [{\"colorbar\": {\"outlinewidth\": 0, \"ticks\": \"\"}, \"colorscale\": [[0.0, \"#0d0887\"], [0.1111111111111111, \"#46039f\"], [0.2222222222222222, \"#7201a8\"], [0.3333333333333333, \"#9c179e\"], [0.4444444444444444, \"#bd3786\"], [0.5555555555555556, \"#d8576b\"], [0.6666666666666666, \"#ed7953\"], [0.7777777777777778, \"#fb9f3a\"], [0.8888888888888888, \"#fdca26\"], [1.0, \"#f0f921\"]], \"type\": \"histogram2d\"}], \"histogram2dcontour\": [{\"colorbar\": {\"outlinewidth\": 0, \"ticks\": \"\"}, \"colorscale\": [[0.0, \"#0d0887\"], [0.1111111111111111, \"#46039f\"], [0.2222222222222222, \"#7201a8\"], [0.3333333333333333, \"#9c179e\"], [0.4444444444444444, \"#bd3786\"], [0.5555555555555556, \"#d8576b\"], [0.6666666666666666, \"#ed7953\"], [0.7777777777777778, \"#fb9f3a\"], [0.8888888888888888, \"#fdca26\"], [1.0, \"#f0f921\"]], \"type\": \"histogram2dcontour\"}], \"mesh3d\": [{\"colorbar\": {\"outlinewidth\": 0, \"ticks\": \"\"}, \"type\": \"mesh3d\"}], \"parcoords\": [{\"line\": {\"colorbar\": {\"outlinewidth\": 0, \"ticks\": \"\"}}, \"type\": \"parcoords\"}], \"pie\": [{\"automargin\": true, \"type\": \"pie\"}], \"scatter\": [{\"marker\": {\"colorbar\": {\"outlinewidth\": 0, \"ticks\": \"\"}}, \"type\": \"scatter\"}], \"scatter3d\": [{\"line\": {\"colorbar\": {\"outlinewidth\": 0, \"ticks\": \"\"}}, \"marker\": {\"colorbar\": {\"outlinewidth\": 0, \"ticks\": \"\"}}, \"type\": \"scatter3d\"}], \"scattercarpet\": [{\"marker\": {\"colorbar\": {\"outlinewidth\": 0, \"ticks\": \"\"}}, \"type\": \"scattercarpet\"}], \"scattergeo\": [{\"marker\": {\"colorbar\": {\"outlinewidth\": 0, \"ticks\": \"\"}}, \"type\": \"scattergeo\"}], \"scattergl\": [{\"marker\": {\"colorbar\": {\"outlinewidth\": 0, \"ticks\": \"\"}}, \"type\": \"scattergl\"}], \"scattermapbox\": [{\"marker\": {\"colorbar\": {\"outlinewidth\": 0, \"ticks\": \"\"}}, \"type\": \"scattermapbox\"}], \"scatterpolar\": [{\"marker\": {\"colorbar\": {\"outlinewidth\": 0, \"ticks\": \"\"}}, \"type\": \"scatterpolar\"}], \"scatterpolargl\": [{\"marker\": {\"colorbar\": {\"outlinewidth\": 0, \"ticks\": \"\"}}, \"type\": \"scatterpolargl\"}], \"scatterternary\": [{\"marker\": {\"colorbar\": {\"outlinewidth\": 0, \"ticks\": \"\"}}, \"type\": \"scatterternary\"}], \"surface\": [{\"colorbar\": {\"outlinewidth\": 0, \"ticks\": \"\"}, \"colorscale\": [[0.0, \"#0d0887\"], [0.1111111111111111, \"#46039f\"], [0.2222222222222222, \"#7201a8\"], [0.3333333333333333, \"#9c179e\"], [0.4444444444444444, \"#bd3786\"], [0.5555555555555556, \"#d8576b\"], [0.6666666666666666, \"#ed7953\"], [0.7777777777777778, \"#fb9f3a\"], [0.8888888888888888, \"#fdca26\"], [1.0, \"#f0f921\"]], \"type\": \"surface\"}], \"table\": [{\"cells\": {\"fill\": {\"color\": \"#EBF0F8\"}, \"line\": {\"color\": \"white\"}}, \"header\": {\"fill\": {\"color\": \"#C8D4E3\"}, \"line\": {\"color\": \"white\"}}, \"type\": \"table\"}]}, \"layout\": {\"annotationdefaults\": {\"arrowcolor\": \"#2a3f5f\", \"arrowhead\": 0, \"arrowwidth\": 1}, \"autotypenumbers\": \"strict\", \"coloraxis\": {\"colorbar\": {\"outlinewidth\": 0, \"ticks\": \"\"}}, \"colorscale\": {\"diverging\": [[0, \"#8e0152\"], [0.1, \"#c51b7d\"], [0.2, \"#de77ae\"], [0.3, \"#f1b6da\"], [0.4, \"#fde0ef\"], [0.5, \"#f7f7f7\"], [0.6, \"#e6f5d0\"], [0.7, \"#b8e186\"], [0.8, \"#7fbc41\"], [0.9, \"#4d9221\"], [1, \"#276419\"]], \"sequential\": [[0.0, \"#0d0887\"], [0.1111111111111111, \"#46039f\"], [0.2222222222222222, \"#7201a8\"], [0.3333333333333333, \"#9c179e\"], [0.4444444444444444, \"#bd3786\"], [0.5555555555555556, \"#d8576b\"], [0.6666666666666666, \"#ed7953\"], [0.7777777777777778, \"#fb9f3a\"], [0.8888888888888888, \"#fdca26\"], [1.0, \"#f0f921\"]], \"sequentialminus\": [[0.0, \"#0d0887\"], [0.1111111111111111, \"#46039f\"], [0.2222222222222222, \"#7201a8\"], [0.3333333333333333, \"#9c179e\"], [0.4444444444444444, \"#bd3786\"], [0.5555555555555556, \"#d8576b\"], [0.6666666666666666, \"#ed7953\"], [0.7777777777777778, \"#fb9f3a\"], [0.8888888888888888, \"#fdca26\"], [1.0, \"#f0f921\"]]}, \"colorway\": [\"#636efa\", \"#EF553B\", \"#00cc96\", \"#ab63fa\", \"#FFA15A\", \"#19d3f3\", \"#FF6692\", \"#B6E880\", \"#FF97FF\", \"#FECB52\"], \"font\": {\"color\": \"#2a3f5f\"}, \"geo\": {\"bgcolor\": \"white\", \"lakecolor\": \"white\", \"landcolor\": \"#E5ECF6\", \"showlakes\": true, \"showland\": true, \"subunitcolor\": \"white\"}, \"hoverlabel\": {\"align\": \"left\"}, \"hovermode\": \"closest\", \"mapbox\": {\"style\": \"light\"}, \"paper_bgcolor\": \"white\", \"plot_bgcolor\": \"#E5ECF6\", \"polar\": {\"angularaxis\": {\"gridcolor\": \"white\", \"linecolor\": \"white\", \"ticks\": \"\"}, \"bgcolor\": \"#E5ECF6\", \"radialaxis\": {\"gridcolor\": \"white\", \"linecolor\": \"white\", \"ticks\": \"\"}}, \"scene\": {\"xaxis\": {\"backgroundcolor\": \"#E5ECF6\", \"gridcolor\": \"white\", \"gridwidth\": 2, \"linecolor\": \"white\", \"showbackground\": true, \"ticks\": \"\", \"zerolinecolor\": \"white\"}, \"yaxis\": {\"backgroundcolor\": \"#E5ECF6\", \"gridcolor\": \"white\", \"gridwidth\": 2, \"linecolor\": \"white\", \"showbackground\": true, \"ticks\": \"\", \"zerolinecolor\": \"white\"}, \"zaxis\": {\"backgroundcolor\": \"#E5ECF6\", \"gridcolor\": \"white\", \"gridwidth\": 2, \"linecolor\": \"white\", \"showbackground\": true, \"ticks\": \"\", \"zerolinecolor\": \"white\"}}, \"shapedefaults\": {\"line\": {\"color\": \"#2a3f5f\"}}, \"ternary\": {\"aaxis\": {\"gridcolor\": \"white\", \"linecolor\": \"white\", \"ticks\": \"\"}, \"baxis\": {\"gridcolor\": \"white\", \"linecolor\": \"white\", \"ticks\": \"\"}, \"bgcolor\": \"#E5ECF6\", \"caxis\": {\"gridcolor\": \"white\", \"linecolor\": \"white\", \"ticks\": \"\"}}, \"title\": {\"x\": 0.05}, \"xaxis\": {\"automargin\": true, \"gridcolor\": \"white\", \"linecolor\": \"white\", \"ticks\": \"\", \"title\": {\"standoff\": 15}, \"zerolinecolor\": \"white\", \"zerolinewidth\": 2}, \"yaxis\": {\"automargin\": true, \"gridcolor\": \"white\", \"linecolor\": \"white\", \"ticks\": \"\", \"title\": {\"standoff\": 15}, \"zerolinecolor\": \"white\", \"zerolinewidth\": 2}}}, \"xaxis\": {\"anchor\": \"y\", \"domain\": [0.0, 1.0], \"title\": {\"text\": \"value_loan\"}}, \"yaxis\": {\"anchor\": \"x\", \"domain\": [0.0, 1.0], \"title\": {\"text\": \"two_year_cum_non_principle\"}}},                        {\"responsive\": true}                    ).then(function(){\n",
       "                            \n",
       "var gd = document.getElementById('50e5abd8-8158-4001-8bc3-89a52e14e1a9');\n",
       "var x = new MutationObserver(function (mutations, observer) {{\n",
       "        var display = window.getComputedStyle(gd).display;\n",
       "        if (!display || display === 'none') {{\n",
       "            console.log([gd, 'removed!']);\n",
       "            Plotly.purge(gd);\n",
       "            observer.disconnect();\n",
       "        }}\n",
       "}});\n",
       "\n",
       "// Listen for the removal of the full notebook cells\n",
       "var notebookContainer = gd.closest('#notebook-container');\n",
       "if (notebookContainer) {{\n",
       "    x.observe(notebookContainer, {childList: true});\n",
       "}}\n",
       "\n",
       "// Listen for the clearing of the current output cell\n",
       "var outputEl = gd.closest('.output');\n",
       "if (outputEl) {{\n",
       "    x.observe(outputEl, {childList: true});\n",
       "}}\n",
       "\n",
       "                        })                };                });            </script>        </div>"
      ]
     },
     "metadata": {},
     "output_type": "display_data"
    }
   ],
   "source": [
    "Mort.plot_x_value_loan(\"two_year_cum_non_principle\", \"down_pay\")"
   ]
  },
  {
   "cell_type": "code",
   "execution_count": 54,
   "metadata": {},
   "outputs": [
    {
     "data": {
      "application/vnd.plotly.v1+json": {
       "config": {
        "plotlyServerURL": "https://plot.ly"
       },
       "data": [
        {
         "hovertemplate": "down_pay=30000<br>value_loan=%{x}<br>two_year_cum_eq=%{y}<extra></extra>",
         "legendgroup": "30000",
         "line": {
          "color": "#636efa",
          "dash": "solid"
         },
         "mode": "lines",
         "name": "30000",
         "orientation": "v",
         "showlegend": true,
         "type": "scatter",
         "x": [
          400000,
          410000,
          420000,
          430000,
          440000,
          450000,
          460000,
          470000,
          480000,
          490000,
          500000,
          510000,
          520000,
          530000,
          540000,
          550000
         ],
         "xaxis": "x",
         "y": [
          22730.51,
          23344.85,
          23959.19,
          24573.53,
          25187.87,
          25802.21,
          26416.55,
          27030.88,
          27645.22,
          28259.56,
          28873.9,
          29488.23,
          30102.57,
          30716.91,
          31331.26,
          31945.59
         ],
         "yaxis": "y"
        },
        {
         "hovertemplate": "down_pay=40000<br>value_loan=%{x}<br>two_year_cum_eq=%{y}<extra></extra>",
         "legendgroup": "40000",
         "line": {
          "color": "#EF553B",
          "dash": "solid"
         },
         "mode": "lines",
         "name": "40000",
         "orientation": "v",
         "showlegend": true,
         "type": "scatter",
         "x": [
          400000,
          410000,
          420000,
          430000,
          440000,
          450000,
          460000,
          470000,
          480000,
          490000,
          500000,
          510000,
          520000,
          530000,
          540000,
          550000,
          560000,
          570000,
          580000,
          590000,
          600000,
          610000,
          620000,
          630000,
          640000,
          650000
         ],
         "xaxis": "x",
         "y": [
          21924.79,
          22533.81,
          23142.84,
          23959.19,
          24573.53,
          25187.87,
          25802.21,
          26416.55,
          27030.88,
          27645.22,
          28259.56,
          28873.9,
          29488.23,
          30102.57,
          30716.91,
          31331.26,
          31945.59,
          32559.93,
          33174.27,
          33788.61,
          34402.94,
          35017.28,
          35631.62,
          36245.95,
          36860.29,
          37474.63
         ],
         "yaxis": "y"
        },
        {
         "hovertemplate": "down_pay=50000<br>value_loan=%{x}<br>two_year_cum_eq=%{y}<extra></extra>",
         "legendgroup": "50000",
         "line": {
          "color": "#00cc96",
          "dash": "solid"
         },
         "mode": "lines",
         "name": "50000",
         "orientation": "v",
         "showlegend": true,
         "type": "scatter",
         "x": [
          400000,
          410000,
          420000,
          430000,
          440000,
          450000,
          460000,
          470000,
          480000,
          490000,
          500000,
          510000,
          520000,
          530000,
          540000,
          550000,
          560000,
          570000,
          580000,
          590000,
          600000,
          610000,
          620000,
          630000,
          640000,
          650000,
          660000,
          670000,
          680000,
          690000,
          700000,
          710000,
          720000,
          730000,
          740000,
          750000
         ],
         "xaxis": "x",
         "y": [
          21315.76,
          21924.79,
          22533.81,
          23142.84,
          23751.85,
          24360.88,
          24969.9,
          25578.91,
          26187.94,
          26796.96,
          27405.99,
          28015,
          28624.03,
          29488.23,
          30102.57,
          30716.91,
          31331.26,
          31945.59,
          32559.93,
          33174.27,
          33788.61,
          34402.94,
          35017.28,
          35631.62,
          36245.95,
          36860.29,
          37474.63,
          38088.98,
          38703.31,
          39317.65,
          39931.99,
          40546.33,
          41160.66,
          41775,
          42389.34,
          43003.68
         ],
         "yaxis": "y"
        },
        {
         "hovertemplate": "down_pay=60000<br>value_loan=%{x}<br>two_year_cum_eq=%{y}<extra></extra>",
         "legendgroup": "60000",
         "line": {
          "color": "#ab63fa",
          "dash": "solid"
         },
         "mode": "lines",
         "name": "60000",
         "orientation": "v",
         "showlegend": true,
         "type": "scatter",
         "x": [
          400000,
          410000,
          420000,
          430000,
          440000,
          450000,
          460000,
          470000,
          480000,
          490000,
          500000,
          510000,
          520000,
          530000,
          540000,
          550000,
          560000,
          570000,
          580000,
          590000,
          600000,
          610000,
          620000,
          630000,
          640000,
          650000,
          660000,
          670000,
          680000,
          690000,
          700000,
          710000,
          720000,
          730000,
          740000,
          750000,
          760000,
          770000,
          780000,
          790000
         ],
         "xaxis": "x",
         "y": [
          20706.75,
          21315.76,
          21924.79,
          22533.81,
          23142.84,
          23751.85,
          24360.88,
          24969.9,
          25578.91,
          26187.94,
          26796.96,
          27405.99,
          28015,
          28624.03,
          29233.05,
          29842.08,
          30451.09,
          31060.12,
          31669.14,
          32278.16,
          32887.18,
          33496.2,
          34105.23,
          34714.24,
          35631.62,
          36245.95,
          36860.29,
          37474.63,
          38088.98,
          38703.31,
          39317.65,
          39931.99,
          40546.33,
          41160.66,
          41775,
          42389.34,
          43003.68,
          43618.01,
          44232.35,
          44846.7
         ],
         "yaxis": "y"
        },
        {
         "hovertemplate": "down_pay=70000<br>value_loan=%{x}<br>two_year_cum_eq=%{y}<extra></extra>",
         "legendgroup": "70000",
         "line": {
          "color": "#FFA15A",
          "dash": "solid"
         },
         "mode": "lines",
         "name": "70000",
         "orientation": "v",
         "showlegend": true,
         "type": "scatter",
         "x": [
          400000,
          410000,
          420000,
          430000,
          440000,
          450000,
          460000,
          470000,
          480000,
          490000,
          500000,
          510000,
          520000,
          530000,
          540000,
          550000,
          560000,
          570000,
          580000,
          590000,
          600000,
          610000,
          620000,
          630000,
          640000,
          650000,
          660000,
          670000,
          680000,
          690000,
          700000,
          710000,
          720000,
          730000,
          740000,
          750000,
          760000,
          770000,
          780000,
          790000
         ],
         "xaxis": "x",
         "y": [
          20039.24,
          20646.5,
          21253.74,
          21860.99,
          22468.24,
          23075.49,
          23751.85,
          24360.88,
          24969.9,
          25578.91,
          26187.94,
          26796.96,
          27405.99,
          28015,
          28624.03,
          29233.05,
          29842.08,
          30451.09,
          31060.12,
          31669.14,
          32278.16,
          32887.18,
          33496.2,
          34105.23,
          34714.24,
          35323.27,
          35932.29,
          36541.31,
          37150.33,
          37759.36,
          38368.38,
          38977.4,
          39586.42,
          40195.45,
          41160.66,
          41775,
          42389.34,
          43003.68,
          43618.01,
          44232.35
         ],
         "yaxis": "y"
        },
        {
         "hovertemplate": "down_pay=80000<br>value_loan=%{x}<br>two_year_cum_eq=%{y}<extra></extra>",
         "legendgroup": "80000",
         "line": {
          "color": "#19d3f3",
          "dash": "solid"
         },
         "mode": "lines",
         "name": "80000",
         "orientation": "v",
         "showlegend": true,
         "type": "scatter",
         "x": [
          400000,
          410000,
          420000,
          430000,
          440000,
          450000,
          460000,
          470000,
          480000,
          490000,
          500000,
          510000,
          520000,
          530000,
          540000,
          550000,
          560000,
          570000,
          580000,
          590000,
          600000,
          610000,
          620000,
          630000,
          640000,
          650000,
          660000,
          670000,
          680000,
          690000,
          700000,
          710000,
          720000,
          730000,
          740000,
          750000,
          760000,
          770000,
          780000,
          790000
         ],
         "xaxis": "x",
         "y": [
          18902.72,
          19493.43,
          20646.5,
          21253.74,
          21860.99,
          22468.24,
          23075.49,
          23682.74,
          24289.99,
          24897.24,
          25504.49,
          26111.74,
          26796.96,
          27405.99,
          28015,
          28624.03,
          29233.05,
          29842.08,
          30451.09,
          31060.12,
          31669.14,
          32278.16,
          32887.18,
          33496.2,
          34105.23,
          34714.24,
          35323.27,
          35932.29,
          36541.31,
          37150.33,
          37759.36,
          38368.38,
          38977.4,
          39586.42,
          40195.45,
          40804.47,
          41413.48,
          42022.51,
          42631.53,
          43240.55
         ],
         "yaxis": "y"
        },
        {
         "hovertemplate": "down_pay=90000<br>value_loan=%{x}<br>two_year_cum_eq=%{y}<extra></extra>",
         "legendgroup": "90000",
         "line": {
          "color": "#FF6692",
          "dash": "solid"
         },
         "mode": "lines",
         "name": "90000",
         "orientation": "v",
         "showlegend": true,
         "type": "scatter",
         "x": [
          400000,
          410000,
          420000,
          430000,
          440000,
          450000,
          460000,
          470000,
          480000,
          490000,
          500000,
          510000,
          520000,
          530000,
          540000,
          550000,
          560000,
          570000,
          580000,
          590000,
          600000,
          610000,
          620000,
          630000,
          640000,
          650000,
          660000,
          670000,
          680000,
          690000,
          700000,
          710000,
          720000,
          730000,
          740000,
          750000,
          760000,
          770000,
          780000,
          790000
         ],
         "xaxis": "x",
         "y": [
          18312.01,
          18902.72,
          19493.43,
          20084.14,
          20674.85,
          21265.56,
          21856.27,
          23075.49,
          23682.74,
          24289.99,
          24897.24,
          25504.49,
          26111.74,
          26718.99,
          27326.23,
          27933.49,
          28540.74,
          29147.99,
          29755.23,
          30451.09,
          31060.12,
          31669.14,
          32278.16,
          32887.18,
          33496.2,
          34105.23,
          34714.24,
          35323.27,
          35932.29,
          36541.31,
          37150.33,
          37759.36,
          38368.38,
          38977.4,
          39586.42,
          40195.45,
          40804.47,
          41413.48,
          42022.51,
          42631.53
         ],
         "yaxis": "y"
        },
        {
         "hovertemplate": "down_pay=100000<br>value_loan=%{x}<br>two_year_cum_eq=%{y}<extra></extra>",
         "legendgroup": "100000",
         "line": {
          "color": "#B6E880",
          "dash": "solid"
         },
         "mode": "lines",
         "name": "100000",
         "orientation": "v",
         "showlegend": true,
         "type": "scatter",
         "x": [
          400000,
          410000,
          420000,
          430000,
          440000,
          450000,
          460000,
          470000,
          480000,
          490000,
          500000,
          510000,
          520000,
          530000,
          540000,
          550000,
          560000,
          570000,
          580000,
          590000,
          600000,
          610000,
          620000,
          630000,
          640000,
          650000,
          660000,
          670000,
          680000,
          690000,
          700000,
          710000,
          720000,
          730000,
          740000,
          750000,
          760000,
          770000,
          780000,
          790000
         ],
         "xaxis": "x",
         "y": [
          17721.29,
          18312.01,
          18902.72,
          19493.43,
          20084.14,
          20674.85,
          21265.56,
          21856.27,
          22446.98,
          23037.69,
          23628.4,
          24219.11,
          25504.49,
          26111.74,
          26718.99,
          27326.23,
          27933.49,
          28540.74,
          29147.99,
          29755.23,
          30362.49,
          30969.74,
          31576.98,
          32184.23,
          32791.49,
          33496.2,
          34105.23,
          34714.24,
          35323.27,
          35932.29,
          36541.31,
          37150.33,
          37759.36,
          38368.38,
          38977.4,
          39586.42,
          40195.45,
          40804.47,
          41413.48,
          42022.51
         ],
         "yaxis": "y"
        },
        {
         "hovertemplate": "down_pay=110000<br>value_loan=%{x}<br>two_year_cum_eq=%{y}<extra></extra>",
         "legendgroup": "110000",
         "line": {
          "color": "#FF97FF",
          "dash": "solid"
         },
         "mode": "lines",
         "name": "110000",
         "orientation": "v",
         "showlegend": true,
         "type": "scatter",
         "x": [
          400000,
          410000,
          420000,
          430000,
          440000,
          450000,
          460000,
          470000,
          480000,
          490000,
          500000,
          510000,
          520000,
          530000,
          540000,
          550000,
          560000,
          570000,
          580000,
          590000,
          600000,
          610000,
          620000,
          630000,
          640000,
          650000,
          660000,
          670000,
          680000,
          690000,
          700000,
          710000,
          720000,
          730000,
          740000,
          750000,
          760000,
          770000,
          780000,
          790000
         ],
         "xaxis": "x",
         "y": [
          17130.58,
          17721.29,
          18312.01,
          18902.72,
          19493.43,
          20084.14,
          20674.85,
          21265.56,
          21856.27,
          22446.98,
          23037.69,
          23628.4,
          24219.11,
          24809.82,
          25400.53,
          25991.24,
          26581.95,
          27933.49,
          28540.74,
          29147.99,
          29755.23,
          30362.49,
          30969.74,
          31576.98,
          32184.23,
          32791.49,
          33398.74,
          34005.98,
          34613.23,
          35220.49,
          35827.74,
          36541.31,
          37150.33,
          37759.36,
          38368.38,
          38977.4,
          39586.42,
          40195.45,
          40804.47,
          41413.48
         ],
         "yaxis": "y"
        },
        {
         "hovertemplate": "down_pay=120000<br>value_loan=%{x}<br>two_year_cum_eq=%{y}<extra></extra>",
         "legendgroup": "120000",
         "line": {
          "color": "#FECB52",
          "dash": "solid"
         },
         "mode": "lines",
         "name": "120000",
         "orientation": "v",
         "showlegend": true,
         "type": "scatter",
         "x": [
          400000,
          410000,
          420000,
          430000,
          440000,
          450000,
          460000,
          470000,
          480000,
          490000,
          500000,
          510000,
          520000,
          530000,
          540000,
          550000,
          560000,
          570000,
          580000,
          590000,
          600000,
          610000,
          620000,
          630000,
          640000,
          650000,
          660000,
          670000,
          680000,
          690000,
          700000,
          710000,
          720000,
          730000,
          740000,
          750000,
          760000,
          770000,
          780000,
          790000
         ],
         "xaxis": "x",
         "y": [
          16539.87,
          17130.58,
          17721.29,
          18312.01,
          18902.72,
          19493.43,
          20084.14,
          20674.85,
          21265.56,
          21856.27,
          22446.98,
          23037.69,
          23628.4,
          24219.11,
          24809.82,
          25400.53,
          25991.24,
          26581.95,
          27172.66,
          27763.37,
          28354.08,
          28944.79,
          30362.49,
          30969.74,
          31576.98,
          32184.23,
          32791.49,
          33398.74,
          34005.98,
          34613.23,
          35220.49,
          35827.74,
          36434.98,
          37042.23,
          37649.49,
          38256.73,
          38863.98,
          39471.23,
          40195.45,
          40804.47
         ],
         "yaxis": "y"
        },
        {
         "hovertemplate": "down_pay=130000<br>value_loan=%{x}<br>two_year_cum_eq=%{y}<extra></extra>",
         "legendgroup": "130000",
         "line": {
          "color": "#636efa",
          "dash": "solid"
         },
         "mode": "lines",
         "name": "130000",
         "orientation": "v",
         "showlegend": true,
         "type": "scatter",
         "x": [
          400000,
          410000,
          420000,
          430000,
          440000,
          450000,
          460000,
          470000,
          480000,
          490000,
          500000,
          510000,
          520000,
          530000,
          540000,
          550000,
          560000,
          570000,
          580000,
          590000,
          600000,
          610000,
          620000,
          630000,
          640000,
          650000,
          660000,
          670000,
          680000,
          690000,
          700000,
          710000,
          720000,
          730000,
          740000,
          750000,
          760000,
          770000,
          780000,
          790000
         ],
         "xaxis": "x",
         "y": [
          15949.16,
          16539.87,
          17130.58,
          17721.29,
          18312.01,
          18902.72,
          19493.43,
          20084.14,
          20674.85,
          21265.56,
          21856.27,
          22446.98,
          23037.69,
          23628.4,
          24219.11,
          24809.82,
          25400.53,
          25991.24,
          26581.95,
          27172.66,
          27763.37,
          28354.08,
          28944.79,
          29535.5,
          30126.21,
          30716.91,
          31307.62,
          32791.49,
          33398.74,
          34005.98,
          34613.23,
          35220.49,
          35827.74,
          36434.98,
          37042.23,
          37649.49,
          38256.73,
          38863.98,
          39471.23,
          40078.49
         ],
         "yaxis": "y"
        },
        {
         "hovertemplate": "down_pay=140000<br>value_loan=%{x}<br>two_year_cum_eq=%{y}<extra></extra>",
         "legendgroup": "140000",
         "line": {
          "color": "#EF553B",
          "dash": "solid"
         },
         "mode": "lines",
         "name": "140000",
         "orientation": "v",
         "showlegend": true,
         "type": "scatter",
         "x": [
          400000,
          410000,
          420000,
          430000,
          440000,
          450000,
          460000,
          470000,
          480000,
          490000,
          500000,
          510000,
          520000,
          530000,
          540000,
          550000,
          560000,
          570000,
          580000,
          590000,
          600000,
          610000,
          620000,
          630000,
          640000,
          650000,
          660000,
          670000,
          680000,
          690000,
          700000,
          710000,
          720000,
          730000,
          740000,
          750000,
          760000,
          770000,
          780000,
          790000
         ],
         "xaxis": "x",
         "y": [
          15358.45,
          15949.16,
          16539.87,
          17130.58,
          17721.29,
          18312.01,
          18902.72,
          19493.43,
          20084.14,
          20674.85,
          21265.56,
          21856.27,
          22446.98,
          23037.69,
          23628.4,
          24219.11,
          24809.82,
          25400.53,
          25991.24,
          26581.95,
          27172.66,
          27763.37,
          28354.08,
          28944.79,
          29535.5,
          30126.21,
          30716.91,
          31307.62,
          31898.33,
          32489.04,
          33079.75,
          33670.46,
          35220.49,
          35827.74,
          36434.98,
          37042.23,
          37649.49,
          38256.73,
          38863.98,
          39471.23
         ],
         "yaxis": "y"
        },
        {
         "hovertemplate": "down_pay=150000<br>value_loan=%{x}<br>two_year_cum_eq=%{y}<extra></extra>",
         "legendgroup": "150000",
         "line": {
          "color": "#00cc96",
          "dash": "solid"
         },
         "mode": "lines",
         "name": "150000",
         "orientation": "v",
         "showlegend": true,
         "type": "scatter",
         "x": [
          400000,
          410000,
          420000,
          430000,
          440000,
          450000,
          460000,
          470000,
          480000,
          490000,
          500000,
          510000,
          520000,
          530000,
          540000,
          550000,
          560000,
          570000,
          580000,
          590000,
          600000,
          610000,
          620000,
          630000,
          640000,
          650000,
          660000,
          670000,
          680000,
          690000,
          700000,
          710000,
          720000,
          730000,
          740000,
          750000,
          760000,
          770000,
          780000,
          790000
         ],
         "xaxis": "x",
         "y": [
          14767.74,
          15358.45,
          15949.16,
          16539.87,
          17130.58,
          17721.29,
          18312.01,
          18902.72,
          19493.43,
          20084.14,
          20674.85,
          21265.56,
          21856.27,
          22446.98,
          23037.69,
          23628.4,
          24219.11,
          24809.82,
          25400.53,
          25991.24,
          26581.95,
          27172.66,
          27763.37,
          28354.08,
          28944.79,
          29535.5,
          30126.21,
          30716.91,
          31307.62,
          31898.33,
          32489.04,
          33079.75,
          33670.46,
          34261.17,
          34851.88,
          35442.59,
          36033.3,
          37649.49,
          38256.73,
          38863.98
         ],
         "yaxis": "y"
        }
       ],
       "layout": {
        "legend": {
         "title": {
          "text": "down_pay"
         },
         "tracegroupgap": 0
        },
        "margin": {
         "t": 60
        },
        "template": {
         "data": {
          "bar": [
           {
            "error_x": {
             "color": "#2a3f5f"
            },
            "error_y": {
             "color": "#2a3f5f"
            },
            "marker": {
             "line": {
              "color": "#E5ECF6",
              "width": 0.5
             }
            },
            "type": "bar"
           }
          ],
          "barpolar": [
           {
            "marker": {
             "line": {
              "color": "#E5ECF6",
              "width": 0.5
             }
            },
            "type": "barpolar"
           }
          ],
          "carpet": [
           {
            "aaxis": {
             "endlinecolor": "#2a3f5f",
             "gridcolor": "white",
             "linecolor": "white",
             "minorgridcolor": "white",
             "startlinecolor": "#2a3f5f"
            },
            "baxis": {
             "endlinecolor": "#2a3f5f",
             "gridcolor": "white",
             "linecolor": "white",
             "minorgridcolor": "white",
             "startlinecolor": "#2a3f5f"
            },
            "type": "carpet"
           }
          ],
          "choropleth": [
           {
            "colorbar": {
             "outlinewidth": 0,
             "ticks": ""
            },
            "type": "choropleth"
           }
          ],
          "contour": [
           {
            "colorbar": {
             "outlinewidth": 0,
             "ticks": ""
            },
            "colorscale": [
             [
              0,
              "#0d0887"
             ],
             [
              0.1111111111111111,
              "#46039f"
             ],
             [
              0.2222222222222222,
              "#7201a8"
             ],
             [
              0.3333333333333333,
              "#9c179e"
             ],
             [
              0.4444444444444444,
              "#bd3786"
             ],
             [
              0.5555555555555556,
              "#d8576b"
             ],
             [
              0.6666666666666666,
              "#ed7953"
             ],
             [
              0.7777777777777778,
              "#fb9f3a"
             ],
             [
              0.8888888888888888,
              "#fdca26"
             ],
             [
              1,
              "#f0f921"
             ]
            ],
            "type": "contour"
           }
          ],
          "contourcarpet": [
           {
            "colorbar": {
             "outlinewidth": 0,
             "ticks": ""
            },
            "type": "contourcarpet"
           }
          ],
          "heatmap": [
           {
            "colorbar": {
             "outlinewidth": 0,
             "ticks": ""
            },
            "colorscale": [
             [
              0,
              "#0d0887"
             ],
             [
              0.1111111111111111,
              "#46039f"
             ],
             [
              0.2222222222222222,
              "#7201a8"
             ],
             [
              0.3333333333333333,
              "#9c179e"
             ],
             [
              0.4444444444444444,
              "#bd3786"
             ],
             [
              0.5555555555555556,
              "#d8576b"
             ],
             [
              0.6666666666666666,
              "#ed7953"
             ],
             [
              0.7777777777777778,
              "#fb9f3a"
             ],
             [
              0.8888888888888888,
              "#fdca26"
             ],
             [
              1,
              "#f0f921"
             ]
            ],
            "type": "heatmap"
           }
          ],
          "heatmapgl": [
           {
            "colorbar": {
             "outlinewidth": 0,
             "ticks": ""
            },
            "colorscale": [
             [
              0,
              "#0d0887"
             ],
             [
              0.1111111111111111,
              "#46039f"
             ],
             [
              0.2222222222222222,
              "#7201a8"
             ],
             [
              0.3333333333333333,
              "#9c179e"
             ],
             [
              0.4444444444444444,
              "#bd3786"
             ],
             [
              0.5555555555555556,
              "#d8576b"
             ],
             [
              0.6666666666666666,
              "#ed7953"
             ],
             [
              0.7777777777777778,
              "#fb9f3a"
             ],
             [
              0.8888888888888888,
              "#fdca26"
             ],
             [
              1,
              "#f0f921"
             ]
            ],
            "type": "heatmapgl"
           }
          ],
          "histogram": [
           {
            "marker": {
             "colorbar": {
              "outlinewidth": 0,
              "ticks": ""
             }
            },
            "type": "histogram"
           }
          ],
          "histogram2d": [
           {
            "colorbar": {
             "outlinewidth": 0,
             "ticks": ""
            },
            "colorscale": [
             [
              0,
              "#0d0887"
             ],
             [
              0.1111111111111111,
              "#46039f"
             ],
             [
              0.2222222222222222,
              "#7201a8"
             ],
             [
              0.3333333333333333,
              "#9c179e"
             ],
             [
              0.4444444444444444,
              "#bd3786"
             ],
             [
              0.5555555555555556,
              "#d8576b"
             ],
             [
              0.6666666666666666,
              "#ed7953"
             ],
             [
              0.7777777777777778,
              "#fb9f3a"
             ],
             [
              0.8888888888888888,
              "#fdca26"
             ],
             [
              1,
              "#f0f921"
             ]
            ],
            "type": "histogram2d"
           }
          ],
          "histogram2dcontour": [
           {
            "colorbar": {
             "outlinewidth": 0,
             "ticks": ""
            },
            "colorscale": [
             [
              0,
              "#0d0887"
             ],
             [
              0.1111111111111111,
              "#46039f"
             ],
             [
              0.2222222222222222,
              "#7201a8"
             ],
             [
              0.3333333333333333,
              "#9c179e"
             ],
             [
              0.4444444444444444,
              "#bd3786"
             ],
             [
              0.5555555555555556,
              "#d8576b"
             ],
             [
              0.6666666666666666,
              "#ed7953"
             ],
             [
              0.7777777777777778,
              "#fb9f3a"
             ],
             [
              0.8888888888888888,
              "#fdca26"
             ],
             [
              1,
              "#f0f921"
             ]
            ],
            "type": "histogram2dcontour"
           }
          ],
          "mesh3d": [
           {
            "colorbar": {
             "outlinewidth": 0,
             "ticks": ""
            },
            "type": "mesh3d"
           }
          ],
          "parcoords": [
           {
            "line": {
             "colorbar": {
              "outlinewidth": 0,
              "ticks": ""
             }
            },
            "type": "parcoords"
           }
          ],
          "pie": [
           {
            "automargin": true,
            "type": "pie"
           }
          ],
          "scatter": [
           {
            "marker": {
             "colorbar": {
              "outlinewidth": 0,
              "ticks": ""
             }
            },
            "type": "scatter"
           }
          ],
          "scatter3d": [
           {
            "line": {
             "colorbar": {
              "outlinewidth": 0,
              "ticks": ""
             }
            },
            "marker": {
             "colorbar": {
              "outlinewidth": 0,
              "ticks": ""
             }
            },
            "type": "scatter3d"
           }
          ],
          "scattercarpet": [
           {
            "marker": {
             "colorbar": {
              "outlinewidth": 0,
              "ticks": ""
             }
            },
            "type": "scattercarpet"
           }
          ],
          "scattergeo": [
           {
            "marker": {
             "colorbar": {
              "outlinewidth": 0,
              "ticks": ""
             }
            },
            "type": "scattergeo"
           }
          ],
          "scattergl": [
           {
            "marker": {
             "colorbar": {
              "outlinewidth": 0,
              "ticks": ""
             }
            },
            "type": "scattergl"
           }
          ],
          "scattermapbox": [
           {
            "marker": {
             "colorbar": {
              "outlinewidth": 0,
              "ticks": ""
             }
            },
            "type": "scattermapbox"
           }
          ],
          "scatterpolar": [
           {
            "marker": {
             "colorbar": {
              "outlinewidth": 0,
              "ticks": ""
             }
            },
            "type": "scatterpolar"
           }
          ],
          "scatterpolargl": [
           {
            "marker": {
             "colorbar": {
              "outlinewidth": 0,
              "ticks": ""
             }
            },
            "type": "scatterpolargl"
           }
          ],
          "scatterternary": [
           {
            "marker": {
             "colorbar": {
              "outlinewidth": 0,
              "ticks": ""
             }
            },
            "type": "scatterternary"
           }
          ],
          "surface": [
           {
            "colorbar": {
             "outlinewidth": 0,
             "ticks": ""
            },
            "colorscale": [
             [
              0,
              "#0d0887"
             ],
             [
              0.1111111111111111,
              "#46039f"
             ],
             [
              0.2222222222222222,
              "#7201a8"
             ],
             [
              0.3333333333333333,
              "#9c179e"
             ],
             [
              0.4444444444444444,
              "#bd3786"
             ],
             [
              0.5555555555555556,
              "#d8576b"
             ],
             [
              0.6666666666666666,
              "#ed7953"
             ],
             [
              0.7777777777777778,
              "#fb9f3a"
             ],
             [
              0.8888888888888888,
              "#fdca26"
             ],
             [
              1,
              "#f0f921"
             ]
            ],
            "type": "surface"
           }
          ],
          "table": [
           {
            "cells": {
             "fill": {
              "color": "#EBF0F8"
             },
             "line": {
              "color": "white"
             }
            },
            "header": {
             "fill": {
              "color": "#C8D4E3"
             },
             "line": {
              "color": "white"
             }
            },
            "type": "table"
           }
          ]
         },
         "layout": {
          "annotationdefaults": {
           "arrowcolor": "#2a3f5f",
           "arrowhead": 0,
           "arrowwidth": 1
          },
          "autotypenumbers": "strict",
          "coloraxis": {
           "colorbar": {
            "outlinewidth": 0,
            "ticks": ""
           }
          },
          "colorscale": {
           "diverging": [
            [
             0,
             "#8e0152"
            ],
            [
             0.1,
             "#c51b7d"
            ],
            [
             0.2,
             "#de77ae"
            ],
            [
             0.3,
             "#f1b6da"
            ],
            [
             0.4,
             "#fde0ef"
            ],
            [
             0.5,
             "#f7f7f7"
            ],
            [
             0.6,
             "#e6f5d0"
            ],
            [
             0.7,
             "#b8e186"
            ],
            [
             0.8,
             "#7fbc41"
            ],
            [
             0.9,
             "#4d9221"
            ],
            [
             1,
             "#276419"
            ]
           ],
           "sequential": [
            [
             0,
             "#0d0887"
            ],
            [
             0.1111111111111111,
             "#46039f"
            ],
            [
             0.2222222222222222,
             "#7201a8"
            ],
            [
             0.3333333333333333,
             "#9c179e"
            ],
            [
             0.4444444444444444,
             "#bd3786"
            ],
            [
             0.5555555555555556,
             "#d8576b"
            ],
            [
             0.6666666666666666,
             "#ed7953"
            ],
            [
             0.7777777777777778,
             "#fb9f3a"
            ],
            [
             0.8888888888888888,
             "#fdca26"
            ],
            [
             1,
             "#f0f921"
            ]
           ],
           "sequentialminus": [
            [
             0,
             "#0d0887"
            ],
            [
             0.1111111111111111,
             "#46039f"
            ],
            [
             0.2222222222222222,
             "#7201a8"
            ],
            [
             0.3333333333333333,
             "#9c179e"
            ],
            [
             0.4444444444444444,
             "#bd3786"
            ],
            [
             0.5555555555555556,
             "#d8576b"
            ],
            [
             0.6666666666666666,
             "#ed7953"
            ],
            [
             0.7777777777777778,
             "#fb9f3a"
            ],
            [
             0.8888888888888888,
             "#fdca26"
            ],
            [
             1,
             "#f0f921"
            ]
           ]
          },
          "colorway": [
           "#636efa",
           "#EF553B",
           "#00cc96",
           "#ab63fa",
           "#FFA15A",
           "#19d3f3",
           "#FF6692",
           "#B6E880",
           "#FF97FF",
           "#FECB52"
          ],
          "font": {
           "color": "#2a3f5f"
          },
          "geo": {
           "bgcolor": "white",
           "lakecolor": "white",
           "landcolor": "#E5ECF6",
           "showlakes": true,
           "showland": true,
           "subunitcolor": "white"
          },
          "hoverlabel": {
           "align": "left"
          },
          "hovermode": "closest",
          "mapbox": {
           "style": "light"
          },
          "paper_bgcolor": "white",
          "plot_bgcolor": "#E5ECF6",
          "polar": {
           "angularaxis": {
            "gridcolor": "white",
            "linecolor": "white",
            "ticks": ""
           },
           "bgcolor": "#E5ECF6",
           "radialaxis": {
            "gridcolor": "white",
            "linecolor": "white",
            "ticks": ""
           }
          },
          "scene": {
           "xaxis": {
            "backgroundcolor": "#E5ECF6",
            "gridcolor": "white",
            "gridwidth": 2,
            "linecolor": "white",
            "showbackground": true,
            "ticks": "",
            "zerolinecolor": "white"
           },
           "yaxis": {
            "backgroundcolor": "#E5ECF6",
            "gridcolor": "white",
            "gridwidth": 2,
            "linecolor": "white",
            "showbackground": true,
            "ticks": "",
            "zerolinecolor": "white"
           },
           "zaxis": {
            "backgroundcolor": "#E5ECF6",
            "gridcolor": "white",
            "gridwidth": 2,
            "linecolor": "white",
            "showbackground": true,
            "ticks": "",
            "zerolinecolor": "white"
           }
          },
          "shapedefaults": {
           "line": {
            "color": "#2a3f5f"
           }
          },
          "ternary": {
           "aaxis": {
            "gridcolor": "white",
            "linecolor": "white",
            "ticks": ""
           },
           "baxis": {
            "gridcolor": "white",
            "linecolor": "white",
            "ticks": ""
           },
           "bgcolor": "#E5ECF6",
           "caxis": {
            "gridcolor": "white",
            "linecolor": "white",
            "ticks": ""
           }
          },
          "title": {
           "x": 0.05
          },
          "xaxis": {
           "automargin": true,
           "gridcolor": "white",
           "linecolor": "white",
           "ticks": "",
           "title": {
            "standoff": 15
           },
           "zerolinecolor": "white",
           "zerolinewidth": 2
          },
          "yaxis": {
           "automargin": true,
           "gridcolor": "white",
           "linecolor": "white",
           "ticks": "",
           "title": {
            "standoff": 15
           },
           "zerolinecolor": "white",
           "zerolinewidth": 2
          }
         }
        },
        "xaxis": {
         "anchor": "y",
         "domain": [
          0,
          1
         ],
         "title": {
          "text": "value_loan"
         }
        },
        "yaxis": {
         "anchor": "x",
         "domain": [
          0,
          1
         ],
         "title": {
          "text": "two_year_cum_eq"
         }
        }
       }
      },
      "text/html": [
       "<div>                            <div id=\"32fec469-1682-4859-8615-51ad2d8f4272\" class=\"plotly-graph-div\" style=\"height:525px; width:100%;\"></div>            <script type=\"text/javascript\">                require([\"plotly\"], function(Plotly) {                    window.PLOTLYENV=window.PLOTLYENV || {};                                    if (document.getElementById(\"32fec469-1682-4859-8615-51ad2d8f4272\")) {                    Plotly.newPlot(                        \"32fec469-1682-4859-8615-51ad2d8f4272\",                        [{\"hovertemplate\": \"down_pay=30000<br>value_loan=%{x}<br>two_year_cum_eq=%{y}<extra></extra>\", \"legendgroup\": \"30000\", \"line\": {\"color\": \"#636efa\", \"dash\": \"solid\"}, \"mode\": \"lines\", \"name\": \"30000\", \"orientation\": \"v\", \"showlegend\": true, \"type\": \"scatter\", \"x\": [400000, 410000, 420000, 430000, 440000, 450000, 460000, 470000, 480000, 490000, 500000, 510000, 520000, 530000, 540000, 550000], \"xaxis\": \"x\", \"y\": [22730.51, 23344.85, 23959.19, 24573.53, 25187.87, 25802.21, 26416.55, 27030.88, 27645.22, 28259.56, 28873.9, 29488.23, 30102.57, 30716.91, 31331.26, 31945.59], \"yaxis\": \"y\"}, {\"hovertemplate\": \"down_pay=40000<br>value_loan=%{x}<br>two_year_cum_eq=%{y}<extra></extra>\", \"legendgroup\": \"40000\", \"line\": {\"color\": \"#EF553B\", \"dash\": \"solid\"}, \"mode\": \"lines\", \"name\": \"40000\", \"orientation\": \"v\", \"showlegend\": true, \"type\": \"scatter\", \"x\": [400000, 410000, 420000, 430000, 440000, 450000, 460000, 470000, 480000, 490000, 500000, 510000, 520000, 530000, 540000, 550000, 560000, 570000, 580000, 590000, 600000, 610000, 620000, 630000, 640000, 650000], \"xaxis\": \"x\", \"y\": [21924.79, 22533.81, 23142.84, 23959.19, 24573.53, 25187.87, 25802.21, 26416.55, 27030.88, 27645.22, 28259.56, 28873.9, 29488.23, 30102.57, 30716.91, 31331.26, 31945.59, 32559.93, 33174.27, 33788.61, 34402.94, 35017.28, 35631.62, 36245.95, 36860.29, 37474.63], \"yaxis\": \"y\"}, {\"hovertemplate\": \"down_pay=50000<br>value_loan=%{x}<br>two_year_cum_eq=%{y}<extra></extra>\", \"legendgroup\": \"50000\", \"line\": {\"color\": \"#00cc96\", \"dash\": \"solid\"}, \"mode\": \"lines\", \"name\": \"50000\", \"orientation\": \"v\", \"showlegend\": true, \"type\": \"scatter\", \"x\": [400000, 410000, 420000, 430000, 440000, 450000, 460000, 470000, 480000, 490000, 500000, 510000, 520000, 530000, 540000, 550000, 560000, 570000, 580000, 590000, 600000, 610000, 620000, 630000, 640000, 650000, 660000, 670000, 680000, 690000, 700000, 710000, 720000, 730000, 740000, 750000], \"xaxis\": \"x\", \"y\": [21315.76, 21924.79, 22533.81, 23142.84, 23751.85, 24360.88, 24969.9, 25578.91, 26187.94, 26796.96, 27405.99, 28015.0, 28624.03, 29488.23, 30102.57, 30716.91, 31331.26, 31945.59, 32559.93, 33174.27, 33788.61, 34402.94, 35017.28, 35631.62, 36245.95, 36860.29, 37474.63, 38088.98, 38703.31, 39317.65, 39931.99, 40546.33, 41160.66, 41775.0, 42389.34, 43003.68], \"yaxis\": \"y\"}, {\"hovertemplate\": \"down_pay=60000<br>value_loan=%{x}<br>two_year_cum_eq=%{y}<extra></extra>\", \"legendgroup\": \"60000\", \"line\": {\"color\": \"#ab63fa\", \"dash\": \"solid\"}, \"mode\": \"lines\", \"name\": \"60000\", \"orientation\": \"v\", \"showlegend\": true, \"type\": \"scatter\", \"x\": [400000, 410000, 420000, 430000, 440000, 450000, 460000, 470000, 480000, 490000, 500000, 510000, 520000, 530000, 540000, 550000, 560000, 570000, 580000, 590000, 600000, 610000, 620000, 630000, 640000, 650000, 660000, 670000, 680000, 690000, 700000, 710000, 720000, 730000, 740000, 750000, 760000, 770000, 780000, 790000], \"xaxis\": \"x\", \"y\": [20706.75, 21315.76, 21924.79, 22533.81, 23142.84, 23751.85, 24360.88, 24969.9, 25578.91, 26187.94, 26796.96, 27405.99, 28015.0, 28624.03, 29233.05, 29842.08, 30451.09, 31060.12, 31669.14, 32278.16, 32887.18, 33496.2, 34105.23, 34714.24, 35631.62, 36245.95, 36860.29, 37474.63, 38088.98, 38703.31, 39317.65, 39931.99, 40546.33, 41160.66, 41775.0, 42389.34, 43003.68, 43618.01, 44232.35, 44846.7], \"yaxis\": \"y\"}, {\"hovertemplate\": \"down_pay=70000<br>value_loan=%{x}<br>two_year_cum_eq=%{y}<extra></extra>\", \"legendgroup\": \"70000\", \"line\": {\"color\": \"#FFA15A\", \"dash\": \"solid\"}, \"mode\": \"lines\", \"name\": \"70000\", \"orientation\": \"v\", \"showlegend\": true, \"type\": \"scatter\", \"x\": [400000, 410000, 420000, 430000, 440000, 450000, 460000, 470000, 480000, 490000, 500000, 510000, 520000, 530000, 540000, 550000, 560000, 570000, 580000, 590000, 600000, 610000, 620000, 630000, 640000, 650000, 660000, 670000, 680000, 690000, 700000, 710000, 720000, 730000, 740000, 750000, 760000, 770000, 780000, 790000], \"xaxis\": \"x\", \"y\": [20039.24, 20646.5, 21253.74, 21860.99, 22468.24, 23075.49, 23751.85, 24360.88, 24969.9, 25578.91, 26187.94, 26796.96, 27405.99, 28015.0, 28624.03, 29233.05, 29842.08, 30451.09, 31060.12, 31669.14, 32278.16, 32887.18, 33496.2, 34105.23, 34714.24, 35323.27, 35932.29, 36541.31, 37150.33, 37759.36, 38368.38, 38977.4, 39586.42, 40195.45, 41160.66, 41775.0, 42389.34, 43003.68, 43618.01, 44232.35], \"yaxis\": \"y\"}, {\"hovertemplate\": \"down_pay=80000<br>value_loan=%{x}<br>two_year_cum_eq=%{y}<extra></extra>\", \"legendgroup\": \"80000\", \"line\": {\"color\": \"#19d3f3\", \"dash\": \"solid\"}, \"mode\": \"lines\", \"name\": \"80000\", \"orientation\": \"v\", \"showlegend\": true, \"type\": \"scatter\", \"x\": [400000, 410000, 420000, 430000, 440000, 450000, 460000, 470000, 480000, 490000, 500000, 510000, 520000, 530000, 540000, 550000, 560000, 570000, 580000, 590000, 600000, 610000, 620000, 630000, 640000, 650000, 660000, 670000, 680000, 690000, 700000, 710000, 720000, 730000, 740000, 750000, 760000, 770000, 780000, 790000], \"xaxis\": \"x\", \"y\": [18902.72, 19493.43, 20646.5, 21253.74, 21860.99, 22468.24, 23075.49, 23682.74, 24289.99, 24897.24, 25504.49, 26111.74, 26796.96, 27405.99, 28015.0, 28624.03, 29233.05, 29842.08, 30451.09, 31060.12, 31669.14, 32278.16, 32887.18, 33496.2, 34105.23, 34714.24, 35323.27, 35932.29, 36541.31, 37150.33, 37759.36, 38368.38, 38977.4, 39586.42, 40195.45, 40804.47, 41413.48, 42022.51, 42631.53, 43240.55], \"yaxis\": \"y\"}, {\"hovertemplate\": \"down_pay=90000<br>value_loan=%{x}<br>two_year_cum_eq=%{y}<extra></extra>\", \"legendgroup\": \"90000\", \"line\": {\"color\": \"#FF6692\", \"dash\": \"solid\"}, \"mode\": \"lines\", \"name\": \"90000\", \"orientation\": \"v\", \"showlegend\": true, \"type\": \"scatter\", \"x\": [400000, 410000, 420000, 430000, 440000, 450000, 460000, 470000, 480000, 490000, 500000, 510000, 520000, 530000, 540000, 550000, 560000, 570000, 580000, 590000, 600000, 610000, 620000, 630000, 640000, 650000, 660000, 670000, 680000, 690000, 700000, 710000, 720000, 730000, 740000, 750000, 760000, 770000, 780000, 790000], \"xaxis\": \"x\", \"y\": [18312.01, 18902.72, 19493.43, 20084.14, 20674.85, 21265.56, 21856.27, 23075.49, 23682.74, 24289.99, 24897.24, 25504.49, 26111.74, 26718.99, 27326.23, 27933.49, 28540.74, 29147.99, 29755.23, 30451.09, 31060.12, 31669.14, 32278.16, 32887.18, 33496.2, 34105.23, 34714.24, 35323.27, 35932.29, 36541.31, 37150.33, 37759.36, 38368.38, 38977.4, 39586.42, 40195.45, 40804.47, 41413.48, 42022.51, 42631.53], \"yaxis\": \"y\"}, {\"hovertemplate\": \"down_pay=100000<br>value_loan=%{x}<br>two_year_cum_eq=%{y}<extra></extra>\", \"legendgroup\": \"100000\", \"line\": {\"color\": \"#B6E880\", \"dash\": \"solid\"}, \"mode\": \"lines\", \"name\": \"100000\", \"orientation\": \"v\", \"showlegend\": true, \"type\": \"scatter\", \"x\": [400000, 410000, 420000, 430000, 440000, 450000, 460000, 470000, 480000, 490000, 500000, 510000, 520000, 530000, 540000, 550000, 560000, 570000, 580000, 590000, 600000, 610000, 620000, 630000, 640000, 650000, 660000, 670000, 680000, 690000, 700000, 710000, 720000, 730000, 740000, 750000, 760000, 770000, 780000, 790000], \"xaxis\": \"x\", \"y\": [17721.29, 18312.01, 18902.72, 19493.43, 20084.14, 20674.85, 21265.56, 21856.27, 22446.98, 23037.69, 23628.4, 24219.11, 25504.49, 26111.74, 26718.99, 27326.23, 27933.49, 28540.74, 29147.99, 29755.23, 30362.49, 30969.74, 31576.98, 32184.23, 32791.49, 33496.2, 34105.23, 34714.24, 35323.27, 35932.29, 36541.31, 37150.33, 37759.36, 38368.38, 38977.4, 39586.42, 40195.45, 40804.47, 41413.48, 42022.51], \"yaxis\": \"y\"}, {\"hovertemplate\": \"down_pay=110000<br>value_loan=%{x}<br>two_year_cum_eq=%{y}<extra></extra>\", \"legendgroup\": \"110000\", \"line\": {\"color\": \"#FF97FF\", \"dash\": \"solid\"}, \"mode\": \"lines\", \"name\": \"110000\", \"orientation\": \"v\", \"showlegend\": true, \"type\": \"scatter\", \"x\": [400000, 410000, 420000, 430000, 440000, 450000, 460000, 470000, 480000, 490000, 500000, 510000, 520000, 530000, 540000, 550000, 560000, 570000, 580000, 590000, 600000, 610000, 620000, 630000, 640000, 650000, 660000, 670000, 680000, 690000, 700000, 710000, 720000, 730000, 740000, 750000, 760000, 770000, 780000, 790000], \"xaxis\": \"x\", \"y\": [17130.58, 17721.29, 18312.01, 18902.72, 19493.43, 20084.14, 20674.85, 21265.56, 21856.27, 22446.98, 23037.69, 23628.4, 24219.11, 24809.82, 25400.53, 25991.24, 26581.95, 27933.49, 28540.74, 29147.99, 29755.23, 30362.49, 30969.74, 31576.98, 32184.23, 32791.49, 33398.74, 34005.98, 34613.23, 35220.49, 35827.74, 36541.31, 37150.33, 37759.36, 38368.38, 38977.4, 39586.42, 40195.45, 40804.47, 41413.48], \"yaxis\": \"y\"}, {\"hovertemplate\": \"down_pay=120000<br>value_loan=%{x}<br>two_year_cum_eq=%{y}<extra></extra>\", \"legendgroup\": \"120000\", \"line\": {\"color\": \"#FECB52\", \"dash\": \"solid\"}, \"mode\": \"lines\", \"name\": \"120000\", \"orientation\": \"v\", \"showlegend\": true, \"type\": \"scatter\", \"x\": [400000, 410000, 420000, 430000, 440000, 450000, 460000, 470000, 480000, 490000, 500000, 510000, 520000, 530000, 540000, 550000, 560000, 570000, 580000, 590000, 600000, 610000, 620000, 630000, 640000, 650000, 660000, 670000, 680000, 690000, 700000, 710000, 720000, 730000, 740000, 750000, 760000, 770000, 780000, 790000], \"xaxis\": \"x\", \"y\": [16539.87, 17130.58, 17721.29, 18312.01, 18902.72, 19493.43, 20084.14, 20674.85, 21265.56, 21856.27, 22446.98, 23037.69, 23628.4, 24219.11, 24809.82, 25400.53, 25991.24, 26581.95, 27172.66, 27763.37, 28354.08, 28944.79, 30362.49, 30969.74, 31576.98, 32184.23, 32791.49, 33398.74, 34005.98, 34613.23, 35220.49, 35827.74, 36434.98, 37042.23, 37649.49, 38256.73, 38863.98, 39471.23, 40195.45, 40804.47], \"yaxis\": \"y\"}, {\"hovertemplate\": \"down_pay=130000<br>value_loan=%{x}<br>two_year_cum_eq=%{y}<extra></extra>\", \"legendgroup\": \"130000\", \"line\": {\"color\": \"#636efa\", \"dash\": \"solid\"}, \"mode\": \"lines\", \"name\": \"130000\", \"orientation\": \"v\", \"showlegend\": true, \"type\": \"scatter\", \"x\": [400000, 410000, 420000, 430000, 440000, 450000, 460000, 470000, 480000, 490000, 500000, 510000, 520000, 530000, 540000, 550000, 560000, 570000, 580000, 590000, 600000, 610000, 620000, 630000, 640000, 650000, 660000, 670000, 680000, 690000, 700000, 710000, 720000, 730000, 740000, 750000, 760000, 770000, 780000, 790000], \"xaxis\": \"x\", \"y\": [15949.16, 16539.87, 17130.58, 17721.29, 18312.01, 18902.72, 19493.43, 20084.14, 20674.85, 21265.56, 21856.27, 22446.98, 23037.69, 23628.4, 24219.11, 24809.82, 25400.53, 25991.24, 26581.95, 27172.66, 27763.37, 28354.08, 28944.79, 29535.5, 30126.21, 30716.91, 31307.62, 32791.49, 33398.74, 34005.98, 34613.23, 35220.49, 35827.74, 36434.98, 37042.23, 37649.49, 38256.73, 38863.98, 39471.23, 40078.49], \"yaxis\": \"y\"}, {\"hovertemplate\": \"down_pay=140000<br>value_loan=%{x}<br>two_year_cum_eq=%{y}<extra></extra>\", \"legendgroup\": \"140000\", \"line\": {\"color\": \"#EF553B\", \"dash\": \"solid\"}, \"mode\": \"lines\", \"name\": \"140000\", \"orientation\": \"v\", \"showlegend\": true, \"type\": \"scatter\", \"x\": [400000, 410000, 420000, 430000, 440000, 450000, 460000, 470000, 480000, 490000, 500000, 510000, 520000, 530000, 540000, 550000, 560000, 570000, 580000, 590000, 600000, 610000, 620000, 630000, 640000, 650000, 660000, 670000, 680000, 690000, 700000, 710000, 720000, 730000, 740000, 750000, 760000, 770000, 780000, 790000], \"xaxis\": \"x\", \"y\": [15358.45, 15949.16, 16539.87, 17130.58, 17721.29, 18312.01, 18902.72, 19493.43, 20084.14, 20674.85, 21265.56, 21856.27, 22446.98, 23037.69, 23628.4, 24219.11, 24809.82, 25400.53, 25991.24, 26581.95, 27172.66, 27763.37, 28354.08, 28944.79, 29535.5, 30126.21, 30716.91, 31307.62, 31898.33, 32489.04, 33079.75, 33670.46, 35220.49, 35827.74, 36434.98, 37042.23, 37649.49, 38256.73, 38863.98, 39471.23], \"yaxis\": \"y\"}, {\"hovertemplate\": \"down_pay=150000<br>value_loan=%{x}<br>two_year_cum_eq=%{y}<extra></extra>\", \"legendgroup\": \"150000\", \"line\": {\"color\": \"#00cc96\", \"dash\": \"solid\"}, \"mode\": \"lines\", \"name\": \"150000\", \"orientation\": \"v\", \"showlegend\": true, \"type\": \"scatter\", \"x\": [400000, 410000, 420000, 430000, 440000, 450000, 460000, 470000, 480000, 490000, 500000, 510000, 520000, 530000, 540000, 550000, 560000, 570000, 580000, 590000, 600000, 610000, 620000, 630000, 640000, 650000, 660000, 670000, 680000, 690000, 700000, 710000, 720000, 730000, 740000, 750000, 760000, 770000, 780000, 790000], \"xaxis\": \"x\", \"y\": [14767.74, 15358.45, 15949.16, 16539.87, 17130.58, 17721.29, 18312.01, 18902.72, 19493.43, 20084.14, 20674.85, 21265.56, 21856.27, 22446.98, 23037.69, 23628.4, 24219.11, 24809.82, 25400.53, 25991.24, 26581.95, 27172.66, 27763.37, 28354.08, 28944.79, 29535.5, 30126.21, 30716.91, 31307.62, 31898.33, 32489.04, 33079.75, 33670.46, 34261.17, 34851.88, 35442.59, 36033.3, 37649.49, 38256.73, 38863.98], \"yaxis\": \"y\"}],                        {\"legend\": {\"title\": {\"text\": \"down_pay\"}, \"tracegroupgap\": 0}, \"margin\": {\"t\": 60}, \"template\": {\"data\": {\"bar\": [{\"error_x\": {\"color\": \"#2a3f5f\"}, \"error_y\": {\"color\": \"#2a3f5f\"}, \"marker\": {\"line\": {\"color\": \"#E5ECF6\", \"width\": 0.5}}, \"type\": \"bar\"}], \"barpolar\": [{\"marker\": {\"line\": {\"color\": \"#E5ECF6\", \"width\": 0.5}}, \"type\": \"barpolar\"}], \"carpet\": [{\"aaxis\": {\"endlinecolor\": \"#2a3f5f\", \"gridcolor\": \"white\", \"linecolor\": \"white\", \"minorgridcolor\": \"white\", \"startlinecolor\": \"#2a3f5f\"}, \"baxis\": {\"endlinecolor\": \"#2a3f5f\", \"gridcolor\": \"white\", \"linecolor\": \"white\", \"minorgridcolor\": \"white\", \"startlinecolor\": \"#2a3f5f\"}, \"type\": \"carpet\"}], \"choropleth\": [{\"colorbar\": {\"outlinewidth\": 0, \"ticks\": \"\"}, \"type\": \"choropleth\"}], \"contour\": [{\"colorbar\": {\"outlinewidth\": 0, \"ticks\": \"\"}, \"colorscale\": [[0.0, \"#0d0887\"], [0.1111111111111111, \"#46039f\"], [0.2222222222222222, \"#7201a8\"], [0.3333333333333333, \"#9c179e\"], [0.4444444444444444, \"#bd3786\"], [0.5555555555555556, \"#d8576b\"], [0.6666666666666666, \"#ed7953\"], [0.7777777777777778, \"#fb9f3a\"], [0.8888888888888888, \"#fdca26\"], [1.0, \"#f0f921\"]], \"type\": \"contour\"}], \"contourcarpet\": [{\"colorbar\": {\"outlinewidth\": 0, \"ticks\": \"\"}, \"type\": \"contourcarpet\"}], \"heatmap\": [{\"colorbar\": {\"outlinewidth\": 0, \"ticks\": \"\"}, \"colorscale\": [[0.0, \"#0d0887\"], [0.1111111111111111, \"#46039f\"], [0.2222222222222222, \"#7201a8\"], [0.3333333333333333, \"#9c179e\"], [0.4444444444444444, \"#bd3786\"], [0.5555555555555556, \"#d8576b\"], [0.6666666666666666, \"#ed7953\"], [0.7777777777777778, \"#fb9f3a\"], [0.8888888888888888, \"#fdca26\"], [1.0, \"#f0f921\"]], \"type\": \"heatmap\"}], \"heatmapgl\": [{\"colorbar\": {\"outlinewidth\": 0, \"ticks\": \"\"}, \"colorscale\": [[0.0, \"#0d0887\"], [0.1111111111111111, \"#46039f\"], [0.2222222222222222, \"#7201a8\"], [0.3333333333333333, \"#9c179e\"], [0.4444444444444444, \"#bd3786\"], [0.5555555555555556, \"#d8576b\"], [0.6666666666666666, \"#ed7953\"], [0.7777777777777778, \"#fb9f3a\"], [0.8888888888888888, \"#fdca26\"], [1.0, \"#f0f921\"]], \"type\": \"heatmapgl\"}], \"histogram\": [{\"marker\": {\"colorbar\": {\"outlinewidth\": 0, \"ticks\": \"\"}}, \"type\": \"histogram\"}], \"histogram2d\": [{\"colorbar\": {\"outlinewidth\": 0, \"ticks\": \"\"}, \"colorscale\": [[0.0, \"#0d0887\"], [0.1111111111111111, \"#46039f\"], [0.2222222222222222, \"#7201a8\"], [0.3333333333333333, \"#9c179e\"], [0.4444444444444444, \"#bd3786\"], [0.5555555555555556, \"#d8576b\"], [0.6666666666666666, \"#ed7953\"], [0.7777777777777778, \"#fb9f3a\"], [0.8888888888888888, \"#fdca26\"], [1.0, \"#f0f921\"]], \"type\": \"histogram2d\"}], \"histogram2dcontour\": [{\"colorbar\": {\"outlinewidth\": 0, \"ticks\": \"\"}, \"colorscale\": [[0.0, \"#0d0887\"], [0.1111111111111111, \"#46039f\"], [0.2222222222222222, \"#7201a8\"], [0.3333333333333333, \"#9c179e\"], [0.4444444444444444, \"#bd3786\"], [0.5555555555555556, \"#d8576b\"], [0.6666666666666666, \"#ed7953\"], [0.7777777777777778, \"#fb9f3a\"], [0.8888888888888888, \"#fdca26\"], [1.0, \"#f0f921\"]], \"type\": \"histogram2dcontour\"}], \"mesh3d\": [{\"colorbar\": {\"outlinewidth\": 0, \"ticks\": \"\"}, \"type\": \"mesh3d\"}], \"parcoords\": [{\"line\": {\"colorbar\": {\"outlinewidth\": 0, \"ticks\": \"\"}}, \"type\": \"parcoords\"}], \"pie\": [{\"automargin\": true, \"type\": \"pie\"}], \"scatter\": [{\"marker\": {\"colorbar\": {\"outlinewidth\": 0, \"ticks\": \"\"}}, \"type\": \"scatter\"}], \"scatter3d\": [{\"line\": {\"colorbar\": {\"outlinewidth\": 0, \"ticks\": \"\"}}, \"marker\": {\"colorbar\": {\"outlinewidth\": 0, \"ticks\": \"\"}}, \"type\": \"scatter3d\"}], \"scattercarpet\": [{\"marker\": {\"colorbar\": {\"outlinewidth\": 0, \"ticks\": \"\"}}, \"type\": \"scattercarpet\"}], \"scattergeo\": [{\"marker\": {\"colorbar\": {\"outlinewidth\": 0, \"ticks\": \"\"}}, \"type\": \"scattergeo\"}], \"scattergl\": [{\"marker\": {\"colorbar\": {\"outlinewidth\": 0, \"ticks\": \"\"}}, \"type\": \"scattergl\"}], \"scattermapbox\": [{\"marker\": {\"colorbar\": {\"outlinewidth\": 0, \"ticks\": \"\"}}, \"type\": \"scattermapbox\"}], \"scatterpolar\": [{\"marker\": {\"colorbar\": {\"outlinewidth\": 0, \"ticks\": \"\"}}, \"type\": \"scatterpolar\"}], \"scatterpolargl\": [{\"marker\": {\"colorbar\": {\"outlinewidth\": 0, \"ticks\": \"\"}}, \"type\": \"scatterpolargl\"}], \"scatterternary\": [{\"marker\": {\"colorbar\": {\"outlinewidth\": 0, \"ticks\": \"\"}}, \"type\": \"scatterternary\"}], \"surface\": [{\"colorbar\": {\"outlinewidth\": 0, \"ticks\": \"\"}, \"colorscale\": [[0.0, \"#0d0887\"], [0.1111111111111111, \"#46039f\"], [0.2222222222222222, \"#7201a8\"], [0.3333333333333333, \"#9c179e\"], [0.4444444444444444, \"#bd3786\"], [0.5555555555555556, \"#d8576b\"], [0.6666666666666666, \"#ed7953\"], [0.7777777777777778, \"#fb9f3a\"], [0.8888888888888888, \"#fdca26\"], [1.0, \"#f0f921\"]], \"type\": \"surface\"}], \"table\": [{\"cells\": {\"fill\": {\"color\": \"#EBF0F8\"}, \"line\": {\"color\": \"white\"}}, \"header\": {\"fill\": {\"color\": \"#C8D4E3\"}, \"line\": {\"color\": \"white\"}}, \"type\": \"table\"}]}, \"layout\": {\"annotationdefaults\": {\"arrowcolor\": \"#2a3f5f\", \"arrowhead\": 0, \"arrowwidth\": 1}, \"autotypenumbers\": \"strict\", \"coloraxis\": {\"colorbar\": {\"outlinewidth\": 0, \"ticks\": \"\"}}, \"colorscale\": {\"diverging\": [[0, \"#8e0152\"], [0.1, \"#c51b7d\"], [0.2, \"#de77ae\"], [0.3, \"#f1b6da\"], [0.4, \"#fde0ef\"], [0.5, \"#f7f7f7\"], [0.6, \"#e6f5d0\"], [0.7, \"#b8e186\"], [0.8, \"#7fbc41\"], [0.9, \"#4d9221\"], [1, \"#276419\"]], \"sequential\": [[0.0, \"#0d0887\"], [0.1111111111111111, \"#46039f\"], [0.2222222222222222, \"#7201a8\"], [0.3333333333333333, \"#9c179e\"], [0.4444444444444444, \"#bd3786\"], [0.5555555555555556, \"#d8576b\"], [0.6666666666666666, \"#ed7953\"], [0.7777777777777778, \"#fb9f3a\"], [0.8888888888888888, \"#fdca26\"], [1.0, \"#f0f921\"]], \"sequentialminus\": [[0.0, \"#0d0887\"], [0.1111111111111111, \"#46039f\"], [0.2222222222222222, \"#7201a8\"], [0.3333333333333333, \"#9c179e\"], [0.4444444444444444, \"#bd3786\"], [0.5555555555555556, \"#d8576b\"], [0.6666666666666666, \"#ed7953\"], [0.7777777777777778, \"#fb9f3a\"], [0.8888888888888888, \"#fdca26\"], [1.0, \"#f0f921\"]]}, \"colorway\": [\"#636efa\", \"#EF553B\", \"#00cc96\", \"#ab63fa\", \"#FFA15A\", \"#19d3f3\", \"#FF6692\", \"#B6E880\", \"#FF97FF\", \"#FECB52\"], \"font\": {\"color\": \"#2a3f5f\"}, \"geo\": {\"bgcolor\": \"white\", \"lakecolor\": \"white\", \"landcolor\": \"#E5ECF6\", \"showlakes\": true, \"showland\": true, \"subunitcolor\": \"white\"}, \"hoverlabel\": {\"align\": \"left\"}, \"hovermode\": \"closest\", \"mapbox\": {\"style\": \"light\"}, \"paper_bgcolor\": \"white\", \"plot_bgcolor\": \"#E5ECF6\", \"polar\": {\"angularaxis\": {\"gridcolor\": \"white\", \"linecolor\": \"white\", \"ticks\": \"\"}, \"bgcolor\": \"#E5ECF6\", \"radialaxis\": {\"gridcolor\": \"white\", \"linecolor\": \"white\", \"ticks\": \"\"}}, \"scene\": {\"xaxis\": {\"backgroundcolor\": \"#E5ECF6\", \"gridcolor\": \"white\", \"gridwidth\": 2, \"linecolor\": \"white\", \"showbackground\": true, \"ticks\": \"\", \"zerolinecolor\": \"white\"}, \"yaxis\": {\"backgroundcolor\": \"#E5ECF6\", \"gridcolor\": \"white\", \"gridwidth\": 2, \"linecolor\": \"white\", \"showbackground\": true, \"ticks\": \"\", \"zerolinecolor\": \"white\"}, \"zaxis\": {\"backgroundcolor\": \"#E5ECF6\", \"gridcolor\": \"white\", \"gridwidth\": 2, \"linecolor\": \"white\", \"showbackground\": true, \"ticks\": \"\", \"zerolinecolor\": \"white\"}}, \"shapedefaults\": {\"line\": {\"color\": \"#2a3f5f\"}}, \"ternary\": {\"aaxis\": {\"gridcolor\": \"white\", \"linecolor\": \"white\", \"ticks\": \"\"}, \"baxis\": {\"gridcolor\": \"white\", \"linecolor\": \"white\", \"ticks\": \"\"}, \"bgcolor\": \"#E5ECF6\", \"caxis\": {\"gridcolor\": \"white\", \"linecolor\": \"white\", \"ticks\": \"\"}}, \"title\": {\"x\": 0.05}, \"xaxis\": {\"automargin\": true, \"gridcolor\": \"white\", \"linecolor\": \"white\", \"ticks\": \"\", \"title\": {\"standoff\": 15}, \"zerolinecolor\": \"white\", \"zerolinewidth\": 2}, \"yaxis\": {\"automargin\": true, \"gridcolor\": \"white\", \"linecolor\": \"white\", \"ticks\": \"\", \"title\": {\"standoff\": 15}, \"zerolinecolor\": \"white\", \"zerolinewidth\": 2}}}, \"xaxis\": {\"anchor\": \"y\", \"domain\": [0.0, 1.0], \"title\": {\"text\": \"value_loan\"}}, \"yaxis\": {\"anchor\": \"x\", \"domain\": [0.0, 1.0], \"title\": {\"text\": \"two_year_cum_eq\"}}},                        {\"responsive\": true}                    ).then(function(){\n",
       "                            \n",
       "var gd = document.getElementById('32fec469-1682-4859-8615-51ad2d8f4272');\n",
       "var x = new MutationObserver(function (mutations, observer) {{\n",
       "        var display = window.getComputedStyle(gd).display;\n",
       "        if (!display || display === 'none') {{\n",
       "            console.log([gd, 'removed!']);\n",
       "            Plotly.purge(gd);\n",
       "            observer.disconnect();\n",
       "        }}\n",
       "}});\n",
       "\n",
       "// Listen for the removal of the full notebook cells\n",
       "var notebookContainer = gd.closest('#notebook-container');\n",
       "if (notebookContainer) {{\n",
       "    x.observe(notebookContainer, {childList: true});\n",
       "}}\n",
       "\n",
       "// Listen for the clearing of the current output cell\n",
       "var outputEl = gd.closest('.output');\n",
       "if (outputEl) {{\n",
       "    x.observe(outputEl, {childList: true});\n",
       "}}\n",
       "\n",
       "                        })                };                });            </script>        </div>"
      ]
     },
     "metadata": {},
     "output_type": "display_data"
    }
   ],
   "source": [
    "Mort.plot_x_value_loan(\"two_year_cum_eq\", \"down_pay\")"
   ]
  },
  {
   "cell_type": "code",
   "execution_count": null,
   "metadata": {},
   "outputs": [],
   "source": []
  }
 ],
 "metadata": {
  "kernelspec": {
   "display_name": "Python 3",
   "language": "python",
   "name": "python3"
  },
  "language_info": {
   "codemirror_mode": {
    "name": "ipython",
    "version": 3
   },
   "file_extension": ".py",
   "mimetype": "text/x-python",
   "name": "python",
   "nbconvert_exporter": "python",
   "pygments_lexer": "ipython3",
   "version": "3.6.12"
  }
 },
 "nbformat": 4,
 "nbformat_minor": 4
}
